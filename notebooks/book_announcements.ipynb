{
 "cells": [
  {
   "cell_type": "code",
   "execution_count": 1,
   "id": "96139480",
   "metadata": {},
   "outputs": [
    {
     "name": "stdout",
     "output_type": "stream",
     "text": [
      "Defaulting to user installation because normal site-packages is not writeable\n",
      "Requirement already satisfied: pandas in /home/ucloud/.local/lib/python3.12/site-packages (2.3.0)\n",
      "Requirement already satisfied: numpy in /home/ucloud/.local/lib/python3.12/site-packages (2.3.1)\n",
      "Requirement already satisfied: matplotlib in /home/ucloud/.local/lib/python3.12/site-packages (3.10.3)\n",
      "Requirement already satisfied: seaborn in /home/ucloud/.local/lib/python3.12/site-packages (0.13.2)\n",
      "Collecting nltk\n",
      "  Downloading nltk-3.9.1-py3-none-any.whl.metadata (2.9 kB)\n",
      "Requirement already satisfied: tqdm in /home/ucloud/.local/lib/python3.12/site-packages (4.67.1)\n",
      "Requirement already satisfied: datasets in /home/ucloud/.local/lib/python3.12/site-packages (3.6.0)\n",
      "Requirement already satisfied: scikit-learn in /home/ucloud/.local/lib/python3.12/site-packages (1.7.0)\n",
      "Requirement already satisfied: python-dateutil>=2.8.2 in /home/ucloud/.local/lib/python3.12/site-packages (from pandas) (2.9.0.post0)\n",
      "Requirement already satisfied: pytz>=2020.1 in /home/ucloud/.local/lib/python3.12/site-packages (from pandas) (2025.2)\n",
      "Requirement already satisfied: tzdata>=2022.7 in /home/ucloud/.local/lib/python3.12/site-packages (from pandas) (2025.2)\n",
      "Requirement already satisfied: contourpy>=1.0.1 in /home/ucloud/.local/lib/python3.12/site-packages (from matplotlib) (1.3.2)\n",
      "Requirement already satisfied: cycler>=0.10 in /home/ucloud/.local/lib/python3.12/site-packages (from matplotlib) (0.12.1)\n",
      "Requirement already satisfied: fonttools>=4.22.0 in /home/ucloud/.local/lib/python3.12/site-packages (from matplotlib) (4.58.4)\n",
      "Requirement already satisfied: kiwisolver>=1.3.1 in /home/ucloud/.local/lib/python3.12/site-packages (from matplotlib) (1.4.8)\n",
      "Requirement already satisfied: packaging>=20.0 in /usr/lib/python3/dist-packages (from matplotlib) (24.0)\n",
      "Requirement already satisfied: pillow>=8 in /home/ucloud/.local/lib/python3.12/site-packages (from matplotlib) (11.2.1)\n",
      "Requirement already satisfied: pyparsing>=2.3.1 in /usr/lib/python3/dist-packages (from matplotlib) (3.1.1)\n",
      "Requirement already satisfied: click in /usr/lib/python3/dist-packages (from nltk) (8.1.6)\n",
      "Requirement already satisfied: joblib in /home/ucloud/.local/lib/python3.12/site-packages (from nltk) (1.5.1)\n",
      "Collecting regex>=2021.8.3 (from nltk)\n",
      "  Downloading regex-2024.11.6-cp312-cp312-manylinux_2_17_x86_64.manylinux2014_x86_64.whl.metadata (40 kB)\n",
      "Requirement already satisfied: filelock in /home/ucloud/.local/lib/python3.12/site-packages (from datasets) (3.18.0)\n",
      "Requirement already satisfied: pyarrow>=15.0.0 in /home/ucloud/.local/lib/python3.12/site-packages (from datasets) (20.0.0)\n",
      "Requirement already satisfied: dill<0.3.9,>=0.3.0 in /home/ucloud/.local/lib/python3.12/site-packages (from datasets) (0.3.8)\n",
      "Requirement already satisfied: requests>=2.32.2 in /home/ucloud/.local/lib/python3.12/site-packages (from datasets) (2.32.3)\n",
      "Requirement already satisfied: xxhash in /home/ucloud/.local/lib/python3.12/site-packages (from datasets) (3.5.0)\n",
      "Requirement already satisfied: multiprocess<0.70.17 in /home/ucloud/.local/lib/python3.12/site-packages (from datasets) (0.70.16)\n",
      "Requirement already satisfied: fsspec<=2025.3.0,>=2023.1.0 in /home/ucloud/.local/lib/python3.12/site-packages (from fsspec[http]<=2025.3.0,>=2023.1.0->datasets) (2025.3.0)\n",
      "Requirement already satisfied: huggingface-hub>=0.24.0 in /home/ucloud/.local/lib/python3.12/site-packages (from datasets) (0.33.0)\n",
      "Requirement already satisfied: pyyaml>=5.1 in /home/ucloud/.local/lib/python3.12/site-packages (from datasets) (6.0.2)\n",
      "Requirement already satisfied: scipy>=1.8.0 in /home/ucloud/.local/lib/python3.12/site-packages (from scikit-learn) (1.16.0)\n",
      "Requirement already satisfied: threadpoolctl>=3.1.0 in /home/ucloud/.local/lib/python3.12/site-packages (from scikit-learn) (3.6.0)\n",
      "Requirement already satisfied: aiohttp!=4.0.0a0,!=4.0.0a1 in /home/ucloud/.local/lib/python3.12/site-packages (from fsspec[http]<=2025.3.0,>=2023.1.0->datasets) (3.12.13)\n",
      "Requirement already satisfied: typing-extensions>=3.7.4.3 in /home/ucloud/.local/lib/python3.12/site-packages (from huggingface-hub>=0.24.0->datasets) (4.13.2)\n",
      "Requirement already satisfied: hf-xet<2.0.0,>=1.1.2 in /home/ucloud/.local/lib/python3.12/site-packages (from huggingface-hub>=0.24.0->datasets) (1.1.5)\n",
      "Requirement already satisfied: six>=1.5 in /usr/lib/python3/dist-packages (from python-dateutil>=2.8.2->pandas) (1.16.0)\n",
      "Requirement already satisfied: charset-normalizer<4,>=2 in /home/ucloud/.local/lib/python3.12/site-packages (from requests>=2.32.2->datasets) (3.4.1)\n",
      "Requirement already satisfied: idna<4,>=2.5 in /home/ucloud/.local/lib/python3.12/site-packages (from requests>=2.32.2->datasets) (3.10)\n",
      "Requirement already satisfied: urllib3<3,>=1.21.1 in /home/ucloud/.local/lib/python3.12/site-packages (from requests>=2.32.2->datasets) (2.4.0)\n",
      "Requirement already satisfied: certifi>=2017.4.17 in /home/ucloud/.local/lib/python3.12/site-packages (from requests>=2.32.2->datasets) (2025.1.31)\n",
      "Requirement already satisfied: aiohappyeyeballs>=2.5.0 in /home/ucloud/.local/lib/python3.12/site-packages (from aiohttp!=4.0.0a0,!=4.0.0a1->fsspec[http]<=2025.3.0,>=2023.1.0->datasets) (2.6.1)\n",
      "Requirement already satisfied: aiosignal>=1.1.2 in /home/ucloud/.local/lib/python3.12/site-packages (from aiohttp!=4.0.0a0,!=4.0.0a1->fsspec[http]<=2025.3.0,>=2023.1.0->datasets) (1.3.2)\n",
      "Requirement already satisfied: attrs>=17.3.0 in /home/ucloud/.local/lib/python3.12/site-packages (from aiohttp!=4.0.0a0,!=4.0.0a1->fsspec[http]<=2025.3.0,>=2023.1.0->datasets) (25.3.0)\n",
      "Requirement already satisfied: frozenlist>=1.1.1 in /home/ucloud/.local/lib/python3.12/site-packages (from aiohttp!=4.0.0a0,!=4.0.0a1->fsspec[http]<=2025.3.0,>=2023.1.0->datasets) (1.7.0)\n",
      "Requirement already satisfied: multidict<7.0,>=4.5 in /home/ucloud/.local/lib/python3.12/site-packages (from aiohttp!=4.0.0a0,!=4.0.0a1->fsspec[http]<=2025.3.0,>=2023.1.0->datasets) (6.5.0)\n",
      "Requirement already satisfied: propcache>=0.2.0 in /home/ucloud/.local/lib/python3.12/site-packages (from aiohttp!=4.0.0a0,!=4.0.0a1->fsspec[http]<=2025.3.0,>=2023.1.0->datasets) (0.3.2)\n",
      "Requirement already satisfied: yarl<2.0,>=1.17.0 in /home/ucloud/.local/lib/python3.12/site-packages (from aiohttp!=4.0.0a0,!=4.0.0a1->fsspec[http]<=2025.3.0,>=2023.1.0->datasets) (1.20.1)\n",
      "Downloading nltk-3.9.1-py3-none-any.whl (1.5 MB)\n",
      "\u001b[2K   \u001b[90m━━━━━━━━━━━━━━━━━━━━━━━━━━━━━━━━━━━━━━━━\u001b[0m \u001b[32m1.5/1.5 MB\u001b[0m \u001b[31m2.5 MB/s\u001b[0m eta \u001b[36m0:00:00\u001b[0ma \u001b[36m0:00:01\u001b[0m\n",
      "\u001b[?25hDownloading regex-2024.11.6-cp312-cp312-manylinux_2_17_x86_64.manylinux2014_x86_64.whl (796 kB)\n",
      "\u001b[2K   \u001b[90m━━━━━━━━━━━━━━━━━━━━━━━━━━━━━━━━━━━━━━━━\u001b[0m \u001b[32m796.9/796.9 kB\u001b[0m \u001b[31m1.2 MB/s\u001b[0m eta \u001b[36m0:00:00\u001b[0m:00:01\u001b[0m\n",
      "\u001b[?25hInstalling collected packages: regex, nltk\n",
      "Successfully installed nltk-3.9.1 regex-2024.11.6\n"
     ]
    }
   ],
   "source": [
    "!pip install pandas numpy matplotlib seaborn nltk tqdm datasets scikit-learn"
   ]
  },
  {
   "cell_type": "code",
   "execution_count": 4,
   "id": "a5514fc5",
   "metadata": {},
   "outputs": [],
   "source": [
    "import pandas as pd\n",
    "import numpy as np\n",
    "import matplotlib.pyplot as plt\n",
    "import seaborn as sns\n",
    "import re\n",
    "import json\n",
    "from tqdm import tqdm\n",
    "from datasets import load_dataset, load_from_disk"
   ]
  },
  {
   "cell_type": "code",
   "execution_count": 3,
   "id": "41630158",
   "metadata": {},
   "outputs": [],
   "source": [
    "from sklearn.metrics import confusion_matrix, classification_report\n",
    "from sklearn.feature_extraction.text import TfidfVectorizer\n",
    "from sklearn.model_selection import train_test_split, StratifiedKFold\n",
    "from sklearn.linear_model import LogisticRegression\n",
    "from sklearn.preprocessing import LabelEncoder"
   ]
  },
  {
   "cell_type": "markdown",
   "id": "ac116fa1",
   "metadata": {},
   "source": [
    "## Load datasets"
   ]
  },
  {
   "cell_type": "code",
   "execution_count": 4,
   "id": "d6ecc9d8",
   "metadata": {},
   "outputs": [
    {
     "data": {
      "application/vnd.jupyter.widget-view+json": {
       "model_id": "e531fac7c2a241e7a7dfafb959940726",
       "version_major": 2,
       "version_minor": 0
      },
      "text/plain": [
       "VBox(children=(HTML(value='<center> <img\\nsrc=https://huggingface.co/front/assets/huggingface_logo-noborder.sv…"
      ]
     },
     "metadata": {},
     "output_type": "display_data"
    }
   ],
   "source": [
    "from huggingface_hub import login\n",
    "\n",
    "login()"
   ]
  },
  {
   "cell_type": "code",
   "execution_count": 8,
   "id": "b2add839",
   "metadata": {},
   "outputs": [
    {
     "data": {
      "text/plain": [
       "(866977, 13)"
      ]
     },
     "execution_count": 8,
     "metadata": {},
     "output_type": "execute_result"
    }
   ],
   "source": [
    "# Load dataset\n",
    "dataset_large = load_dataset(\"chcaa/periphery-aviser-e5\", split='train')\n",
    "\n",
    "df = dataset_large.to_pandas()\n",
    "df.shape"
   ]
  },
  {
   "cell_type": "code",
   "execution_count": 9,
   "id": "51377c37",
   "metadata": {},
   "outputs": [],
   "source": [
    "df = df_large"
   ]
  },
  {
   "cell_type": "code",
   "execution_count": 10,
   "id": "d603139b",
   "metadata": {},
   "outputs": [
    {
     "data": {
      "text/plain": [
       "(372227, 11)"
      ]
     },
     "execution_count": 10,
     "metadata": {},
     "output_type": "execute_result"
    }
   ],
   "source": [
    "# Load dataset with extra articles\n",
    "dataset = load_from_disk(\"../../../ROOT/DATA/NEWSPAPERS/backup_extra_newspapers_250624\")\n",
    "\n",
    "df_extra = dataset.to_pandas()\n",
    "df_extra.shape"
   ]
  },
  {
   "cell_type": "code",
   "execution_count": 11,
   "id": "6019d52e",
   "metadata": {},
   "outputs": [
    {
     "data": {
      "text/plain": [
       "label_type  newspaper\n",
       "gold        aal             200\n",
       "            lol           85092\n",
       "            ode             196\n",
       "            thi             200\n",
       "            vib             194\n",
       "predicted   aal          155811\n",
       "            aar          181956\n",
       "            ode          201982\n",
       "            thi           71902\n",
       "            vib          169444\n",
       "Name: newspaper, dtype: int64"
      ]
     },
     "execution_count": 11,
     "metadata": {},
     "output_type": "execute_result"
    }
   ],
   "source": [
    "df.groupby(['label_type', 'newspaper'])['newspaper'].count()"
   ]
  },
  {
   "cell_type": "code",
   "execution_count": 7,
   "id": "481fd2cb",
   "metadata": {},
   "outputs": [
    {
     "data": {
      "text/plain": [
       "Index(['article_id', 'date', 'embedding', 'n_chunks_orig', 'clean_category',\n",
       "       'nøgle', 'text', 'category', 'article_length', 'characters',\n",
       "       'embedding_shape', 'newspaper', 'label_type'],\n",
       "      dtype='object')"
      ]
     },
     "execution_count": 7,
     "metadata": {},
     "output_type": "execute_result"
    }
   ],
   "source": [
    "df.columns"
   ]
  },
  {
   "cell_type": "code",
   "execution_count": 12,
   "id": "a3768208",
   "metadata": {},
   "outputs": [
    {
     "data": {
      "text/html": [
       "<div>\n",
       "<style scoped>\n",
       "    .dataframe tbody tr th:only-of-type {\n",
       "        vertical-align: middle;\n",
       "    }\n",
       "\n",
       "    .dataframe tbody tr th {\n",
       "        vertical-align: top;\n",
       "    }\n",
       "\n",
       "    .dataframe thead th {\n",
       "        text-align: right;\n",
       "    }\n",
       "</style>\n",
       "<table border=\"1\" class=\"dataframe\">\n",
       "  <thead>\n",
       "    <tr style=\"text-align: right;\">\n",
       "      <th></th>\n",
       "      <th>article_id</th>\n",
       "      <th>book_announce</th>\n",
       "      <th>comment</th>\n",
       "    </tr>\n",
       "  </thead>\n",
       "  <tbody>\n",
       "    <tr>\n",
       "      <th>264863</th>\n",
       "      <td>ode_023787</td>\n",
       "      <td>y</td>\n",
       "      <td>NaN</td>\n",
       "    </tr>\n",
       "    <tr>\n",
       "      <th>151177</th>\n",
       "      <td>aal_066100</td>\n",
       "      <td>n</td>\n",
       "      <td>mixed</td>\n",
       "    </tr>\n",
       "    <tr>\n",
       "      <th>379019</th>\n",
       "      <td>ode_138229</td>\n",
       "      <td>n</td>\n",
       "      <td>NaN</td>\n",
       "    </tr>\n",
       "    <tr>\n",
       "      <th>483748</th>\n",
       "      <td>thi_040569</td>\n",
       "      <td>n</td>\n",
       "      <td>mixed</td>\n",
       "    </tr>\n",
       "    <tr>\n",
       "      <th>369240</th>\n",
       "      <td>ode_128401</td>\n",
       "      <td>n</td>\n",
       "      <td>NaN</td>\n",
       "    </tr>\n",
       "  </tbody>\n",
       "</table>\n",
       "</div>"
      ],
      "text/plain": [
       "        article_id book_announce comment\n",
       "264863  ode_023787             y     NaN\n",
       "151177  aal_066100             n   mixed\n",
       "379019  ode_138229             n     NaN\n",
       "483748  thi_040569             n   mixed\n",
       "369240  ode_128401             n     NaN"
      ]
     },
     "execution_count": 12,
     "metadata": {},
     "output_type": "execute_result"
    }
   ],
   "source": [
    "# Load annotated books subset\n",
    "book_gold = pd.read_csv('../../newspaper_temp_files/annotated_books_gold_250503.csv', index_col=0)\n",
    "book_gold.head()"
   ]
  },
  {
   "cell_type": "code",
   "execution_count": 13,
   "id": "059c2817",
   "metadata": {},
   "outputs": [
    {
     "data": {
      "text/plain": [
       "book_announce\n",
       "n    622\n",
       "y    281\n",
       "Name: count, dtype: int64"
      ]
     },
     "execution_count": 13,
     "metadata": {},
     "output_type": "execute_result"
    }
   ],
   "source": [
    "book_gold['book_announce'].value_counts()"
   ]
  },
  {
   "cell_type": "code",
   "execution_count": 14,
   "id": "0f17c725",
   "metadata": {},
   "outputs": [],
   "source": [
    "df = df.merge(book_gold, on='article_id', how='left')\n",
    "df['book_announce'] = df['book_announce'].fillna('unknown')"
   ]
  },
  {
   "cell_type": "code",
   "execution_count": 15,
   "id": "38a6a3be",
   "metadata": {},
   "outputs": [
    {
     "data": {
      "text/plain": [
       "book_announce\n",
       "n             622\n",
       "unknown    866084\n",
       "y             271\n",
       "Name: book_announce, dtype: int64"
      ]
     },
     "execution_count": 15,
     "metadata": {},
     "output_type": "execute_result"
    }
   ],
   "source": [
    "df.groupby('book_announce')['book_announce'].count()"
   ]
  },
  {
   "cell_type": "code",
   "execution_count": 16,
   "id": "ba24ce45",
   "metadata": {},
   "outputs": [
    {
     "data": {
      "text/plain": [
       "book_announce\n",
       "unknown    866084\n",
       "n             622\n",
       "y             271\n",
       "Name: count, dtype: int64"
      ]
     },
     "execution_count": 16,
     "metadata": {},
     "output_type": "execute_result"
    }
   ],
   "source": [
    "df['book_announce'].value_counts()"
   ]
  },
  {
   "cell_type": "code",
   "execution_count": 16,
   "id": "98d05355",
   "metadata": {},
   "outputs": [
    {
     "data": {
      "text/plain": [
       "comment\n",
       "header                                      111\n",
       "mixed                                        88\n",
       "journal announcement                         18\n",
       "journal announcement                         10\n",
       "calendar announcement                         6\n",
       "theater                                       3\n",
       "journal                                       1\n",
       "calendar                                      1\n",
       "calender announcement                         1\n",
       "note: is an individual (personal) seller      1\n",
       "Name: count, dtype: int64"
      ]
     },
     "execution_count": 16,
     "metadata": {},
     "output_type": "execute_result"
    }
   ],
   "source": [
    "df['comment'].value_counts()"
   ]
  },
  {
   "cell_type": "markdown",
   "id": "c9771978",
   "metadata": {},
   "source": [
    "## 1. Classifier with unlabeled announcements and book announcements\n",
    "\n",
    "Balanced sample performs better than unbalanced sample. The merged_sample does not contain mixed book announcements."
   ]
  },
  {
   "cell_type": "code",
   "execution_count": 23,
   "id": "cf24df6e",
   "metadata": {},
   "outputs": [
    {
     "data": {
      "text/plain": [
       "(520, 15)"
      ]
     },
     "execution_count": 23,
     "metadata": {},
     "output_type": "execute_result"
    }
   ],
   "source": [
    "# Create sample of unlabeled announcements\n",
    "unlabeled_df = df[(df['book_announce'] == 'unknown') & (df['clean_category'] == 'Bekjendtgjørelser')]\n",
    "random_sample_unlabeled = unlabeled_df.sample(n=260, random_state=42)\n",
    "\n",
    "# Create sample of labeled book announcements\n",
    "random_sample_books = df[(df['book_announce'] == 'y') & (df['comment'] != 'mixed')].sample(n=260, random_state=42)\n",
    "\n",
    "merged_sample = pd.concat([random_sample_unlabeled, random_sample_books])\n",
    "merged_sample.shape"
   ]
  },
  {
   "cell_type": "markdown",
   "id": "7c016a49",
   "metadata": {},
   "source": [
    "### 1.1 Without cross-validation"
   ]
  },
  {
   "cell_type": "code",
   "execution_count": 24,
   "id": "e9ffcf84",
   "metadata": {},
   "outputs": [
    {
     "name": "stdout",
     "output_type": "stream",
     "text": [
      "Train classifier on embeddings\n"
     ]
    },
    {
     "name": "stdout",
     "output_type": "stream",
     "text": [
      "              precision    recall  f1-score   support\n",
      "\n",
      "     unknown       0.97      0.95      0.96        78\n",
      "           y       0.95      0.97      0.96        78\n",
      "\n",
      "    accuracy                           0.96       156\n",
      "   macro avg       0.96      0.96      0.96       156\n",
      "weighted avg       0.96      0.96      0.96       156\n",
      "\n"
     ]
    }
   ],
   "source": [
    "# Split the balanced data into train and test sets with stratification\n",
    "train_df, test_df = train_test_split(\n",
    "    merged_sample, \n",
    "    test_size=0.3, \n",
    "    random_state=42, \n",
    "    stratify=merged_sample['book_announce']\n",
    ")\n",
    "\n",
    "# Prepare training and test features/labels\n",
    "X_train = np.vstack(train_df['embedding'].values)\n",
    "y_train = train_df['book_announce'].values\n",
    "\n",
    "X_test = np.vstack(test_df['embedding'].values)\n",
    "y_test = test_df['book_announce'].values\n",
    "\n",
    "# Instantiate the Logistic Regression classifier\n",
    "clf_embs = LogisticRegression(max_iter=1000, solver='liblinear', random_state=42)\n",
    "\n",
    "# Train the classifier on the labeled training data\n",
    "print(f'Train classifier on embeddings')\n",
    "clf_embs.fit(X_train, y_train)\n",
    "\n",
    "# Evaluate on the test set\n",
    "predictions = clf_embs.predict(X_test)\n",
    "print(classification_report(y_test, predictions))"
   ]
  },
  {
   "cell_type": "markdown",
   "id": "5031f8f1",
   "metadata": {},
   "source": [
    "### 1.2 With cross-validation"
   ]
  },
  {
   "cell_type": "code",
   "execution_count": 25,
   "id": "e54169bf",
   "metadata": {},
   "outputs": [
    {
     "name": "stdout",
     "output_type": "stream",
     "text": [
      "📊 Average Per-Class Metrics Across Folds:\n",
      "         precision    recall  f1-score  support\n",
      "unknown   0.988311  0.946154  0.966357     52.0\n",
      "y         0.949329  0.988462  0.968174     52.0\n"
     ]
    }
   ],
   "source": [
    "# Prepare the data\n",
    "X = np.vstack(merged_sample['embedding'].values)\n",
    "y = merged_sample['book_announce'].values\n",
    "\n",
    "# Encode labels\n",
    "le = LabelEncoder()\n",
    "y_encoded = le.fit_transform(y)\n",
    "class_names = le.classes_\n",
    "\n",
    "# Set up Stratified K-Fold\n",
    "skf = StratifiedKFold(n_splits=5, shuffle=True, random_state=42)\n",
    "all_reports = []\n",
    "\n",
    "for train_idx, test_idx in skf.split(X, y_encoded):\n",
    "    X_train, X_test = X[train_idx], X[test_idx]\n",
    "    y_train, y_test = y_encoded[train_idx], y_encoded[test_idx]\n",
    "\n",
    "    clf = LogisticRegression(max_iter=1000, solver='liblinear', random_state=42)\n",
    "    clf.fit(X_train, y_train)\n",
    "    y_pred = clf.predict(X_test)\n",
    "\n",
    "    # Get classification report as a dictionary\n",
    "    report = classification_report(y_test, y_pred, target_names=class_names, output_dict=True)\n",
    "    all_reports.append(report)\n",
    "\n",
    "# Average per-class metrics across all folds\n",
    "avg_report = {}\n",
    "for cls in class_names:\n",
    "    avg_report[cls] = {\n",
    "        metric: np.mean([fold[cls][metric] for fold in all_reports])\n",
    "        for metric in ['precision', 'recall', 'f1-score', 'support']\n",
    "    }\n",
    "\n",
    "# Convert to DataFrame for better formatting\n",
    "avg_df = pd.DataFrame(avg_report).T\n",
    "print(\"📊 Average Per-Class Metrics Across Folds:\")\n",
    "print(avg_df)\n"
   ]
  },
  {
   "cell_type": "markdown",
   "id": "96bc4c21",
   "metadata": {},
   "source": [
    "## 2. Classifier with non-book announcements and book announcements"
   ]
  },
  {
   "cell_type": "code",
   "execution_count": 18,
   "id": "4c013b46",
   "metadata": {},
   "outputs": [
    {
     "name": "stderr",
     "output_type": "stream",
     "text": [
      "/tmp/ipykernel_10214/1502793623.py:7: FutureWarning: DataFrameGroupBy.apply operated on the grouping columns. This behavior is deprecated, and in a future version of pandas the grouping columns will be excluded from the operation. Either pass `include_groups=False` to exclude the groupings or explicitly select the grouping columns after groupby to silence this warning.\n",
      "  df_balanced = df_books.groupby('book_announce', group_keys=False).apply(\n"
     ]
    }
   ],
   "source": [
    "# Define the number of samples per class (adjust based on dataset size)\n",
    "n_samples_per_class = 260  # Change as needed\n",
    "\n",
    "df_books = df[(df['book_announce'] != 'unknown') & (df['comment'] != 'mixed')]\n",
    "\n",
    "# Create a balanced dataset by sampling an equal number of instances per class\n",
    "df_balanced = df_books.groupby('book_announce', group_keys=False).apply(\n",
    "    lambda x: x.sample(n=min(len(x), n_samples_per_class), random_state=42)\n",
    ")"
   ]
  },
  {
   "cell_type": "markdown",
   "id": "db9628e1",
   "metadata": {},
   "source": [
    "### 2.1 Embeddings without cross-validation"
   ]
  },
  {
   "cell_type": "code",
   "execution_count": 27,
   "id": "d3733854",
   "metadata": {},
   "outputs": [
    {
     "name": "stdout",
     "output_type": "stream",
     "text": [
      "Train classifier on embeddings\n",
      "              precision    recall  f1-score   support\n",
      "\n",
      "           n       0.87      0.94      0.90        78\n",
      "           y       0.93      0.86      0.89        78\n",
      "\n",
      "    accuracy                           0.90       156\n",
      "   macro avg       0.90      0.90      0.90       156\n",
      "weighted avg       0.90      0.90      0.90       156\n",
      "\n"
     ]
    }
   ],
   "source": [
    "# Split the balanced data into train and test sets with stratification\n",
    "train_df, test_df = train_test_split(\n",
    "    df_balanced, \n",
    "    test_size=0.3, \n",
    "    random_state=42, \n",
    "    stratify=df_balanced['book_announce']\n",
    ")\n",
    "\n",
    "# Prepare training and test features/labels\n",
    "X_train = np.vstack(train_df['embedding'].values)\n",
    "y_train = train_df['book_announce'].values\n",
    "\n",
    "X_test = np.vstack(test_df['embedding'].values)\n",
    "y_test = test_df['book_announce'].values\n",
    "\n",
    "# Instantiate the Logistic Regression classifier\n",
    "clf_embs = LogisticRegression(max_iter=1000, solver='liblinear', random_state=42)\n",
    "\n",
    "# Train the classifier on the labeled training data\n",
    "print(f'Train classifier on embeddings')\n",
    "clf_embs.fit(X_train, y_train)\n",
    "\n",
    "# Evaluate on the test set\n",
    "predictions = clf_embs.predict(X_test)\n",
    "print(classification_report(y_test, predictions))"
   ]
  },
  {
   "cell_type": "markdown",
   "id": "a29081f7",
   "metadata": {},
   "source": [
    "### 2.2 Embeddings with cross-validation: continue with this model"
   ]
  },
  {
   "cell_type": "code",
   "execution_count": 19,
   "id": "3047b772",
   "metadata": {},
   "outputs": [
    {
     "name": "stdout",
     "output_type": "stream",
     "text": [
      "📊 Average Per-Class Metrics Across Folds:\n",
      "   precision    recall  f1-score  support\n",
      "n   0.923931  0.903846  0.913052     52.0\n",
      "y   0.906009  0.923077  0.913677     52.0\n"
     ]
    }
   ],
   "source": [
    "# Prepare the data\n",
    "X = np.vstack(df_balanced['embedding'].values)\n",
    "y = df_balanced['book_announce'].values\n",
    "\n",
    "# Encode labels\n",
    "le = LabelEncoder()\n",
    "y_encoded = le.fit_transform(y)\n",
    "class_names = le.classes_\n",
    "\n",
    "# Set up Stratified K-Fold\n",
    "skf = StratifiedKFold(n_splits=5, shuffle=True, random_state=42)\n",
    "all_reports = []\n",
    "\n",
    "for train_idx, test_idx in skf.split(X, y_encoded):\n",
    "    X_train, X_test = X[train_idx], X[test_idx]\n",
    "    y_train, y_test = y_encoded[train_idx], y_encoded[test_idx]\n",
    "\n",
    "    clf = LogisticRegression(max_iter=1000, solver='liblinear', random_state=42)\n",
    "    clf.fit(X_train, y_train)\n",
    "    y_pred = clf.predict(X_test)\n",
    "\n",
    "    # Get classification report as a dictionary\n",
    "    report = classification_report(y_test, y_pred, target_names=class_names, output_dict=True)\n",
    "    all_reports.append(report)\n",
    "\n",
    "# Average per-class metrics across all folds\n",
    "avg_report = {}\n",
    "for cls in class_names:\n",
    "    avg_report[cls] = {\n",
    "        metric: np.mean([fold[cls][metric] for fold in all_reports])\n",
    "        for metric in ['precision', 'recall', 'f1-score', 'support']\n",
    "    }\n",
    "\n",
    "# Convert to DataFrame for better formatting\n",
    "avg_df = pd.DataFrame(avg_report).T\n",
    "print(\"📊 Average Per-Class Metrics Across Folds:\")\n",
    "print(avg_df)"
   ]
  },
  {
   "cell_type": "markdown",
   "id": "4a8b985a",
   "metadata": {},
   "source": [
    "### 2.3 TFIDF without cross-validation"
   ]
  },
  {
   "cell_type": "code",
   "execution_count": 29,
   "id": "4fa48dc5",
   "metadata": {},
   "outputs": [
    {
     "name": "stdout",
     "output_type": "stream",
     "text": [
      "Train classifier on TF-IDF features\n",
      "              precision    recall  f1-score   support\n",
      "\n",
      "           n       0.89      0.94      0.91        78\n",
      "           y       0.93      0.88      0.91        78\n",
      "\n",
      "    accuracy                           0.91       156\n",
      "   macro avg       0.91      0.91      0.91       156\n",
      "weighted avg       0.91      0.91      0.91       156\n",
      "\n"
     ]
    }
   ],
   "source": [
    "# Initialize the TF-IDF vectorizer\n",
    "vectorizer = TfidfVectorizer(max_features=5000)  # Adjust max_features as needed\n",
    "\n",
    "# Fit on training data and transform both train and test sets\n",
    "X_train = vectorizer.fit_transform(train_df['text'])\n",
    "X_test = vectorizer.transform(test_df['text'])\n",
    "\n",
    "# Prepare labels\n",
    "y_train = train_df['book_announce'].values\n",
    "y_test = test_df['book_announce'].values\n",
    "\n",
    "# Instantiate the Logistic Regression classifier\n",
    "clf_tfidf = LogisticRegression(max_iter=1000, solver='liblinear', random_state=42)\n",
    "\n",
    "# Train the classifier on the TF-IDF features\n",
    "print(f'Train classifier on TF-IDF features')\n",
    "clf_tfidf.fit(X_train, y_train)\n",
    "\n",
    "# Evaluate on the test set\n",
    "predictions = clf_tfidf.predict(X_test)\n",
    "print(classification_report(y_test, predictions))"
   ]
  },
  {
   "cell_type": "code",
   "execution_count": 30,
   "id": "72e12426",
   "metadata": {},
   "outputs": [
    {
     "name": "stdout",
     "output_type": "stream",
     "text": [
      "📊 Average Per-Class Metrics Across Folds (TF-IDF):\n",
      "   precision    recall  f1-score  support\n",
      "n   0.915618  0.888462  0.901161     52.0\n",
      "y   0.891260  0.915385  0.902533     52.0\n"
     ]
    }
   ],
   "source": [
    "# Prepare data\n",
    "texts = df_balanced['text'].values\n",
    "labels = df_balanced['book_announce'].values\n",
    "\n",
    "# Encode labels if needed\n",
    "le = LabelEncoder()\n",
    "y_encoded = le.fit_transform(labels)\n",
    "class_names = le.classes_\n",
    "\n",
    "# Set up cross-validation\n",
    "skf = StratifiedKFold(n_splits=5, shuffle=True, random_state=42)\n",
    "all_reports = []\n",
    "\n",
    "for train_index, test_index in skf.split(texts, y_encoded):\n",
    "    X_train_texts, X_test_texts = texts[train_index], texts[test_index]\n",
    "    y_train, y_test = y_encoded[train_index], y_encoded[test_index]\n",
    "\n",
    "    # Vectorize text\n",
    "    vectorizer = TfidfVectorizer(max_features=5000)\n",
    "    X_train = vectorizer.fit_transform(X_train_texts)\n",
    "    X_test = vectorizer.transform(X_test_texts)\n",
    "\n",
    "    # Train classifier\n",
    "    clf = LogisticRegression(max_iter=1000, solver='liblinear', random_state=42)\n",
    "    clf.fit(X_train, y_train)\n",
    "    y_pred = clf.predict(X_test)\n",
    "\n",
    "    # Classification report per fold\n",
    "    report = classification_report(y_test, y_pred, target_names=class_names, output_dict=True)\n",
    "    all_reports.append(report)\n",
    "\n",
    "# Average per-class metrics\n",
    "avg_report = {}\n",
    "for cls in class_names:\n",
    "    avg_report[cls] = {\n",
    "        metric: np.mean([fold[cls][metric] for fold in all_reports])\n",
    "        for metric in ['precision', 'recall', 'f1-score', 'support']\n",
    "    }\n",
    "\n",
    "# Convert to DataFrame\n",
    "avg_df = pd.DataFrame(avg_report).T\n",
    "print(\"📊 Average Per-Class Metrics Across Folds (TF-IDF):\")\n",
    "print(avg_df)"
   ]
  },
  {
   "cell_type": "markdown",
   "id": "391b4ff1",
   "metadata": {},
   "source": [
    "## 3. Classifier with mixed book announcements\n",
    "\n",
    "### 3.1 Mixed announcements as separate class"
   ]
  },
  {
   "cell_type": "code",
   "execution_count": 31,
   "id": "78d8148c",
   "metadata": {},
   "outputs": [],
   "source": [
    "# Create sample of unlabeled announcements\n",
    "unlabeled_df = df[(df['book_announce'] == 'unknown') & (df['clean_category'] == 'Bekjendtgjørelser')]\n",
    "random_sample_unlabeled = unlabeled_df.sample(n=88, random_state=42)\n",
    "\n",
    "# Create sample of labeled book announcements\n",
    "random_sample_books = df[df['book_announce'] == 'y'].sample(n=88, random_state=42)\n",
    "\n",
    "# Create sample of mixed book announcements\n",
    "random_mixed_books = df[df['comment'] == 'mixed'].sample(n=88, random_state=42)\n",
    "\n",
    "merged_mixed_sample = pd.concat([random_sample_unlabeled, random_sample_books, random_mixed_books])\n",
    "merged_mixed_sample.shape\n",
    "\n",
    "# Make all mixed book announcement 'mixed'\n",
    "merged_mixed_sample.loc[merged_mixed_sample['comment'] == 'mixed', 'book_announce'] = 'mixed'"
   ]
  },
  {
   "cell_type": "code",
   "execution_count": 32,
   "id": "e8b6de49",
   "metadata": {},
   "outputs": [
    {
     "name": "stdout",
     "output_type": "stream",
     "text": [
      "📊 Average Per-Class Metrics Across Folds:\n",
      "         precision    recall  f1-score  support\n",
      "mixed     0.706101  0.807602  0.750604     18.6\n",
      "unknown   0.873457  0.854248  0.861443     17.6\n",
      "y         0.883492  0.760294  0.812539     16.6\n"
     ]
    },
    {
     "data": {
      "image/png": "[encoded data removed]",
      "text/plain": [
       "<Figure size 640x480 with 2 Axes>"
      ]
     },
     "metadata": {},
     "output_type": "display_data"
    }
   ],
   "source": [
    "from sklearn.metrics import classification_report, confusion_matrix, ConfusionMatrixDisplay\n",
    "import matplotlib.pyplot as plt\n",
    "\n",
    "# Prepare the data\n",
    "X = np.vstack(merged_mixed_sample['embedding'].values)\n",
    "y = merged_mixed_sample['book_announce'].values\n",
    "\n",
    "# Encode labels\n",
    "le = LabelEncoder()\n",
    "y_encoded = le.fit_transform(y)\n",
    "class_names = le.classes_\n",
    "\n",
    "# Set up Stratified K-Fold\n",
    "skf = StratifiedKFold(n_splits=5, shuffle=True, random_state=42)\n",
    "all_reports = []\n",
    "\n",
    "# For confusion matrix\n",
    "all_y_true = []\n",
    "all_y_pred = []\n",
    "\n",
    "for train_idx, test_idx in skf.split(X, y_encoded):\n",
    "    X_train, X_test = X[train_idx], X[test_idx]\n",
    "    y_train, y_test = y_encoded[train_idx], y_encoded[test_idx]\n",
    "\n",
    "    clf = LogisticRegression(max_iter=1000, solver='liblinear', random_state=42)\n",
    "    clf.fit(X_train, y_train)\n",
    "    y_pred = clf.predict(X_test)\n",
    "\n",
    "    # Store predictions and true labels\n",
    "    all_y_true.extend(y_test)\n",
    "    all_y_pred.extend(y_pred)\n",
    "\n",
    "    # Classification report\n",
    "    report = classification_report(y_test, y_pred, target_names=class_names, output_dict=True)\n",
    "    all_reports.append(report)\n",
    "\n",
    "# Average per-class metrics across all folds\n",
    "avg_report = {}\n",
    "for cls in class_names:\n",
    "    avg_report[cls] = {\n",
    "        metric: np.mean([fold[cls][metric] for fold in all_reports])\n",
    "        for metric in ['precision', 'recall', 'f1-score', 'support']\n",
    "    }\n",
    "\n",
    "# Convert to DataFrame\n",
    "avg_df = pd.DataFrame(avg_report).T\n",
    "print(\"📊 Average Per-Class Metrics Across Folds:\")\n",
    "print(avg_df)\n",
    "\n",
    "# 🔲 Confusion Matrix\n",
    "cm = confusion_matrix(all_y_true, all_y_pred)\n",
    "disp = ConfusionMatrixDisplay(confusion_matrix=cm, display_labels=class_names)\n",
    "disp.plot(cmap=\"Blues\", values_format='d')\n",
    "plt.title(\"Confusion Matrix (5-Fold CV Aggregated)\")\n",
    "plt.show()\n"
   ]
  },
  {
   "cell_type": "markdown",
   "id": "510bd04a",
   "metadata": {},
   "source": [
    "### 3.2 Mixed announcements as 'y'"
   ]
  },
  {
   "cell_type": "code",
   "execution_count": 19,
   "id": "21779907",
   "metadata": {},
   "outputs": [
    {
     "name": "stdout",
     "output_type": "stream",
     "text": [
      "(662, 15)\n"
     ]
    }
   ],
   "source": [
    "# Create sample of unlabeled announcements\n",
    "unlabeled_df = df[(df['book_announce'] == 'unknown') & (df['clean_category'] == 'Bekjendtgjørelser')]\n",
    "random_sample_unlabeled = unlabeled_df.sample(n=331, random_state=42)\n",
    "\n",
    "# Create sample of labeled book announcements\n",
    "random_sample_books = df[df['book_announce'] == 'y'].sample(n=243, random_state=42)\n",
    "\n",
    "# Create sample of mixed book announcements\n",
    "random_mixed_books = df[df['comment'] == 'mixed'].sample(n=88, random_state=42)\n",
    "\n",
    "merged_mixed_sample = pd.concat([random_sample_unlabeled, random_sample_books, random_mixed_books])\n",
    "print(merged_mixed_sample.shape)\n",
    "\n",
    "# Make all mixed book announcement 'mixed'\n",
    "merged_mixed_sample.loc[merged_mixed_sample['comment'] == 'mixed', 'book_announce'] = 'y'"
   ]
  },
  {
   "cell_type": "code",
   "execution_count": 20,
   "id": "a75c47b6",
   "metadata": {},
   "outputs": [
    {
     "name": "stdout",
     "output_type": "stream",
     "text": [
      "📊 Average Per-Class Metrics Across Folds:\n",
      "         precision    recall  f1-score  support\n",
      "unknown   0.882634  0.927363  0.903859     66.2\n",
      "y         0.925198  0.876210  0.899391     66.2\n"
     ]
    },
    {
     "data": {
      "image/png": "[encoded data removed]",
      "text/plain": [
       "<Figure size 640x480 with 2 Axes>"
      ]
     },
     "metadata": {},
     "output_type": "display_data"
    }
   ],
   "source": [
    "# Prepare the data\n",
    "X = np.vstack(merged_mixed_sample['embedding'].values)\n",
    "y = merged_mixed_sample['book_announce'].values\n",
    "\n",
    "# Encode labels\n",
    "le = LabelEncoder()\n",
    "y_encoded = le.fit_transform(y)\n",
    "class_names = le.classes_\n",
    "\n",
    "# Set up Stratified K-Fold\n",
    "skf = StratifiedKFold(n_splits=5, shuffle=True, random_state=42)\n",
    "all_reports = []\n",
    "\n",
    "# For confusion matrix\n",
    "all_y_true = []\n",
    "all_y_pred = []\n",
    "\n",
    "for train_idx, test_idx in skf.split(X, y_encoded):\n",
    "    X_train, X_test = X[train_idx], X[test_idx]\n",
    "    y_train, y_test = y_encoded[train_idx], y_encoded[test_idx]\n",
    "\n",
    "    clf = LogisticRegression(max_iter=1000, solver='liblinear', random_state=42)\n",
    "    clf.fit(X_train, y_train)\n",
    "    y_pred = clf.predict(X_test)\n",
    "\n",
    "    # Store predictions and true labels\n",
    "    all_y_true.extend(y_test)\n",
    "    all_y_pred.extend(y_pred)\n",
    "\n",
    "    # Classification report\n",
    "    report = classification_report(y_test, y_pred, target_names=class_names, output_dict=True)\n",
    "    all_reports.append(report)\n",
    "\n",
    "# Average per-class metrics across all folds\n",
    "avg_report = {}\n",
    "for cls in class_names:\n",
    "    avg_report[cls] = {\n",
    "        metric: np.mean([fold[cls][metric] for fold in all_reports])\n",
    "        for metric in ['precision', 'recall', 'f1-score', 'support']\n",
    "    }\n",
    "\n",
    "# Convert to DataFrame\n",
    "avg_df = pd.DataFrame(avg_report).T\n",
    "print(\"📊 Average Per-Class Metrics Across Folds:\")\n",
    "print(avg_df)\n",
    "\n",
    "# 🔲 Confusion Matrix\n",
    "cm = confusion_matrix(all_y_true, all_y_pred)\n",
    "disp = ConfusionMatrixDisplay(confusion_matrix=cm, display_labels=class_names)\n",
    "disp.plot(cmap=\"Blues\", values_format='d')\n",
    "plt.title(\"Confusion Matrix (5-Fold CV Aggregated)\")\n",
    "plt.show()"
   ]
  },
  {
   "cell_type": "markdown",
   "id": "01f9deca",
   "metadata": {},
   "source": [
    "### 3.3 Mixed announcements as 'unknown'"
   ]
  },
  {
   "cell_type": "code",
   "execution_count": 23,
   "id": "27dd5214",
   "metadata": {},
   "outputs": [
    {
     "name": "stdout",
     "output_type": "stream",
     "text": [
      "(486, 15)\n"
     ]
    }
   ],
   "source": [
    "# Create sample of unlabeled announcements\n",
    "unlabeled_df = df[(df['book_announce'] == 'unknown') & (df['clean_category'] == 'Bekjendtgjørelser')]\n",
    "random_sample_unlabeled = unlabeled_df.sample(n=155, random_state=42)\n",
    "\n",
    "# Create sample of labeled book announcements\n",
    "random_sample_books = df[(df['book_announce'] == 'y') & (df['comment'] != 'mixed')].sample(n=243, random_state=42)\n",
    "\n",
    "# Create sample of mixed book announcements\n",
    "random_mixed_books = df[df['comment'] == 'mixed'].sample(n=88, random_state=42)\n",
    "\n",
    "merged_mixed_sample = pd.concat([random_sample_unlabeled, random_sample_books, random_mixed_books])\n",
    "print(merged_mixed_sample.shape)\n",
    "\n",
    "# Make all mixed book announcement 'mixed'\n",
    "merged_mixed_sample.loc[merged_mixed_sample['comment'] == 'mixed', 'book_announce'] = 'unknown'"
   ]
  },
  {
   "cell_type": "code",
   "execution_count": 24,
   "id": "d9d331e3",
   "metadata": {},
   "outputs": [
    {
     "name": "stdout",
     "output_type": "stream",
     "text": [
      "📊 Average Per-Class Metrics Across Folds:\n",
      "         precision    recall  f1-score  support\n",
      "unknown   0.974926  0.880697  0.922934     48.6\n",
      "y         0.895912  0.975340  0.932067     48.6\n"
     ]
    },
    {
     "data": {
      "image/png": "[encoded data removed]",
      "text/plain": [
       "<Figure size 640x480 with 2 Axes>"
      ]
     },
     "metadata": {},
     "output_type": "display_data"
    }
   ],
   "source": [
    "# Prepare the data\n",
    "X = np.vstack(merged_mixed_sample['embedding'].values)\n",
    "y = merged_mixed_sample['book_announce'].values\n",
    "\n",
    "# Encode labels\n",
    "le = LabelEncoder()\n",
    "y_encoded = le.fit_transform(y)\n",
    "class_names = le.classes_\n",
    "\n",
    "# Set up Stratified K-Fold\n",
    "skf = StratifiedKFold(n_splits=5, shuffle=True, random_state=42)\n",
    "all_reports = []\n",
    "\n",
    "# For confusion matrix\n",
    "all_y_true = []\n",
    "all_y_pred = []\n",
    "\n",
    "for train_idx, test_idx in skf.split(X, y_encoded):\n",
    "    X_train, X_test = X[train_idx], X[test_idx]\n",
    "    y_train, y_test = y_encoded[train_idx], y_encoded[test_idx]\n",
    "\n",
    "    clf = LogisticRegression(max_iter=1000, solver='liblinear', random_state=42)\n",
    "    clf.fit(X_train, y_train)\n",
    "    y_pred = clf.predict(X_test)\n",
    "\n",
    "    # Store predictions and true labels\n",
    "    all_y_true.extend(y_test)\n",
    "    all_y_pred.extend(y_pred)\n",
    "\n",
    "    # Classification report\n",
    "    report = classification_report(y_test, y_pred, target_names=class_names, output_dict=True)\n",
    "    all_reports.append(report)\n",
    "\n",
    "# Average per-class metrics across all folds\n",
    "avg_report = {}\n",
    "for cls in class_names:\n",
    "    avg_report[cls] = {\n",
    "        metric: np.mean([fold[cls][metric] for fold in all_reports])\n",
    "        for metric in ['precision', 'recall', 'f1-score', 'support']\n",
    "    }\n",
    "\n",
    "# Convert to DataFrame\n",
    "avg_df = pd.DataFrame(avg_report).T\n",
    "print(\"📊 Average Per-Class Metrics Across Folds:\")\n",
    "print(avg_df)\n",
    "\n",
    "# 🔲 Confusion Matrix\n",
    "cm = confusion_matrix(all_y_true, all_y_pred)\n",
    "disp = ConfusionMatrixDisplay(confusion_matrix=cm, display_labels=class_names)\n",
    "disp.plot(cmap=\"Blues\", values_format='d')\n",
    "plt.title(\"Confusion Matrix (5-Fold CV Aggregated)\")\n",
    "plt.show()"
   ]
  },
  {
   "cell_type": "markdown",
   "id": "860beb4d",
   "metadata": {},
   "source": [
    "### 3.4 Only mixed announcements and no-book announcements"
   ]
  },
  {
   "cell_type": "code",
   "execution_count": 26,
   "id": "2efe1762",
   "metadata": {},
   "outputs": [
    {
     "name": "stdout",
     "output_type": "stream",
     "text": [
      "(176, 15)\n"
     ]
    }
   ],
   "source": [
    "# Create sample of labeled no-book announcements\n",
    "random_sample_books = df[(df['book_announce'] == 'n') & (df['comment'] != 'mixed')].sample(n=88, random_state=42)\n",
    "\n",
    "# Create sample of mixed book announcements\n",
    "random_mixed_books = df[df['comment'] == 'mixed'].sample(n=88, random_state=42)\n",
    "\n",
    "merged_mixed_sample = pd.concat([random_sample_books, random_mixed_books])\n",
    "print(merged_mixed_sample.shape)\n",
    "\n",
    "# Make all mixed book announcement 'mixed'\n",
    "merged_mixed_sample.loc[merged_mixed_sample['comment'] == 'mixed', 'book_announce'] = 'mixed'"
   ]
  },
  {
   "cell_type": "code",
   "execution_count": 27,
   "id": "82144b1f",
   "metadata": {},
   "outputs": [
    {
     "name": "stdout",
     "output_type": "stream",
     "text": [
      "📊 Average Per-Class Metrics Across Folds:\n",
      "       precision    recall  f1-score  support\n",
      "mixed   0.659259  0.943791  0.775586     17.6\n",
      "n       0.905455  0.511765  0.651484     17.6\n"
     ]
    },
    {
     "data": {
      "image/png": "[encoded data removed]",
      "text/plain": [
       "<Figure size 640x480 with 2 Axes>"
      ]
     },
     "metadata": {},
     "output_type": "display_data"
    }
   ],
   "source": [
    "# Prepare the data\n",
    "X = np.vstack(merged_mixed_sample['embedding'].values)\n",
    "y = merged_mixed_sample['book_announce'].values\n",
    "\n",
    "# Encode labels\n",
    "le = LabelEncoder()\n",
    "y_encoded = le.fit_transform(y)\n",
    "class_names = le.classes_\n",
    "\n",
    "# Set up Stratified K-Fold\n",
    "skf = StratifiedKFold(n_splits=5, shuffle=True, random_state=42)\n",
    "all_reports = []\n",
    "\n",
    "# For confusion matrix\n",
    "all_y_true = []\n",
    "all_y_pred = []\n",
    "\n",
    "for train_idx, test_idx in skf.split(X, y_encoded):\n",
    "    X_train, X_test = X[train_idx], X[test_idx]\n",
    "    y_train, y_test = y_encoded[train_idx], y_encoded[test_idx]\n",
    "\n",
    "    clf = LogisticRegression(max_iter=1000, solver='liblinear', random_state=42)\n",
    "    clf.fit(X_train, y_train)\n",
    "    y_pred = clf.predict(X_test)\n",
    "\n",
    "    # Store predictions and true labels\n",
    "    all_y_true.extend(y_test)\n",
    "    all_y_pred.extend(y_pred)\n",
    "\n",
    "    # Classification report\n",
    "    report = classification_report(y_test, y_pred, target_names=class_names, output_dict=True)\n",
    "    all_reports.append(report)\n",
    "\n",
    "# Average per-class metrics across all folds\n",
    "avg_report = {}\n",
    "for cls in class_names:\n",
    "    avg_report[cls] = {\n",
    "        metric: np.mean([fold[cls][metric] for fold in all_reports])\n",
    "        for metric in ['precision', 'recall', 'f1-score', 'support']\n",
    "    }\n",
    "\n",
    "# Convert to DataFrame\n",
    "avg_df = pd.DataFrame(avg_report).T\n",
    "print(\"📊 Average Per-Class Metrics Across Folds:\")\n",
    "print(avg_df)\n",
    "\n",
    "# 🔲 Confusion Matrix\n",
    "cm = confusion_matrix(all_y_true, all_y_pred)\n",
    "disp = ConfusionMatrixDisplay(confusion_matrix=cm, display_labels=class_names)\n",
    "disp.plot(cmap=\"Blues\", values_format='d')\n",
    "plt.title(\"Confusion Matrix (5-Fold CV Aggregated)\")\n",
    "plt.show()"
   ]
  },
  {
   "cell_type": "markdown",
   "id": "c45bf4f6",
   "metadata": {},
   "source": [
    "### Label unlabeled articles as book announcement"
   ]
  },
  {
   "cell_type": "code",
   "execution_count": 21,
   "id": "46d541cb",
   "metadata": {},
   "outputs": [
    {
     "data": {
      "text/plain": [
       "Index(['article_id', 'date', 'embedding', 'n_chunks_orig', 'clean_category',\n",
       "       'text', 'article_length', 'characters', 'embedding_shape', 'newspaper',\n",
       "       'label_type'],\n",
       "      dtype='object')"
      ]
     },
     "execution_count": 21,
     "metadata": {},
     "output_type": "execute_result"
    }
   ],
   "source": [
    "df_extra.columns"
   ]
  },
  {
   "cell_type": "code",
   "execution_count": 22,
   "id": "0e3f47a0",
   "metadata": {},
   "outputs": [
    {
     "data": {
      "text/plain": [
       "(132748, 11)"
      ]
     },
     "execution_count": 22,
     "metadata": {},
     "output_type": "execute_result"
    }
   ],
   "source": [
    "pred_df = df_extra[df_extra['clean_category'] == 'Bekjendtgjørelser']\n",
    "pred_df.shape"
   ]
  },
  {
   "cell_type": "code",
   "execution_count": 23,
   "id": "655c108a",
   "metadata": {},
   "outputs": [
    {
     "name": "stdout",
     "output_type": "stream",
     "text": [
      "(132748, 11)\n",
      "(77287, 11)\n"
     ]
    }
   ],
   "source": [
    "# Only get the announcements that have not been categorized as book anouncement yet\n",
    "#pred_df = df[(df['book_announce'] == 'unknown') & (df['clean_category'] == 'Bekjendtgjørelser')]\n",
    "pred_df = df_extra[df_extra['clean_category'] == 'Bekjendtgjørelser']\n",
    "print(pred_df.shape)\n",
    "\n",
    "# Identify the top 188 most frequent 'text' values (appearing 5 times or more)\n",
    "top_188_texts = pred_df.groupby('text')['text'].count().sort_values(ascending=False).head(188).index\n",
    "\n",
    "# Remove rows in 'pred_df' where the 'text' is in the top 188 texts\n",
    "pred_df = pred_df[~pred_df['text'].isin(top_188_texts)]\n",
    "\n",
    "# Remove lottery results\n",
    "pred_df = pred_df[~pred_df['text'].str.contains(r'Ved Tallotteriets \\S+ Trækning i', regex=True)]\n",
    "\n",
    "# Remove very long and short articles\n",
    "pred_df = pred_df[(pred_df['characters'] >= 70) & (pred_df['characters'] <= 500)]\n",
    "print(pred_df.shape)"
   ]
  },
  {
   "cell_type": "code",
   "execution_count": 24,
   "id": "09e0a9f5",
   "metadata": {},
   "outputs": [],
   "source": [
    "X_unlabeled = np.vstack(pred_df['embedding'].values)"
   ]
  },
  {
   "cell_type": "code",
   "execution_count": 25,
   "id": "435fa4cb",
   "metadata": {},
   "outputs": [],
   "source": [
    "# Predict labels\n",
    "y_unlabeled_pred = clf.predict(X_unlabeled)\n",
    "\n",
    "# Decode predicted class labels back to original strings\n",
    "predicted_labels = le.inverse_transform(y_unlabeled_pred)\n",
    "\n",
    "# Store predictions in your DataFrame\n",
    "pred_df['predicted_book_announce'] = predicted_labels"
   ]
  },
  {
   "cell_type": "code",
   "execution_count": 26,
   "id": "2de769e2",
   "metadata": {},
   "outputs": [
    {
     "data": {
      "text/plain": [
       "predicted_book_announce\n",
       "n    74116\n",
       "y     3171\n",
       "Name: count, dtype: int64"
      ]
     },
     "execution_count": 26,
     "metadata": {},
     "output_type": "execute_result"
    }
   ],
   "source": [
    "pred_df['predicted_book_announce'].value_counts()"
   ]
  },
  {
   "cell_type": "code",
   "execution_count": 29,
   "id": "362faeee",
   "metadata": {},
   "outputs": [
    {
     "data": {
      "text/html": [
       "<div>\n",
       "<style scoped>\n",
       "    .dataframe tbody tr th:only-of-type {\n",
       "        vertical-align: middle;\n",
       "    }\n",
       "\n",
       "    .dataframe tbody tr th {\n",
       "        vertical-align: top;\n",
       "    }\n",
       "\n",
       "    .dataframe thead th {\n",
       "        text-align: right;\n",
       "    }\n",
       "</style>\n",
       "<table border=\"1\" class=\"dataframe\">\n",
       "  <thead>\n",
       "    <tr style=\"text-align: right;\">\n",
       "      <th></th>\n",
       "      <th>article_id</th>\n",
       "      <th>date</th>\n",
       "      <th>embedding</th>\n",
       "      <th>n_chunks_orig</th>\n",
       "      <th>clean_category</th>\n",
       "      <th>text</th>\n",
       "      <th>article_length</th>\n",
       "      <th>characters</th>\n",
       "      <th>embedding_shape</th>\n",
       "      <th>newspaper</th>\n",
       "      <th>label_type</th>\n",
       "      <th>predicted_book_announce</th>\n",
       "    </tr>\n",
       "  </thead>\n",
       "  <tbody>\n",
       "    <tr>\n",
       "      <th>31</th>\n",
       "      <td>aar_182232</td>\n",
       "      <td>1830-01-01</td>\n",
       "      <td>[0.01646844483911991, 0.012904197908937931, -0...</td>\n",
       "      <td>1</td>\n",
       "      <td>Bekjendtgjørelser</td>\n",
       "      <td>At de danske Kjøbstæders Brandforsikkrings Reg...</td>\n",
       "      <td>43</td>\n",
       "      <td>317</td>\n",
       "      <td>[1024]</td>\n",
       "      <td>aar</td>\n",
       "      <td>predicted</td>\n",
       "      <td>n</td>\n",
       "    </tr>\n",
       "    <tr>\n",
       "      <th>32</th>\n",
       "      <td>aar_182233</td>\n",
       "      <td>1830-01-01</td>\n",
       "      <td>[-0.002823864109814167, -0.003035525558516383,...</td>\n",
       "      <td>1</td>\n",
       "      <td>Bekjendtgjørelser</td>\n",
       "      <td>Efter Reqvisition af Justitsr. Dr. Seidelin fo...</td>\n",
       "      <td>52</td>\n",
       "      <td>371</td>\n",
       "      <td>[1024]</td>\n",
       "      <td>aar</td>\n",
       "      <td>predicted</td>\n",
       "      <td>n</td>\n",
       "    </tr>\n",
       "    <tr>\n",
       "      <th>33</th>\n",
       "      <td>aar_182234</td>\n",
       "      <td>1830-01-01</td>\n",
       "      <td>[0.03231672942638397, 0.01021607220172882, -0....</td>\n",
       "      <td>1</td>\n",
       "      <td>Bekjendtgjørelser</td>\n",
       "      <td>Efter Reqvisition af Birkedommer Rasmus sen, f...</td>\n",
       "      <td>51</td>\n",
       "      <td>340</td>\n",
       "      <td>[1024]</td>\n",
       "      <td>aar</td>\n",
       "      <td>predicted</td>\n",
       "      <td>n</td>\n",
       "    </tr>\n",
       "    <tr>\n",
       "      <th>35</th>\n",
       "      <td>aar_182236</td>\n",
       "      <td>1830-01-01</td>\n",
       "      <td>[0.026176076382398605, 0.010067477822303772, -...</td>\n",
       "      <td>1</td>\n",
       "      <td>Bekjendtgjørelser</td>\n",
       "      <td>Jeg tillader mig desaarsag at anbefale Fabrikk...</td>\n",
       "      <td>43</td>\n",
       "      <td>283</td>\n",
       "      <td>[1024]</td>\n",
       "      <td>aar</td>\n",
       "      <td>predicted</td>\n",
       "      <td>n</td>\n",
       "    </tr>\n",
       "    <tr>\n",
       "      <th>36</th>\n",
       "      <td>aar_182237</td>\n",
       "      <td>1830-01-01</td>\n",
       "      <td>[0.0023201184812933207, 0.01591889001429081, -...</td>\n",
       "      <td>1</td>\n",
       "      <td>Bekjendtgjørelser</td>\n",
       "      <td>Christiansfeldter Læder og Skind, Stærk og god...</td>\n",
       "      <td>25</td>\n",
       "      <td>179</td>\n",
       "      <td>[1024]</td>\n",
       "      <td>aar</td>\n",
       "      <td>predicted</td>\n",
       "      <td>n</td>\n",
       "    </tr>\n",
       "  </tbody>\n",
       "</table>\n",
       "</div>"
      ],
      "text/plain": [
       "    article_id        date                                          embedding  \\\n",
       "31  aar_182232  1830-01-01  [0.01646844483911991, 0.012904197908937931, -0...   \n",
       "32  aar_182233  1830-01-01  [-0.002823864109814167, -0.003035525558516383,...   \n",
       "33  aar_182234  1830-01-01  [0.03231672942638397, 0.01021607220172882, -0....   \n",
       "35  aar_182236  1830-01-01  [0.026176076382398605, 0.010067477822303772, -...   \n",
       "36  aar_182237  1830-01-01  [0.0023201184812933207, 0.01591889001429081, -...   \n",
       "\n",
       "    n_chunks_orig     clean_category  \\\n",
       "31              1  Bekjendtgjørelser   \n",
       "32              1  Bekjendtgjørelser   \n",
       "33              1  Bekjendtgjørelser   \n",
       "35              1  Bekjendtgjørelser   \n",
       "36              1  Bekjendtgjørelser   \n",
       "\n",
       "                                                 text  article_length  \\\n",
       "31  At de danske Kjøbstæders Brandforsikkrings Reg...              43   \n",
       "32  Efter Reqvisition af Justitsr. Dr. Seidelin fo...              52   \n",
       "33  Efter Reqvisition af Birkedommer Rasmus sen, f...              51   \n",
       "35  Jeg tillader mig desaarsag at anbefale Fabrikk...              43   \n",
       "36  Christiansfeldter Læder og Skind, Stærk og god...              25   \n",
       "\n",
       "    characters embedding_shape newspaper label_type predicted_book_announce  \n",
       "31         317          [1024]       aar  predicted                       n  \n",
       "32         371          [1024]       aar  predicted                       n  \n",
       "33         340          [1024]       aar  predicted                       n  \n",
       "35         283          [1024]       aar  predicted                       n  \n",
       "36         179          [1024]       aar  predicted                       n  "
      ]
     },
     "execution_count": 29,
     "metadata": {},
     "output_type": "execute_result"
    }
   ],
   "source": [
    "pred_df.head()"
   ]
  },
  {
   "cell_type": "code",
   "execution_count": 27,
   "id": "43d4be23",
   "metadata": {},
   "outputs": [
    {
     "data": {
      "text/plain": [
       "book_announce\n",
       "unknown    866084\n",
       "n             622\n",
       "y             271\n",
       "Name: count, dtype: int64"
      ]
     },
     "execution_count": 27,
     "metadata": {},
     "output_type": "execute_result"
    }
   ],
   "source": [
    "df['book_announce'].value_counts()"
   ]
  },
  {
   "cell_type": "code",
   "execution_count": 42,
   "id": "ac6ffcb3",
   "metadata": {},
   "outputs": [
    {
     "data": {
      "text/plain": [
       "(7531, 16)"
      ]
     },
     "execution_count": 42,
     "metadata": {},
     "output_type": "execute_result"
    }
   ],
   "source": [
    "book_announces = pd.concat([pred_df[pred_df['predicted_book_announce'] == 'y'], df[df['book_announce'] == 'y']])\n",
    "book_announces.shape"
   ]
  },
  {
   "cell_type": "code",
   "execution_count": 30,
   "id": "46a30fc8",
   "metadata": {},
   "outputs": [],
   "source": [
    "pred_df[pred_df['predicted_book_announce'] == 'y'].to_csv('../data/book_announces_extra_250624.csv')"
   ]
  },
  {
   "cell_type": "code",
   "execution_count": null,
   "id": "2adb819e",
   "metadata": {},
   "outputs": [],
   "source": []
  }
 ],
 "metadata": {
  "kernelspec": {
   "display_name": "Python 3",
   "language": "python",
   "name": "python3"
  },
  "language_info": {
   "codemirror_mode": {
    "name": "ipython",
    "version": 3
   },
   "file_extension": ".py",
   "mimetype": "text/x-python",
   "name": "python",
   "nbconvert_exporter": "python",
   "pygments_lexer": "ipython3",
   "version": "3.12.3"
  }
 },
 "nbformat": 4,
 "nbformat_minor": 5
}
