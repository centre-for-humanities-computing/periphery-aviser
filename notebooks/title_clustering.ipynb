{
 "cells": [
  {
   "cell_type": "code",
   "execution_count": 1,
   "id": "ba1a4058",
   "metadata": {},
   "outputs": [
    {
     "name": "stdout",
     "output_type": "stream",
     "text": [
      "Defaulting to user installation because normal site-packages is not writeable\n",
      "Collecting pandas\n",
      "  Downloading pandas-2.3.0-cp312-cp312-manylinux_2_17_x86_64.manylinux2014_x86_64.whl.metadata (91 kB)\n",
      "Collecting rapidfuzz\n",
      "  Downloading rapidfuzz-3.13.0-cp312-cp312-manylinux_2_17_x86_64.manylinux2014_x86_64.whl.metadata (12 kB)\n",
      "Collecting networkx\n",
      "  Downloading networkx-3.5-py3-none-any.whl.metadata (6.3 kB)\n",
      "Collecting matplotlib\n",
      "  Downloading matplotlib-3.10.3-cp312-cp312-manylinux_2_17_x86_64.manylinux2014_x86_64.whl.metadata (11 kB)\n",
      "Collecting numpy>=1.26.0 (from pandas)\n",
      "  Downloading numpy-2.3.1-cp312-cp312-manylinux_2_28_x86_64.whl.metadata (62 kB)\n",
      "Requirement already satisfied: python-dateutil>=2.8.2 in /home/ucloud/.local/lib/python3.12/site-packages (from pandas) (2.9.0.post0)\n",
      "Collecting pytz>=2020.1 (from pandas)\n",
      "  Downloading pytz-2025.2-py2.py3-none-any.whl.metadata (22 kB)\n",
      "Collecting tzdata>=2022.7 (from pandas)\n",
      "  Downloading tzdata-2025.2-py2.py3-none-any.whl.metadata (1.4 kB)\n",
      "Collecting contourpy>=1.0.1 (from matplotlib)\n",
      "  Downloading contourpy-1.3.2-cp312-cp312-manylinux_2_17_x86_64.manylinux2014_x86_64.whl.metadata (5.5 kB)\n",
      "Collecting cycler>=0.10 (from matplotlib)\n",
      "  Downloading cycler-0.12.1-py3-none-any.whl.metadata (3.8 kB)\n",
      "Collecting fonttools>=4.22.0 (from matplotlib)\n",
      "  Downloading fonttools-4.58.4-cp312-cp312-manylinux1_x86_64.manylinux2014_x86_64.manylinux_2_17_x86_64.manylinux_2_5_x86_64.whl.metadata (106 kB)\n",
      "Collecting kiwisolver>=1.3.1 (from matplotlib)\n",
      "  Downloading kiwisolver-1.4.8-cp312-cp312-manylinux_2_17_x86_64.manylinux2014_x86_64.whl.metadata (6.2 kB)\n",
      "Requirement already satisfied: packaging>=20.0 in /usr/lib/python3/dist-packages (from matplotlib) (24.0)\n",
      "Collecting pillow>=8 (from matplotlib)\n",
      "  Downloading pillow-11.2.1-cp312-cp312-manylinux_2_28_x86_64.whl.metadata (8.9 kB)\n",
      "Requirement already satisfied: pyparsing>=2.3.1 in /usr/lib/python3/dist-packages (from matplotlib) (3.1.1)\n",
      "Requirement already satisfied: six>=1.5 in /usr/lib/python3/dist-packages (from python-dateutil>=2.8.2->pandas) (1.16.0)\n",
      "Downloading pandas-2.3.0-cp312-cp312-manylinux_2_17_x86_64.manylinux2014_x86_64.whl (12.0 MB)\n",
      "\u001b[2K   \u001b[90m━━━━━━━━━━━━━━━━━━━━━━━━━━━━━━━━━━━━━━━━\u001b[0m \u001b[32m12.0/12.0 MB\u001b[0m \u001b[31m30.0 MB/s\u001b[0m eta \u001b[36m0:00:00\u001b[0m:00:01\u001b[0m\n",
      "\u001b[?25hDownloading rapidfuzz-3.13.0-cp312-cp312-manylinux_2_17_x86_64.manylinux2014_x86_64.whl (3.1 MB)\n",
      "\u001b[2K   \u001b[90m━━━━━━━━━━━━━━━━━━━━━━━━━━━━━━━━━━━━━━━━\u001b[0m \u001b[32m3.1/3.1 MB\u001b[0m \u001b[31m6.0 MB/s\u001b[0m eta \u001b[36m0:00:00\u001b[0meta \u001b[36m0:00:01\u001b[0m\n",
      "\u001b[?25hDownloading networkx-3.5-py3-none-any.whl (2.0 MB)\n",
      "\u001b[2K   \u001b[90m━━━━━━━━━━━━━━━━━━━━━━━━━━━━━━━━━━━━━━━━\u001b[0m \u001b[32m2.0/2.0 MB\u001b[0m \u001b[31m2.8 MB/s\u001b[0m eta \u001b[36m0:00:00\u001b[0meta \u001b[36m0:00:01\u001b[0m\n",
      "\u001b[?25hDownloading matplotlib-3.10.3-cp312-cp312-manylinux_2_17_x86_64.manylinux2014_x86_64.whl (8.6 MB)\n",
      "\u001b[2K   \u001b[90m━━━━━━━━━━━━━━━━━━━━━━━━━━━━━━━━━━━━━━━━\u001b[0m \u001b[32m8.6/8.6 MB\u001b[0m \u001b[31m17.2 MB/s\u001b[0m eta \u001b[36m0:00:00\u001b[0m:00:01\u001b[0m\n",
      "\u001b[?25hDownloading contourpy-1.3.2-cp312-cp312-manylinux_2_17_x86_64.manylinux2014_x86_64.whl (323 kB)\n",
      "Downloading cycler-0.12.1-py3-none-any.whl (8.3 kB)\n",
      "Downloading fonttools-4.58.4-cp312-cp312-manylinux1_x86_64.manylinux2014_x86_64.manylinux_2_17_x86_64.manylinux_2_5_x86_64.whl (4.9 MB)\n",
      "\u001b[2K   \u001b[90m━━━━━━━━━━━━━━━━━━━━━━━━━━━━━━━━━━━━━━━━\u001b[0m \u001b[32m4.9/4.9 MB\u001b[0m \u001b[31m12.5 MB/s\u001b[0m eta \u001b[36m0:00:00\u001b[0mta \u001b[36m0:00:01\u001b[0m\n",
      "\u001b[?25hDownloading kiwisolver-1.4.8-cp312-cp312-manylinux_2_17_x86_64.manylinux2014_x86_64.whl (1.5 MB)\n",
      "\u001b[2K   \u001b[90m━━━━━━━━━━━━━━━━━━━━━━━━━━━━━━━━━━━━━━━━\u001b[0m \u001b[32m1.5/1.5 MB\u001b[0m \u001b[31m4.3 MB/s\u001b[0m eta \u001b[36m0:00:00\u001b[0meta \u001b[36m0:00:01\u001b[0m\n",
      "\u001b[?25hDownloading numpy-2.3.1-cp312-cp312-manylinux_2_28_x86_64.whl (16.6 MB)\n",
      "\u001b[2K   \u001b[90m━━━━━━━━━━━━━━━━━━━━━━━━━━━━━━━━━━━━━━━━\u001b[0m \u001b[32m16.6/16.6 MB\u001b[0m \u001b[31m9.7 MB/s\u001b[0m eta \u001b[36m0:00:00\u001b[0m0:00:01\u001b[0m\n",
      "\u001b[?25hDownloading pillow-11.2.1-cp312-cp312-manylinux_2_28_x86_64.whl (4.6 MB)\n",
      "\u001b[2K   \u001b[90m━━━━━━━━━━━━━━━━━━━━━━━━━━━━━━━━━━━━━━━━\u001b[0m \u001b[32m4.6/4.6 MB\u001b[0m \u001b[31m13.3 MB/s\u001b[0m eta \u001b[36m0:00:00\u001b[0mta \u001b[36m0:00:01\u001b[0m\n",
      "\u001b[?25hDownloading pytz-2025.2-py2.py3-none-any.whl (509 kB)\n",
      "Downloading tzdata-2025.2-py2.py3-none-any.whl (347 kB)\n",
      "Installing collected packages: pytz, tzdata, rapidfuzz, pillow, numpy, networkx, kiwisolver, fonttools, cycler, pandas, contourpy, matplotlib\n",
      "Successfully installed contourpy-1.3.2 cycler-0.12.1 fonttools-4.58.4 kiwisolver-1.4.8 matplotlib-3.10.3 networkx-3.5 numpy-2.3.1 pandas-2.3.0 pillow-11.2.1 pytz-2025.2 rapidfuzz-3.13.0 tzdata-2025.2\n"
     ]
    }
   ],
   "source": [
    "!pip install pandas rapidfuzz networkx matplotlib"
   ]
  },
  {
   "cell_type": "code",
   "execution_count": 2,
   "id": "28b9dcc0",
   "metadata": {},
   "outputs": [],
   "source": [
    "import pandas as pd\n",
    "import numpy as np\n",
    "from rapidfuzz import fuzz, process\n",
    "import networkx as nx\n",
    "from collections import Counter\n",
    "import matplotlib.pyplot as plt"
   ]
  },
  {
   "cell_type": "markdown",
   "id": "064ec0e7",
   "metadata": {},
   "source": [
    "## Cluster book titles"
   ]
  },
  {
   "cell_type": "code",
   "execution_count": 3,
   "id": "1eda24a3",
   "metadata": {},
   "outputs": [
    {
     "data": {
      "text/html": [
       "<div>\n",
       "<style scoped>\n",
       "    .dataframe tbody tr th:only-of-type {\n",
       "        vertical-align: middle;\n",
       "    }\n",
       "\n",
       "    .dataframe tbody tr th {\n",
       "        vertical-align: top;\n",
       "    }\n",
       "\n",
       "    .dataframe thead th {\n",
       "        text-align: right;\n",
       "    }\n",
       "</style>\n",
       "<table border=\"1\" class=\"dataframe\">\n",
       "  <thead>\n",
       "    <tr style=\"text-align: right;\">\n",
       "      <th></th>\n",
       "      <th>original_title</th>\n",
       "      <th>translated_title</th>\n",
       "      <th>author</th>\n",
       "      <th>article_id</th>\n",
       "      <th>date</th>\n",
       "      <th>text</th>\n",
       "    </tr>\n",
       "  </thead>\n",
       "  <tbody>\n",
       "    <tr>\n",
       "      <th>2</th>\n",
       "      <td>Alphabetisk Postadressebog</td>\n",
       "      <td>Alphabetical Postal Address Book</td>\n",
       "      <td>Anthon</td>\n",
       "      <td>aar_182421</td>\n",
       "      <td>1830-01-08</td>\n",
       "      <td>Alphabetisk Postadressebog, indeholdende Navne...</td>\n",
       "    </tr>\n",
       "    <tr>\n",
       "      <th>4</th>\n",
       "      <td>Alphabetisk Postadressebog</td>\n",
       "      <td>Alphabetical Postal Address Book</td>\n",
       "      <td>Anthon</td>\n",
       "      <td>aar_182527</td>\n",
       "      <td>1830-01-14</td>\n",
       "      <td>Alphabetisk Postadressebog, indeholdende Navne...</td>\n",
       "    </tr>\n",
       "    <tr>\n",
       "      <th>9</th>\n",
       "      <td>Greven af Burgund</td>\n",
       "      <td>The Count of Burgundy</td>\n",
       "      <td>Kotzebue</td>\n",
       "      <td>aar_183034</td>\n",
       "      <td>1830-02-09</td>\n",
       "      <td>Bekjendtgjørelser. Til Benefice for Jfr. Schla...</td>\n",
       "    </tr>\n",
       "    <tr>\n",
       "      <th>10</th>\n",
       "      <td>Rosakkernes Leir</td>\n",
       "      <td>The Camp of the Rosacans</td>\n",
       "      <td>NO_AUTHOR</td>\n",
       "      <td>aar_183034</td>\n",
       "      <td>1830-02-09</td>\n",
       "      <td>Bekjendtgjørelser. Til Benefice for Jfr. Schla...</td>\n",
       "    </tr>\n",
       "    <tr>\n",
       "      <th>11</th>\n",
       "      <td>Dæmona, eller: Bjergpigen</td>\n",
       "      <td>Dæmona, or The Mountain Girl</td>\n",
       "      <td>NO_AUTHOR</td>\n",
       "      <td>aar_183242</td>\n",
       "      <td>1830-02-19</td>\n",
       "      <td>Bekjendtgjørelser. Fastelavnsmandag Aften opfø...</td>\n",
       "    </tr>\n",
       "  </tbody>\n",
       "</table>\n",
       "</div>"
      ],
      "text/plain": [
       "                original_title                  translated_title     author  \\\n",
       "2   Alphabetisk Postadressebog  Alphabetical Postal Address Book     Anthon   \n",
       "4   Alphabetisk Postadressebog  Alphabetical Postal Address Book     Anthon   \n",
       "9            Greven af Burgund             The Count of Burgundy   Kotzebue   \n",
       "10            Rosakkernes Leir          The Camp of the Rosacans  NO_AUTHOR   \n",
       "11   Dæmona, eller: Bjergpigen      Dæmona, or The Mountain Girl  NO_AUTHOR   \n",
       "\n",
       "    article_id        date                                               text  \n",
       "2   aar_182421  1830-01-08  Alphabetisk Postadressebog, indeholdende Navne...  \n",
       "4   aar_182527  1830-01-14  Alphabetisk Postadressebog, indeholdende Navne...  \n",
       "9   aar_183034  1830-02-09  Bekjendtgjørelser. Til Benefice for Jfr. Schla...  \n",
       "10  aar_183034  1830-02-09  Bekjendtgjørelser. Til Benefice for Jfr. Schla...  \n",
       "11  aar_183242  1830-02-19  Bekjendtgjørelser. Fastelavnsmandag Aften opfø...  "
      ]
     },
     "execution_count": 3,
     "metadata": {},
     "output_type": "execute_result"
    }
   ],
   "source": [
    "real_books = pd.read_csv('../results/all_extracted_titles_real_books_extra_250624.csv', index_col=0)\n",
    "real_books.head()"
   ]
  },
  {
   "cell_type": "code",
   "execution_count": 4,
   "id": "78af149d",
   "metadata": {},
   "outputs": [],
   "source": [
    "# Step 1: Frequency count from real data\n",
    "freq_counter = Counter(real_books['original_title'])\n",
    "\n",
    "# Step 2: Build similarity graph\n",
    "unique_titles = real_books['original_title'].unique()\n",
    "G = nx.Graph()\n",
    "G.add_nodes_from(unique_titles)\n",
    "\n",
    "threshold = 85\n",
    "for i, t1 in enumerate(unique_titles):\n",
    "    for j, t2 in enumerate(unique_titles):\n",
    "        if i < j and fuzz.ratio(t1, t2) >= threshold:\n",
    "            G.add_edge(t1, t2)\n",
    "\n",
    "# Step 3: Assign each title to the most frequent variant in its cluster\n",
    "title_to_label = {}\n",
    "for cluster in nx.connected_components(G):\n",
    "    cluster_titles = list(cluster)\n",
    "    most_frequent = max(cluster_titles, key=lambda t: freq_counter[t])\n",
    "    for t in cluster_titles:\n",
    "        title_to_label[t] = most_frequent\n",
    "\n",
    "# Step 4: Map cluster label and compute similarity\n",
    "real_books['cluster_label'] = real_books['original_title'].map(title_to_label)\n",
    "real_books['similarity_to_label'] = real_books.apply(\n",
    "    lambda row: fuzz.ratio(row['original_title'], row['cluster_label']),\n",
    "    axis=1\n",
    ")\n",
    "\n",
    "# ✅ Final DataFrame\n",
    "df_clustered = real_books[['article_id', 'author', 'original_title', 'cluster_label', 'similarity_to_label']]"
   ]
  },
  {
   "cell_type": "code",
   "execution_count": 5,
   "id": "53f754bc",
   "metadata": {},
   "outputs": [
    {
     "data": {
      "text/plain": [
       "(1999, 5)"
      ]
     },
     "execution_count": 5,
     "metadata": {},
     "output_type": "execute_result"
    }
   ],
   "source": [
    "df_clustered.shape"
   ]
  },
  {
   "cell_type": "code",
   "execution_count": 6,
   "id": "0e134c41",
   "metadata": {},
   "outputs": [
    {
     "data": {
      "text/plain": [
       "1312"
      ]
     },
     "execution_count": 6,
     "metadata": {},
     "output_type": "execute_result"
    }
   ],
   "source": [
    "df_clustered['cluster_label'].nunique()"
   ]
  },
  {
   "cell_type": "code",
   "execution_count": 7,
   "id": "f9c77233",
   "metadata": {},
   "outputs": [],
   "source": [
    "df_clustered.to_csv('../results/title_clusters_extra_250624.csv')"
   ]
  },
  {
   "cell_type": "markdown",
   "id": "443842a0",
   "metadata": {},
   "source": [
    "## Round 2 with cleaned dataset"
   ]
  },
  {
   "cell_type": "code",
   "execution_count": 9,
   "id": "b44dd815",
   "metadata": {},
   "outputs": [
    {
     "data": {
      "text/html": [
       "<div>\n",
       "<style scoped>\n",
       "    .dataframe tbody tr th:only-of-type {\n",
       "        vertical-align: middle;\n",
       "    }\n",
       "\n",
       "    .dataframe tbody tr th {\n",
       "        vertical-align: top;\n",
       "    }\n",
       "\n",
       "    .dataframe thead th {\n",
       "        text-align: right;\n",
       "    }\n",
       "</style>\n",
       "<table border=\"1\" class=\"dataframe\">\n",
       "  <thead>\n",
       "    <tr style=\"text-align: right;\">\n",
       "      <th></th>\n",
       "      <th>article_id</th>\n",
       "      <th>author</th>\n",
       "      <th>last_name</th>\n",
       "      <th>clean_title</th>\n",
       "    </tr>\n",
       "  </thead>\n",
       "  <tbody>\n",
       "    <tr>\n",
       "      <th>5307</th>\n",
       "      <td>thi_018759</td>\n",
       "      <td>Aaben</td>\n",
       "      <td>Aaben</td>\n",
       "      <td>Practisk Regnebog for Begyndere</td>\n",
       "    </tr>\n",
       "    <tr>\n",
       "      <th>9723</th>\n",
       "      <td>ode_156813</td>\n",
       "      <td>T. Aabye</td>\n",
       "      <td>Aabye</td>\n",
       "      <td>Veiledning for Bonden til selv at opmaale og a...</td>\n",
       "    </tr>\n",
       "    <tr>\n",
       "      <th>4870</th>\n",
       "      <td>ode_165427</td>\n",
       "      <td>T. Aabye</td>\n",
       "      <td>Aabye</td>\n",
       "      <td>Veiledning for Bonden til selv at opmaale og a...</td>\n",
       "    </tr>\n",
       "    <tr>\n",
       "      <th>4001</th>\n",
       "      <td>ode_084648</td>\n",
       "      <td>J. F. Abel</td>\n",
       "      <td>Abel</td>\n",
       "      <td>Udførlig Fremstilling af Grunden for vor Tro p...</td>\n",
       "    </tr>\n",
       "    <tr>\n",
       "      <th>1095</th>\n",
       "      <td>lol_059597</td>\n",
       "      <td>L. Abrahams</td>\n",
       "      <td>Abrahams</td>\n",
       "      <td>Franske Stilleøvelser</td>\n",
       "    </tr>\n",
       "  </tbody>\n",
       "</table>\n",
       "</div>"
      ],
      "text/plain": [
       "      article_id       author last_name  \\\n",
       "5307  thi_018759        Aaben     Aaben   \n",
       "9723  ode_156813     T. Aabye     Aabye   \n",
       "4870  ode_165427     T. Aabye     Aabye   \n",
       "4001  ode_084648   J. F. Abel      Abel   \n",
       "1095  lol_059597  L. Abrahams  Abrahams   \n",
       "\n",
       "                                            clean_title  \n",
       "5307                    Practisk Regnebog for Begyndere  \n",
       "9723  Veiledning for Bonden til selv at opmaale og a...  \n",
       "4870  Veiledning for Bonden til selv at opmaale og a...  \n",
       "4001  Udførlig Fremstilling af Grunden for vor Tro p...  \n",
       "1095                              Franske Stilleøvelser  "
      ]
     },
     "execution_count": 9,
     "metadata": {},
     "output_type": "execute_result"
    }
   ],
   "source": [
    "df = pd.read_csv('../results/titles_clean_250619.csv', index_col=0)\n",
    "df = df[['article_id', 'author', 'last_name', 'clean_title']]\n",
    "df.head()"
   ]
  },
  {
   "cell_type": "code",
   "execution_count": 10,
   "id": "b5b415c2",
   "metadata": {},
   "outputs": [
    {
     "data": {
      "text/html": [
       "<div>\n",
       "<style scoped>\n",
       "    .dataframe tbody tr th:only-of-type {\n",
       "        vertical-align: middle;\n",
       "    }\n",
       "\n",
       "    .dataframe tbody tr th {\n",
       "        vertical-align: top;\n",
       "    }\n",
       "\n",
       "    .dataframe thead th {\n",
       "        text-align: right;\n",
       "    }\n",
       "</style>\n",
       "<table border=\"1\" class=\"dataframe\">\n",
       "  <thead>\n",
       "    <tr style=\"text-align: right;\">\n",
       "      <th></th>\n",
       "      <th>article_id</th>\n",
       "      <th>author</th>\n",
       "      <th>last_name</th>\n",
       "      <th>clean_title</th>\n",
       "    </tr>\n",
       "  </thead>\n",
       "  <tbody>\n",
       "    <tr>\n",
       "      <th>634</th>\n",
       "      <td>aar_235837</td>\n",
       "      <td>Henri Bertini</td>\n",
       "      <td>Bertini</td>\n",
       "      <td>25 Grands Caprices Etudes pour le Piano</td>\n",
       "    </tr>\n",
       "    <tr>\n",
       "      <th>644</th>\n",
       "      <td>aar_236320</td>\n",
       "      <td>Henri Bertini</td>\n",
       "      <td>Bertini</td>\n",
       "      <td>25 Grands Caprices Etudes pour le Piano</td>\n",
       "    </tr>\n",
       "    <tr>\n",
       "      <th>650</th>\n",
       "      <td>aar_236734</td>\n",
       "      <td>Henri Bertini</td>\n",
       "      <td>Bertini</td>\n",
       "      <td>Grands Caprices Etudes pour le Piano</td>\n",
       "    </tr>\n",
       "    <tr>\n",
       "      <th>902</th>\n",
       "      <td>aar_252050</td>\n",
       "      <td>A. Schytte</td>\n",
       "      <td>Schytte</td>\n",
       "      <td>Aarhuus Domkirke</td>\n",
       "    </tr>\n",
       "    <tr>\n",
       "      <th>36</th>\n",
       "      <td>aar_186360</td>\n",
       "      <td>NO_AUTHOR</td>\n",
       "      <td>NO_AUTHOR</td>\n",
       "      <td>Af Bibliothet fur Pianoforto=Spieler</td>\n",
       "    </tr>\n",
       "  </tbody>\n",
       "</table>\n",
       "</div>"
      ],
      "text/plain": [
       "     article_id         author  last_name  \\\n",
       "634  aar_235837  Henri Bertini    Bertini   \n",
       "644  aar_236320  Henri Bertini    Bertini   \n",
       "650  aar_236734  Henri Bertini    Bertini   \n",
       "902  aar_252050     A. Schytte    Schytte   \n",
       "36   aar_186360      NO_AUTHOR  NO_AUTHOR   \n",
       "\n",
       "                                 clean_title  \n",
       "634  25 Grands Caprices Etudes pour le Piano  \n",
       "644  25 Grands Caprices Etudes pour le Piano  \n",
       "650     Grands Caprices Etudes pour le Piano  \n",
       "902                         Aarhuus Domkirke  \n",
       "36      Af Bibliothet fur Pianoforto=Spieler  "
      ]
     },
     "execution_count": 10,
     "metadata": {},
     "output_type": "execute_result"
    }
   ],
   "source": [
    "df_extra = pd.read_csv('../results/title_clusters_aarhus_extra.csv', index_col=0)\n",
    "df_extra = df_extra[['article_id', 'author', 'last_name', 'clean_title']]\n",
    "df_extra.head()"
   ]
  },
  {
   "cell_type": "code",
   "execution_count": 15,
   "id": "f11877d5",
   "metadata": {},
   "outputs": [],
   "source": [
    "df = pd.concat([df, df_extra], ignore_index=True)"
   ]
  },
  {
   "cell_type": "code",
   "execution_count": 16,
   "id": "fec0c223",
   "metadata": {},
   "outputs": [
    {
     "data": {
      "text/plain": [
       "author\n",
       "NO_AUTHOR                                     1749\n",
       "A. F. Just                                     147\n",
       "J. L. Heiberg                                   78\n",
       "A. F. Elmquist                                  73\n",
       "Adam Oehlenschläger                             70\n",
       "                                              ... \n",
       "Aller                                            1\n",
       "E. Warberg                                       1\n",
       "I. Røgind                                        1\n",
       "Tage Müller, Ch. H. Kalkar, D. Westengaard       1\n",
       "Annette T.                                       1\n",
       "Name: count, Length: 1708, dtype: int64"
      ]
     },
     "execution_count": 16,
     "metadata": {},
     "output_type": "execute_result"
    }
   ],
   "source": [
    "df['author'].value_counts()"
   ]
  },
  {
   "cell_type": "code",
   "execution_count": 17,
   "id": "dd56e69b",
   "metadata": {},
   "outputs": [
    {
     "data": {
      "text/plain": [
       "clean_title\n",
       "Haandbog for den læsende Ungdom                                                           56\n",
       "Nye Kogebog                                                                               46\n",
       "Naturhistorie                                                                             33\n",
       "De vigtigste indenlandske Tildragelser og de mærkeligste Personers Levnetsbeskrivelser    32\n",
       "Læsebog                                                                                   26\n",
       "                                                                                          ..\n",
       "Forelæsninger over den aristoteliske Philosophie                                           1\n",
       "NetFesus i Gothsemane                                                                      1\n",
       "Fesus i Gethsemanne                                                                        1\n",
       "Fastelavns Løier i Kbhvn, paa Amager, men især paa Frederiksberg i Aaret 1820              1\n",
       "Grue Kirkes sørgelige Brand i Norge                                                        1\n",
       "Name: count, Length: 4636, dtype: int64"
      ]
     },
     "execution_count": 17,
     "metadata": {},
     "output_type": "execute_result"
    }
   ],
   "source": [
    "df['clean_title'].value_counts()"
   ]
  },
  {
   "cell_type": "code",
   "execution_count": 29,
   "id": "4069b0b9",
   "metadata": {},
   "outputs": [],
   "source": [
    "# Step 1: Frequency count from real data\n",
    "freq_counter = Counter(df['clean_title'])\n",
    "\n",
    "# Step 2: Build similarity graph\n",
    "unique_titles = df['clean_title'].unique()\n",
    "G = nx.Graph()\n",
    "G.add_nodes_from(unique_titles)\n",
    "\n",
    "threshold = 85\n",
    "for i, t1 in enumerate(unique_titles):\n",
    "    for j, t2 in enumerate(unique_titles):\n",
    "        if i < j and fuzz.ratio(t1, t2) >= threshold:\n",
    "            G.add_edge(t1, t2)\n",
    "\n",
    "# Step 3: Assign each title to the most frequent variant in its cluster\n",
    "title_to_label = {}\n",
    "for cluster in nx.connected_components(G):\n",
    "    cluster_titles = list(cluster)\n",
    "    most_frequent = max(cluster_titles, key=lambda t: freq_counter[t])\n",
    "    for t in cluster_titles:\n",
    "        title_to_label[t] = most_frequent\n",
    "\n",
    "# Step 4: Map cluster label and compute similarity\n",
    "df['cluster_label'] = df['clean_title'].map(title_to_label)\n",
    "df['similarity_to_label'] = df.apply(\n",
    "    lambda row: fuzz.ratio(row['clean_title'], row['cluster_label']),\n",
    "    axis=1\n",
    ")\n",
    "\n",
    "# ✅ Final DataFrame\n",
    "df_clustered = df[['article_id', 'author', 'clean_title', 'cluster_label', 'similarity_to_label']]"
   ]
  },
  {
   "cell_type": "code",
   "execution_count": 30,
   "id": "89c60a30",
   "metadata": {},
   "outputs": [
    {
     "name": "stderr",
     "output_type": "stream",
     "text": [
      "/tmp/ipykernel_251/772572639.py:1: SettingWithCopyWarning: \n",
      "A value is trying to be set on a copy of a slice from a DataFrame.\n",
      "Try using .loc[row_indexer,col_indexer] = value instead\n",
      "\n",
      "See the caveats in the documentation: https://pandas.pydata.org/pandas-docs/stable/user_guide/indexing.html#returning-a-view-versus-a-copy\n",
      "  df_clustered['newspaper'] = df_clustered['article_id'].str[:3]\n"
     ]
    }
   ],
   "source": [
    "df_clustered['newspaper'] = df_clustered['article_id'].str[:3]\n",
    "\n",
    "# First, make sure the number part is extracted correctly\n",
    "df_clustered['article_num'] = pd.to_numeric(\n",
    "    df_clustered['article_id'].str.extract(r'aar_(\\d+)', expand=False),\n",
    "    errors='coerce'\n",
    ")\n",
    "\n",
    "# Now filter: newspaper must be 'aar' and article_num >= 182421\n",
    "df_clustered = df_clustered[(df_clustered['newspaper'] == 'aar') & (df_clustered['article_num'] >= 182421)].copy()\n",
    "\n",
    "# Optionally drop the helper column\n",
    "df_clustered.drop(columns='article_num', inplace=True)"
   ]
  },
  {
   "cell_type": "code",
   "execution_count": 31,
   "id": "84a12f58",
   "metadata": {},
   "outputs": [
    {
     "data": {
      "text/plain": [
       "(415, 6)"
      ]
     },
     "execution_count": 31,
     "metadata": {},
     "output_type": "execute_result"
    }
   ],
   "source": [
    "df_clustered.shape"
   ]
  },
  {
   "cell_type": "code",
   "execution_count": 32,
   "id": "eeb2c49f",
   "metadata": {},
   "outputs": [
    {
     "data": {
      "text/plain": [
       "Index(['article_id', 'date', 'embedding', 'n_chunks_orig', 'clean_category',\n",
       "       'text', 'article_length', 'characters', 'embedding_shape', 'newspaper',\n",
       "       'label_type', 'predicted_book_announce'],\n",
       "      dtype='object')"
      ]
     },
     "execution_count": 32,
     "metadata": {},
     "output_type": "execute_result"
    }
   ],
   "source": [
    "# Load book announcements\n",
    "book_announces = pd.read_csv('../data/book_announces_extra_250624.csv', index_col=0)\n",
    "book_announces.columns"
   ]
  },
  {
   "cell_type": "code",
   "execution_count": 36,
   "id": "9946bb90",
   "metadata": {},
   "outputs": [],
   "source": [
    "# Merge titles with article metadata\n",
    "\n",
    "titles_metadata = pd.read_csv('../results/titles_metadata_250620.csv', index_col=0)\n",
    "titles_metadata_extra = pd.read_csv('../results/titles_metadata_extra_250624.csv', index_col=0)"
   ]
  },
  {
   "cell_type": "code",
   "execution_count": null,
   "id": "8ada4481",
   "metadata": {},
   "outputs": [
    {
     "data": {
      "text/html": [
       "<div>\n",
       "<style scoped>\n",
       "    .dataframe tbody tr th:only-of-type {\n",
       "        vertical-align: middle;\n",
       "    }\n",
       "\n",
       "    .dataframe tbody tr th {\n",
       "        vertical-align: top;\n",
       "    }\n",
       "\n",
       "    .dataframe thead th {\n",
       "        text-align: right;\n",
       "    }\n",
       "</style>\n",
       "<table border=\"1\" class=\"dataframe\">\n",
       "  <thead>\n",
       "    <tr style=\"text-align: right;\">\n",
       "      <th></th>\n",
       "      <th>article_id</th>\n",
       "      <th>author</th>\n",
       "      <th>clean_title</th>\n",
       "      <th>cluster_label</th>\n",
       "      <th>similarity_to_label</th>\n",
       "      <th>date</th>\n",
       "      <th>newspaper</th>\n",
       "      <th>month</th>\n",
       "    </tr>\n",
       "  </thead>\n",
       "  <tbody>\n",
       "    <tr>\n",
       "      <th>0</th>\n",
       "      <td>aar_235837</td>\n",
       "      <td>Henri Bertini</td>\n",
       "      <td>25 Grands Caprices Etudes pour le Piano</td>\n",
       "      <td>25 Grands Caprices Etudes pour le Piano</td>\n",
       "      <td>100.0</td>\n",
       "      <td>1844-02-21</td>\n",
       "      <td>aar</td>\n",
       "      <td>1844-02</td>\n",
       "    </tr>\n",
       "    <tr>\n",
       "      <th>1</th>\n",
       "      <td>aar_236320</td>\n",
       "      <td>Henri Bertini</td>\n",
       "      <td>25 Grands Caprices Etudes pour le Piano</td>\n",
       "      <td>25 Grands Caprices Etudes pour le Piano</td>\n",
       "      <td>100.0</td>\n",
       "      <td>1844-03-06</td>\n",
       "      <td>aar</td>\n",
       "      <td>1844-03</td>\n",
       "    </tr>\n",
       "    <tr>\n",
       "      <th>2</th>\n",
       "      <td>aar_236734</td>\n",
       "      <td>Henri Bertini</td>\n",
       "      <td>Grands Caprices Etudes pour le Piano</td>\n",
       "      <td>25 Grands Caprices Etudes pour le Piano</td>\n",
       "      <td>96.0</td>\n",
       "      <td>1844-03-16</td>\n",
       "      <td>aar</td>\n",
       "      <td>1844-03</td>\n",
       "    </tr>\n",
       "    <tr>\n",
       "      <th>3</th>\n",
       "      <td>aar_252050</td>\n",
       "      <td>A. Schytte</td>\n",
       "      <td>Aarhuus Domkirke</td>\n",
       "      <td>Aarhuus Domkirke</td>\n",
       "      <td>100.0</td>\n",
       "      <td>1845-06-02</td>\n",
       "      <td>aar</td>\n",
       "      <td>1845-06</td>\n",
       "    </tr>\n",
       "    <tr>\n",
       "      <th>4</th>\n",
       "      <td>aar_186360</td>\n",
       "      <td>NO_AUTHOR</td>\n",
       "      <td>Af Bibliothet fur Pianoforto=Spieler</td>\n",
       "      <td>Af Bibliothet fur Pianoforto=Spieler</td>\n",
       "      <td>100.0</td>\n",
       "      <td>1830-07-03</td>\n",
       "      <td>aar</td>\n",
       "      <td>1830-07</td>\n",
       "    </tr>\n",
       "  </tbody>\n",
       "</table>\n",
       "</div>"
      ],
      "text/plain": [
       "   article_id         author                              clean_title  \\\n",
       "0  aar_235837  Henri Bertini  25 Grands Caprices Etudes pour le Piano   \n",
       "1  aar_236320  Henri Bertini  25 Grands Caprices Etudes pour le Piano   \n",
       "2  aar_236734  Henri Bertini     Grands Caprices Etudes pour le Piano   \n",
       "3  aar_252050     A. Schytte                         Aarhuus Domkirke   \n",
       "4  aar_186360      NO_AUTHOR     Af Bibliothet fur Pianoforto=Spieler   \n",
       "\n",
       "                             cluster_label  similarity_to_label        date  \\\n",
       "0  25 Grands Caprices Etudes pour le Piano                100.0  1844-02-21   \n",
       "1  25 Grands Caprices Etudes pour le Piano                100.0  1844-03-06   \n",
       "2  25 Grands Caprices Etudes pour le Piano                 96.0  1844-03-16   \n",
       "3                         Aarhuus Domkirke                100.0  1845-06-02   \n",
       "4     Af Bibliothet fur Pianoforto=Spieler                100.0  1830-07-03   \n",
       "\n",
       "  newspaper    month  \n",
       "0       aar  1844-02  \n",
       "1       aar  1844-03  \n",
       "2       aar  1844-03  \n",
       "3       aar  1845-06  \n",
       "4       aar  1830-07  "
      ]
     },
     "execution_count": 40,
     "metadata": {},
     "output_type": "execute_result"
    }
   ],
   "source": [
    "titles_metadata_extra = titles_metadata_extra[['article_id', 'author', 'clean_title', 'cluster_label', 'similarity_to_label', 'date', 'newspaper', 'month']]"
   ]
  },
  {
   "cell_type": "code",
   "execution_count": 42,
   "id": "a991bb8e",
   "metadata": {},
   "outputs": [
    {
     "data": {
      "text/plain": [
       "(6463, 8)"
      ]
     },
     "execution_count": 42,
     "metadata": {},
     "output_type": "execute_result"
    }
   ],
   "source": [
    "titles_metadata = pd.concat([titles_metadata, titles_metadata_extra], ignore_index=True)\n",
    "titles_metadata.shape"
   ]
  },
  {
   "cell_type": "code",
   "execution_count": null,
   "id": "3eea5703",
   "metadata": {},
   "outputs": [],
   "source": [
    "# Get unique newspapers\n",
    "unique_newspapers = titles_metadata['newspaper'].unique()\n",
    "newspaper_dict = {'aal': 'Aalborg', 'lol': 'Lolland-Falster', 'ode': 'Odense', 'thi': 'Thisted', 'vib': 'Viborg', 'aar': 'Aarhus'}\n",
    "\n",
    "# correct order\n",
    "unique_newspapers = ['aal', 'aar', 'lol', 'ode', 'thi', 'vib']"
   ]
  },
  {
   "cell_type": "code",
   "execution_count": 44,
   "id": "a13d32da",
   "metadata": {},
   "outputs": [],
   "source": [
    "# Ensure date is datetime and create month period\n",
    "titles_metadata['date'] = pd.to_datetime(titles_metadata['date'])\n",
    "titles_metadata['month'] = titles_metadata['date'].dt.to_period('M')\n",
    "\n",
    "# Create full month range\n",
    "full_month_range = pd.period_range(\n",
    "    titles_metadata['month'].min(),\n",
    "    titles_metadata['month'].max(),\n",
    "    freq='M'\n",
    ")"
   ]
  },
  {
   "cell_type": "code",
   "execution_count": 46,
   "id": "aa98fa11",
   "metadata": {},
   "outputs": [
    {
     "data": {
      "image/png": "[encoded data removed]",
      "text/plain": [
       "<Figure size 1000x900 with 6 Axes>"
      ]
     },
     "metadata": {},
     "output_type": "display_data"
    }
   ],
   "source": [
    "fig, axes = plt.subplots(3, 2, figsize=(10, 9))\n",
    "axes = axes.flatten()\n",
    "\n",
    "for ax, nsp in zip(axes, unique_newspapers):\n",
    "    subset = titles_metadata[titles_metadata['newspaper'] == nsp].copy()\n",
    "\n",
    "    # Convert date and extract month period\n",
    "    subset['date'] = pd.to_datetime(subset['date'])\n",
    "    subset['month'] = subset['date'].dt.to_period('M')\n",
    "\n",
    "    # Define this newspaper's month range\n",
    "    month_range = pd.period_range(subset['month'].min(), subset['month'].max(), freq='M')\n",
    "\n",
    "    # Group and reindex to full range\n",
    "    grouped = subset.groupby('month').size()\n",
    "    grouped = grouped.reindex(month_range, fill_value=0)\n",
    "\n",
    "    # Use integer positions for bar plot\n",
    "    x_vals = list(range(len(grouped)))\n",
    "    ax.bar(x_vals, grouped.values, color='#297373')\n",
    "\n",
    "    # Tick labels every N years in January\n",
    "    tick_positions = []\n",
    "    tick_labels = []\n",
    "    for i, period in enumerate(month_range):\n",
    "        if period.month == 1 and (i == 0 or (period.year - month_range[0].year) % 5 == 0):\n",
    "            tick_positions.append(i)\n",
    "            tick_labels.append(str(period.year))\n",
    "\n",
    "    ax.set_xticks(tick_positions)\n",
    "    ax.set_xticklabels(tick_labels, rotation=0)\n",
    "    ax.set_ylabel('book titles per month')\n",
    "    ax.set_title(f'{newspaper_dict[nsp]}', fontsize=10)\n",
    "\n",
    "plt.tight_layout()\n",
    "plt.subplots_adjust(top=0.92)\n",
    "plt.savefig('../figures/titles_per_month.pdf', bbox_inches='tight')\n",
    "plt.show()"
   ]
  },
  {
   "cell_type": "code",
   "execution_count": 35,
   "id": "b928678d",
   "metadata": {},
   "outputs": [],
   "source": [
    "titles_metadata.to_csv('../results/titles_metadata_extra_250624.csv')"
   ]
  },
  {
   "cell_type": "code",
   "execution_count": 47,
   "id": "12ee1e9f",
   "metadata": {},
   "outputs": [
    {
     "data": {
      "text/plain": [
       "newspaper\n",
       "ode    1580\n",
       "aar    1328\n",
       "lol    1057\n",
       "aal     984\n",
       "vib     870\n",
       "thi     644\n",
       "Name: count, dtype: int64"
      ]
     },
     "execution_count": 47,
     "metadata": {},
     "output_type": "execute_result"
    }
   ],
   "source": [
    "titles_metadata['newspaper'].value_counts()"
   ]
  },
  {
   "cell_type": "code",
   "execution_count": 48,
   "id": "8589ebe5",
   "metadata": {},
   "outputs": [
    {
     "data": {
      "text/plain": [
       "newspaper\n",
       "aal    571\n",
       "aar    858\n",
       "lol    632\n",
       "ode    894\n",
       "thi    222\n",
       "vib    567\n",
       "Name: article_id, dtype: int64"
      ]
     },
     "execution_count": 48,
     "metadata": {},
     "output_type": "execute_result"
    }
   ],
   "source": [
    "titles_metadata.groupby('newspaper')['article_id'].nunique()"
   ]
  },
  {
   "cell_type": "code",
   "execution_count": 40,
   "id": "31e53ddb",
   "metadata": {},
   "outputs": [],
   "source": [
    "## Count all the announcements (and articles) in the newspapers, so the number of books in there can be put in perspective. "
   ]
  },
  {
   "cell_type": "code",
   "execution_count": 17,
   "id": "8c0d5867",
   "metadata": {},
   "outputs": [
    {
     "data": {
      "text/plain": [
       "(6048, 7)"
      ]
     },
     "execution_count": 17,
     "metadata": {},
     "output_type": "execute_result"
    }
   ],
   "source": [
    "titles_metadata.shape"
   ]
  },
  {
   "cell_type": "code",
   "execution_count": 31,
   "id": "b74dd158",
   "metadata": {},
   "outputs": [
    {
     "data": {
      "image/png": "[encoded data removed]",
      "text/plain": [
       "<Figure size 1000x400 with 1 Axes>"
      ]
     },
     "metadata": {},
     "output_type": "display_data"
    }
   ],
   "source": [
    "# Define the title you want to track\n",
    "target_title = \"Haandbog for den læsende Ungdom\"  # lowercase to match if needed\n",
    "\n",
    "# Make sure titles and dates are clean\n",
    "titles_metadata['date'] = pd.to_datetime(titles_metadata['date'])\n",
    "\n",
    "# Filter for the specific title\n",
    "title_subset = titles_metadata[titles_metadata['cluster_label'] == target_title].copy()\n",
    "\n",
    "# Create monthly bins\n",
    "title_subset['month'] = title_subset['date'].dt.to_period('M')\n",
    "monthly_counts = title_subset.groupby('month').size()\n",
    "\n",
    "# Fill missing months in the range with 0\n",
    "full_month_range = pd.period_range(titles_metadata['date'].min(), titles_metadata['date'].max(), freq='M')\n",
    "monthly_counts = monthly_counts.reindex(full_month_range, fill_value=0)\n",
    "\n",
    "# Plot\n",
    "plt.figure(figsize=(10, 4))\n",
    "plt.bar(monthly_counts.index.to_timestamp(), monthly_counts.values)\n",
    "plt.title(f\"Frequency of '{target_title}' over time\")\n",
    "plt.xlabel(\"Month\")\n",
    "plt.ylabel(\"Mentions\")\n",
    "plt.grid(True)\n",
    "plt.tight_layout()\n",
    "plt.show()"
   ]
  },
  {
   "cell_type": "code",
   "execution_count": null,
   "id": "9a2d2024",
   "metadata": {},
   "outputs": [],
   "source": []
  }
 ],
 "metadata": {
  "kernelspec": {
   "display_name": "Python 3",
   "language": "python",
   "name": "python3"
  },
  "language_info": {
   "codemirror_mode": {
    "name": "ipython",
    "version": 3
   },
   "file_extension": ".py",
   "mimetype": "text/x-python",
   "name": "python",
   "nbconvert_exporter": "python",
   "pygments_lexer": "ipython3",
   "version": "3.12.3"
  }
 },
 "nbformat": 4,
 "nbformat_minor": 5
}
