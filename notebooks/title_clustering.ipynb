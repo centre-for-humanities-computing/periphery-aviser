{
 "cells": [
  {
   "cell_type": "code",
   "execution_count": 3,
   "id": "28b9dcc0",
   "metadata": {},
   "outputs": [],
   "source": [
    "import pandas as pd"
   ]
  },
  {
   "cell_type": "code",
   "execution_count": 6,
   "id": "23659f03",
   "metadata": {},
   "outputs": [
    {
     "data": {
      "text/html": [
       "<div>\n",
       "<style scoped>\n",
       "    .dataframe tbody tr th:only-of-type {\n",
       "        vertical-align: middle;\n",
       "    }\n",
       "\n",
       "    .dataframe tbody tr th {\n",
       "        vertical-align: top;\n",
       "    }\n",
       "\n",
       "    .dataframe thead th {\n",
       "        text-align: right;\n",
       "    }\n",
       "</style>\n",
       "<table border=\"1\" class=\"dataframe\">\n",
       "  <thead>\n",
       "    <tr style=\"text-align: right;\">\n",
       "      <th></th>\n",
       "      <th>original_title</th>\n",
       "      <th>translated_title</th>\n",
       "      <th>author</th>\n",
       "      <th>article_id</th>\n",
       "      <th>date</th>\n",
       "      <th>text</th>\n",
       "    </tr>\n",
       "  </thead>\n",
       "  <tbody>\n",
       "    <tr>\n",
       "      <th>0</th>\n",
       "      <td>Geographie for Ungdommen</td>\n",
       "      <td>Geography for Youth</td>\n",
       "      <td>Fabris and Gaspari</td>\n",
       "      <td>lol_000038</td>\n",
       "      <td>1809-03-07</td>\n",
       "      <td>Paa Addresse-Contoiret i Mariboe bekommes følg...</td>\n",
       "    </tr>\n",
       "    <tr>\n",
       "      <th>1</th>\n",
       "      <td>Poesier</td>\n",
       "      <td>Poems</td>\n",
       "      <td>J. Smith</td>\n",
       "      <td>lol_000038</td>\n",
       "      <td>1809-03-07</td>\n",
       "      <td>Paa Addresse-Contoiret i Mariboe bekommes følg...</td>\n",
       "    </tr>\n",
       "    <tr>\n",
       "      <th>2</th>\n",
       "      <td>Peder Greve af Griffenfeldts Fortjenester</td>\n",
       "      <td>Peder Greve of Griffenfeldt's Merits</td>\n",
       "      <td>G. L. Baden</td>\n",
       "      <td>lol_000038</td>\n",
       "      <td>1809-03-07</td>\n",
       "      <td>Paa Addresse-Contoiret i Mariboe bekommes følg...</td>\n",
       "    </tr>\n",
       "    <tr>\n",
       "      <th>3</th>\n",
       "      <td>Maskeradeballet i Dannemark</td>\n",
       "      <td>The Masquerade Ballet in Denmark</td>\n",
       "      <td>N. F. S. Grundtvig</td>\n",
       "      <td>lol_000109</td>\n",
       "      <td>1809-03-17</td>\n",
       "      <td>Maskeradeballet i Dannemark 1808. Et Syn af N....</td>\n",
       "    </tr>\n",
       "    <tr>\n",
       "      <th>4</th>\n",
       "      <td>Geographie for Ungdommen</td>\n",
       "      <td>Geography for Youth</td>\n",
       "      <td>NO_AUTHOR</td>\n",
       "      <td>lol_000109</td>\n",
       "      <td>1809-03-17</td>\n",
       "      <td>Maskeradeballet i Dannemark 1808. Et Syn af N....</td>\n",
       "    </tr>\n",
       "  </tbody>\n",
       "</table>\n",
       "</div>"
      ],
      "text/plain": [
       "                              original_title  \\\n",
       "0                   Geographie for Ungdommen   \n",
       "1                                    Poesier   \n",
       "2  Peder Greve af Griffenfeldts Fortjenester   \n",
       "3                Maskeradeballet i Dannemark   \n",
       "4                   Geographie for Ungdommen   \n",
       "\n",
       "                       translated_title              author  article_id  \\\n",
       "0                   Geography for Youth  Fabris and Gaspari  lol_000038   \n",
       "1                                 Poems            J. Smith  lol_000038   \n",
       "2  Peder Greve of Griffenfeldt's Merits         G. L. Baden  lol_000038   \n",
       "3      The Masquerade Ballet in Denmark  N. F. S. Grundtvig  lol_000109   \n",
       "4                   Geography for Youth           NO_AUTHOR  lol_000109   \n",
       "\n",
       "         date                                               text  \n",
       "0  1809-03-07  Paa Addresse-Contoiret i Mariboe bekommes følg...  \n",
       "1  1809-03-07  Paa Addresse-Contoiret i Mariboe bekommes følg...  \n",
       "2  1809-03-07  Paa Addresse-Contoiret i Mariboe bekommes følg...  \n",
       "3  1809-03-17  Maskeradeballet i Dannemark 1808. Et Syn af N....  \n",
       "4  1809-03-17  Maskeradeballet i Dannemark 1808. Et Syn af N....  "
      ]
     },
     "execution_count": 6,
     "metadata": {},
     "output_type": "execute_result"
    }
   ],
   "source": [
    "df = pd.read_csv('../results/all_extracted_titles_250530.csv', index_col=0)\n",
    "df.head()"
   ]
  },
  {
   "cell_type": "code",
   "execution_count": 7,
   "id": "b7d61bcb",
   "metadata": {},
   "outputs": [
    {
     "data": {
      "text/plain": [
       "(10176, 6)"
      ]
     },
     "execution_count": 7,
     "metadata": {},
     "output_type": "execute_result"
    }
   ],
   "source": [
    "df.shape"
   ]
  },
  {
   "cell_type": "code",
   "execution_count": 11,
   "id": "1964cf7b",
   "metadata": {},
   "outputs": [
    {
     "data": {
      "text/plain": [
       "(6049, 6)"
      ]
     },
     "execution_count": 11,
     "metadata": {},
     "output_type": "execute_result"
    }
   ],
   "source": [
    "real_books = df[df['original_title'] != 'NO_BOOK']\n",
    "real_books.shape"
   ]
  },
  {
   "cell_type": "code",
   "execution_count": 19,
   "id": "0394e658",
   "metadata": {},
   "outputs": [],
   "source": [
    "real_books.to_csv('../results/all_extracted_titles_real_books_250530.csv')"
   ]
  },
  {
   "cell_type": "code",
   "execution_count": 17,
   "id": "2aa5bb34",
   "metadata": {},
   "outputs": [],
   "source": [
    "real_books['original_title'].value_counts().to_csv('../results/value_counts_book_titles_250530.csv')"
   ]
  },
  {
   "cell_type": "code",
   "execution_count": null,
   "id": "1eda24a3",
   "metadata": {},
   "outputs": [],
   "source": []
  }
 ],
 "metadata": {
  "kernelspec": {
   "display_name": "Python 3",
   "language": "python",
   "name": "python3"
  },
  "language_info": {
   "codemirror_mode": {
    "name": "ipython",
    "version": 3
   },
   "file_extension": ".py",
   "mimetype": "text/x-python",
   "name": "python",
   "nbconvert_exporter": "python",
   "pygments_lexer": "ipython3",
   "version": "3.12.3"
  }
 },
 "nbformat": 4,
 "nbformat_minor": 5
}
