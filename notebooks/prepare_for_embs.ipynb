{
 "cells": [
  {
   "cell_type": "code",
   "execution_count": 1,
   "metadata": {},
   "outputs": [
    {
     "name": "stdout",
     "output_type": "stream",
     "text": [
      "Defaulting to user installation because normal site-packages is not writeable\n",
      "Requirement already satisfied: pandas in /home/ucloud/.local/lib/python3.12/site-packages (2.3.0)\n",
      "Requirement already satisfied: numpy>=1.26.0 in /home/ucloud/.local/lib/python3.12/site-packages (from pandas) (2.3.1)\n",
      "Requirement already satisfied: python-dateutil>=2.8.2 in /home/ucloud/.local/lib/python3.12/site-packages (from pandas) (2.9.0.post0)\n",
      "Requirement already satisfied: pytz>=2020.1 in /home/ucloud/.local/lib/python3.12/site-packages (from pandas) (2025.2)\n",
      "Requirement already satisfied: tzdata>=2022.7 in /home/ucloud/.local/lib/python3.12/site-packages (from pandas) (2025.2)\n",
      "Requirement already satisfied: six>=1.5 in /usr/lib/python3/dist-packages (from python-dateutil>=2.8.2->pandas) (1.16.0)\n",
      "Defaulting to user installation because normal site-packages is not writeable\n",
      "Requirement already satisfied: numpy in /home/ucloud/.local/lib/python3.12/site-packages (2.3.1)\n",
      "Defaulting to user installation because normal site-packages is not writeable\n",
      "Requirement already satisfied: matplotlib in /home/ucloud/.local/lib/python3.12/site-packages (3.10.3)\n",
      "Requirement already satisfied: contourpy>=1.0.1 in /home/ucloud/.local/lib/python3.12/site-packages (from matplotlib) (1.3.2)\n",
      "Requirement already satisfied: cycler>=0.10 in /home/ucloud/.local/lib/python3.12/site-packages (from matplotlib) (0.12.1)\n",
      "Requirement already satisfied: fonttools>=4.22.0 in /home/ucloud/.local/lib/python3.12/site-packages (from matplotlib) (4.58.4)\n",
      "Requirement already satisfied: kiwisolver>=1.3.1 in /home/ucloud/.local/lib/python3.12/site-packages (from matplotlib) (1.4.8)\n",
      "Requirement already satisfied: numpy>=1.23 in /home/ucloud/.local/lib/python3.12/site-packages (from matplotlib) (2.3.1)\n",
      "Requirement already satisfied: packaging>=20.0 in /usr/lib/python3/dist-packages (from matplotlib) (24.0)\n",
      "Requirement already satisfied: pillow>=8 in /home/ucloud/.local/lib/python3.12/site-packages (from matplotlib) (11.2.1)\n",
      "Requirement already satisfied: pyparsing>=2.3.1 in /usr/lib/python3/dist-packages (from matplotlib) (3.1.1)\n",
      "Requirement already satisfied: python-dateutil>=2.7 in /home/ucloud/.local/lib/python3.12/site-packages (from matplotlib) (2.9.0.post0)\n",
      "Requirement already satisfied: six>=1.5 in /usr/lib/python3/dist-packages (from python-dateutil>=2.7->matplotlib) (1.16.0)\n",
      "Defaulting to user installation because normal site-packages is not writeable\n",
      "Requirement already satisfied: seaborn in /home/ucloud/.local/lib/python3.12/site-packages (0.13.2)\n",
      "Requirement already satisfied: numpy!=1.24.0,>=1.20 in /home/ucloud/.local/lib/python3.12/site-packages (from seaborn) (2.3.1)\n",
      "Requirement already satisfied: pandas>=1.2 in /home/ucloud/.local/lib/python3.12/site-packages (from seaborn) (2.3.0)\n",
      "Requirement already satisfied: matplotlib!=3.6.1,>=3.4 in /home/ucloud/.local/lib/python3.12/site-packages (from seaborn) (3.10.3)\n",
      "Requirement already satisfied: contourpy>=1.0.1 in /home/ucloud/.local/lib/python3.12/site-packages (from matplotlib!=3.6.1,>=3.4->seaborn) (1.3.2)\n",
      "Requirement already satisfied: cycler>=0.10 in /home/ucloud/.local/lib/python3.12/site-packages (from matplotlib!=3.6.1,>=3.4->seaborn) (0.12.1)\n",
      "Requirement already satisfied: fonttools>=4.22.0 in /home/ucloud/.local/lib/python3.12/site-packages (from matplotlib!=3.6.1,>=3.4->seaborn) (4.58.4)\n",
      "Requirement already satisfied: kiwisolver>=1.3.1 in /home/ucloud/.local/lib/python3.12/site-packages (from matplotlib!=3.6.1,>=3.4->seaborn) (1.4.8)\n",
      "Requirement already satisfied: packaging>=20.0 in /usr/lib/python3/dist-packages (from matplotlib!=3.6.1,>=3.4->seaborn) (24.0)\n",
      "Requirement already satisfied: pillow>=8 in /home/ucloud/.local/lib/python3.12/site-packages (from matplotlib!=3.6.1,>=3.4->seaborn) (11.2.1)\n",
      "Requirement already satisfied: pyparsing>=2.3.1 in /usr/lib/python3/dist-packages (from matplotlib!=3.6.1,>=3.4->seaborn) (3.1.1)\n",
      "Requirement already satisfied: python-dateutil>=2.7 in /home/ucloud/.local/lib/python3.12/site-packages (from matplotlib!=3.6.1,>=3.4->seaborn) (2.9.0.post0)\n",
      "Requirement already satisfied: pytz>=2020.1 in /home/ucloud/.local/lib/python3.12/site-packages (from pandas>=1.2->seaborn) (2025.2)\n",
      "Requirement already satisfied: tzdata>=2022.7 in /home/ucloud/.local/lib/python3.12/site-packages (from pandas>=1.2->seaborn) (2025.2)\n",
      "Requirement already satisfied: six>=1.5 in /usr/lib/python3/dist-packages (from python-dateutil>=2.7->matplotlib!=3.6.1,>=3.4->seaborn) (1.16.0)\n",
      "Defaulting to user installation because normal site-packages is not writeable\n",
      "\u001b[31mERROR: Could not find a version that satisfies the requirement re (from versions: none)\u001b[0m\u001b[31m\n",
      "\u001b[0m\u001b[31mERROR: No matching distribution found for re\u001b[0m\u001b[31m\n",
      "\u001b[0mDefaulting to user installation because normal site-packages is not writeable\n",
      "Requirement already satisfied: nltk in /home/ucloud/.local/lib/python3.12/site-packages (3.9.1)\n",
      "Requirement already satisfied: click in /usr/lib/python3/dist-packages (from nltk) (8.1.6)\n",
      "Requirement already satisfied: joblib in /home/ucloud/.local/lib/python3.12/site-packages (from nltk) (1.5.1)\n",
      "Requirement already satisfied: regex>=2021.8.3 in /home/ucloud/.local/lib/python3.12/site-packages (from nltk) (2024.11.6)\n",
      "Requirement already satisfied: tqdm in /home/ucloud/.local/lib/python3.12/site-packages (from nltk) (4.67.1)\n",
      "Defaulting to user installation because normal site-packages is not writeable\n",
      "Requirement already satisfied: openpyxl in /home/ucloud/.local/lib/python3.12/site-packages (3.1.5)\n",
      "Requirement already satisfied: et-xmlfile in /home/ucloud/.local/lib/python3.12/site-packages (from openpyxl) (2.0.0)\n"
     ]
    }
   ],
   "source": [
    "!pip install pandas\n",
    "!pip install numpy\n",
    "!pip install matplotlib\n",
    "!pip install seaborn\n",
    "!pip install re\n",
    "!pip install nltk\n",
    "!pip install openpyxl"
   ]
  },
  {
   "cell_type": "code",
   "execution_count": 3,
   "metadata": {},
   "outputs": [],
   "source": [
    "import pandas as pd\n",
    "import numpy as np\n",
    "import matplotlib.pyplot as plt\n",
    "import seaborn as sns\n",
    "import json\n",
    "import openpyxl"
   ]
  },
  {
   "cell_type": "markdown",
   "metadata": {},
   "source": [
    "### Load datasets\n",
    "\n",
    "#### Lolland-Falster"
   ]
  },
  {
   "cell_type": "code",
   "execution_count": 31,
   "metadata": {},
   "outputs": [],
   "source": [
    "lf_df = pd.read_excel('../../../DATA/NEWSPAPERS/Maribo_final_docs.xlsx')"
   ]
  },
  {
   "cell_type": "code",
   "execution_count": 32,
   "metadata": {},
   "outputs": [],
   "source": [
    "lf_df['category'] = lf_df['seneste_rubrik'].str.replace(r'\\.?_x000D_', '', regex=True)\n",
    "lf_df['article_length'] = lf_df['text'].apply(lambda x: len(str(x).split()))\n",
    "lf_df['characters'] = lf_df['text'].str.len()\n",
    "lf_df['date'] = pd.to_datetime(lf_df['nøgle'].str[:10], errors='coerce')"
   ]
  },
  {
   "cell_type": "code",
   "execution_count": 33,
   "metadata": {},
   "outputs": [],
   "source": [
    "lf_df['clean_category'] = lf_df['category']\n",
    "\n",
    "replacements = {'(Jndsendt.)': 'Jndenlandsk', # they get mixed up in the classification \n",
    "                'Jndsendt': 'Jndenlandsk', #they get mixed up in the classification\n",
    "                'Bekiendtgiørelser': 'Bekjendtgjørelser',\n",
    "                'Bekiendtgjørelser': 'Bekjendtgjørelser',\n",
    "                'Bekjendtgjörelser': 'Bekjendtgjørelser',\n",
    "                'Udenlandske Efterretninger': 'Udenlandsk',\n",
    "                'Udenlandske Nyheder': 'Udenlandsk',\n",
    "                'Fædrelandet': 'Jndenlandsk', # these get renamed after 1836\n",
    "                'Blandet': 'Udenlandsk'} # these get renamed after 1836\n",
    "\n",
    "lf_df['clean_category'] = lf_df['clean_category'].replace(replacements)"
   ]
  },
  {
   "cell_type": "code",
   "execution_count": 34,
   "metadata": {},
   "outputs": [
    {
     "data": {
      "text/html": [
       "<div>\n",
       "<style scoped>\n",
       "    .dataframe tbody tr th:only-of-type {\n",
       "        vertical-align: middle;\n",
       "    }\n",
       "\n",
       "    .dataframe tbody tr th {\n",
       "        vertical-align: top;\n",
       "    }\n",
       "\n",
       "    .dataframe thead th {\n",
       "        text-align: right;\n",
       "    }\n",
       "</style>\n",
       "<table border=\"1\" class=\"dataframe\">\n",
       "  <thead>\n",
       "    <tr style=\"text-align: right;\">\n",
       "      <th></th>\n",
       "      <th>article_id</th>\n",
       "      <th>nøgle</th>\n",
       "      <th>date</th>\n",
       "      <th>text</th>\n",
       "      <th>category</th>\n",
       "      <th>clean_category</th>\n",
       "      <th>article_length</th>\n",
       "      <th>characters</th>\n",
       "    </tr>\n",
       "  </thead>\n",
       "  <tbody>\n",
       "    <tr>\n",
       "      <th>0</th>\n",
       "      <td>lol_000001</td>\n",
       "      <td>1809-03-07_5</td>\n",
       "      <td>1809-03-07</td>\n",
       "      <td>Jndenlandsk. Helsingøer den 26de Februar. J Fo...</td>\n",
       "      <td>Jndenlandsk</td>\n",
       "      <td>Jndenlandsk</td>\n",
       "      <td>298</td>\n",
       "      <td>1592</td>\n",
       "    </tr>\n",
       "    <tr>\n",
       "      <th>1</th>\n",
       "      <td>lol_000002</td>\n",
       "      <td>1809-03-07_8</td>\n",
       "      <td>1809-03-07</td>\n",
       "      <td>Kjøbenhavn den 27 Februarii. Kornpriserne i Kb...</td>\n",
       "      <td>Jndenlandsk</td>\n",
       "      <td>Jndenlandsk</td>\n",
       "      <td>81</td>\n",
       "      <td>513</td>\n",
       "    </tr>\n",
       "    <tr>\n",
       "      <th>2</th>\n",
       "      <td>lol_000003</td>\n",
       "      <td>1809-03-07_9</td>\n",
       "      <td>1809-03-07</td>\n",
       "      <td>De danske Officerer af Linieskibet Prinds Chri...</td>\n",
       "      <td>Jndenlandsk</td>\n",
       "      <td>Jndenlandsk</td>\n",
       "      <td>31</td>\n",
       "      <td>205</td>\n",
       "    </tr>\n",
       "    <tr>\n",
       "      <th>3</th>\n",
       "      <td>lol_000004</td>\n",
       "      <td>1809-03-07_10</td>\n",
       "      <td>1809-03-07</td>\n",
       "      <td>Caffe koster nu paa det Vestindiske Compagnie ...</td>\n",
       "      <td>Jndenlandsk</td>\n",
       "      <td>Jndenlandsk</td>\n",
       "      <td>48</td>\n",
       "      <td>257</td>\n",
       "    </tr>\n",
       "    <tr>\n",
       "      <th>4</th>\n",
       "      <td>lol_000005</td>\n",
       "      <td>1809-03-07_11</td>\n",
       "      <td>1809-03-07</td>\n",
       "      <td>For kort Tid siden bleve de, der boe ved Veste...</td>\n",
       "      <td>Jndenlandsk</td>\n",
       "      <td>Jndenlandsk</td>\n",
       "      <td>80</td>\n",
       "      <td>445</td>\n",
       "    </tr>\n",
       "  </tbody>\n",
       "</table>\n",
       "</div>"
      ],
      "text/plain": [
       "   article_id          nøgle       date  \\\n",
       "0  lol_000001   1809-03-07_5 1809-03-07   \n",
       "1  lol_000002   1809-03-07_8 1809-03-07   \n",
       "2  lol_000003   1809-03-07_9 1809-03-07   \n",
       "3  lol_000004  1809-03-07_10 1809-03-07   \n",
       "4  lol_000005  1809-03-07_11 1809-03-07   \n",
       "\n",
       "                                                text     category  \\\n",
       "0  Jndenlandsk. Helsingøer den 26de Februar. J Fo...  Jndenlandsk   \n",
       "1  Kjøbenhavn den 27 Februarii. Kornpriserne i Kb...  Jndenlandsk   \n",
       "2  De danske Officerer af Linieskibet Prinds Chri...  Jndenlandsk   \n",
       "3  Caffe koster nu paa det Vestindiske Compagnie ...  Jndenlandsk   \n",
       "4  For kort Tid siden bleve de, der boe ved Veste...  Jndenlandsk   \n",
       "\n",
       "  clean_category  article_length  characters  \n",
       "0    Jndenlandsk             298        1592  \n",
       "1    Jndenlandsk              81         513  \n",
       "2    Jndenlandsk              31         205  \n",
       "3    Jndenlandsk              48         257  \n",
       "4    Jndenlandsk              80         445  "
      ]
     },
     "execution_count": 34,
     "metadata": {},
     "output_type": "execute_result"
    }
   ],
   "source": [
    "lf_df['article_id'] = [f'lol_{i+1:06d}' for i in range(len(lf_df))]\n",
    "lf_df = lf_df[['article_id', 'nøgle', 'date', 'text', 'category', 'clean_category', 'article_length', 'characters']]\n",
    "lf_df.head()"
   ]
  },
  {
   "cell_type": "code",
   "execution_count": 50,
   "metadata": {},
   "outputs": [],
   "source": [
    "lf_df.to_csv('../../../DATA/NEWSPAPERS/ready_for_embs/lf_all.csv')"
   ]
  },
  {
   "cell_type": "markdown",
   "metadata": {},
   "source": [
    "#### Aalborg (1818-1827)"
   ]
  },
  {
   "cell_type": "code",
   "execution_count": 35,
   "metadata": {},
   "outputs": [
    {
     "data": {
      "text/html": [
       "<div>\n",
       "<style scoped>\n",
       "    .dataframe tbody tr th:only-of-type {\n",
       "        vertical-align: middle;\n",
       "    }\n",
       "\n",
       "    .dataframe tbody tr th {\n",
       "        vertical-align: top;\n",
       "    }\n",
       "\n",
       "    .dataframe thead th {\n",
       "        text-align: right;\n",
       "    }\n",
       "</style>\n",
       "<table border=\"1\" class=\"dataframe\">\n",
       "  <thead>\n",
       "    <tr style=\"text-align: right;\">\n",
       "      <th></th>\n",
       "      <th>nøgle</th>\n",
       "      <th>text</th>\n",
       "      <th>category</th>\n",
       "      <th>date</th>\n",
       "    </tr>\n",
       "  </thead>\n",
       "  <tbody>\n",
       "    <tr>\n",
       "      <th>0</th>\n",
       "      <td>2</td>\n",
       "      <td>J den engelske Captain Sir James Lucas Yeos Ef...</td>\n",
       "      <td>Afrika.</td>\n",
       "      <td>1818-01-29</td>\n",
       "    </tr>\n",
       "    <tr>\n",
       "      <th>1</th>\n",
       "      <td>4</td>\n",
       "      <td>Den Hamborgske flyvende Major von Glöden har f...</td>\n",
       "      <td>Blandede Efterretninger.</td>\n",
       "      <td>1818-01-29</td>\n",
       "    </tr>\n",
       "    <tr>\n",
       "      <th>2</th>\n",
       "      <td>5</td>\n",
       "      <td>De Viinske Aviser tale meget vidt og bredt om,...</td>\n",
       "      <td>Blandede Efterretninger.</td>\n",
       "      <td>1818-01-29</td>\n",
       "    </tr>\n",
       "    <tr>\n",
       "      <th>3</th>\n",
       "      <td>6</td>\n",
       "      <td>En Hamborger Handelsmand har havt den sieldne ...</td>\n",
       "      <td>Blandede Efterretninger.</td>\n",
       "      <td>1818-01-29</td>\n",
       "    </tr>\n",
       "    <tr>\n",
       "      <th>4</th>\n",
       "      <td>7</td>\n",
       "      <td>Det haarde Veir vi her havde Natten til den 16...</td>\n",
       "      <td>Blandede Efterretninger.</td>\n",
       "      <td>1818-01-29</td>\n",
       "    </tr>\n",
       "  </tbody>\n",
       "</table>\n",
       "</div>"
      ],
      "text/plain": [
       "  nøgle                                               text  \\\n",
       "0     2  J den engelske Captain Sir James Lucas Yeos Ef...   \n",
       "1     4  Den Hamborgske flyvende Major von Glöden har f...   \n",
       "2     5  De Viinske Aviser tale meget vidt og bredt om,...   \n",
       "3     6  En Hamborger Handelsmand har havt den sieldne ...   \n",
       "4     7  Det haarde Veir vi her havde Natten til den 16...   \n",
       "\n",
       "                   category       date  \n",
       "0                   Afrika. 1818-01-29  \n",
       "1  Blandede Efterretninger. 1818-01-29  \n",
       "2  Blandede Efterretninger. 1818-01-29  \n",
       "3  Blandede Efterretninger. 1818-01-29  \n",
       "4  Blandede Efterretninger. 1818-01-29  "
      ]
     },
     "execution_count": 35,
     "metadata": {},
     "output_type": "execute_result"
    }
   ],
   "source": [
    "aal_df1 = pd.read_json('../../../DATA/NEWSPAPERS/allborg-shiny-app/2024-09-20T145611.200.json')\n",
    "aal_df1 = aal_df1['data'].apply(pd.Series)\n",
    "aal_df1.columns = ['nøgle', 'text', 'category', 'date', 'Tags', 'IDs']\n",
    "aal_df1 = aal_df1[['nøgle', 'text', 'category', 'date']]\n",
    "aal_df1['date'] = pd.to_datetime(aal_df1['date'], errors='coerce')\n",
    "\n",
    "aal_df1.head()"
   ]
  },
  {
   "cell_type": "markdown",
   "metadata": {},
   "source": [
    "#### Aalborg (1827-1842)"
   ]
  },
  {
   "cell_type": "code",
   "execution_count": 36,
   "metadata": {},
   "outputs": [
    {
     "data": {
      "text/html": [
       "<div>\n",
       "<style scoped>\n",
       "    .dataframe tbody tr th:only-of-type {\n",
       "        vertical-align: middle;\n",
       "    }\n",
       "\n",
       "    .dataframe tbody tr th {\n",
       "        vertical-align: top;\n",
       "    }\n",
       "\n",
       "    .dataframe thead th {\n",
       "        text-align: right;\n",
       "    }\n",
       "</style>\n",
       "<table border=\"1\" class=\"dataframe\">\n",
       "  <thead>\n",
       "    <tr style=\"text-align: right;\">\n",
       "      <th></th>\n",
       "      <th>nøgle</th>\n",
       "      <th>text</th>\n",
       "      <th>category</th>\n",
       "      <th>date</th>\n",
       "    </tr>\n",
       "  </thead>\n",
       "  <tbody>\n",
       "    <tr>\n",
       "      <th>0</th>\n",
       "      <td>1827-04-02_1</td>\n",
       "      <td>Blandinger. Værdien af de fra Landbankerne i E...</td>\n",
       "      <td>Blandinger</td>\n",
       "      <td>1827-04-02</td>\n",
       "    </tr>\n",
       "    <tr>\n",
       "      <th>1</th>\n",
       "      <td>1827-04-02_3</td>\n",
       "      <td>Kongen af England har overdraget Marquess af H...</td>\n",
       "      <td>Blandinger</td>\n",
       "      <td>1827-04-02</td>\n",
       "    </tr>\n",
       "    <tr>\n",
       "      <th>2</th>\n",
       "      <td>1827-04-02_4</td>\n",
       "      <td>Captain Parry agtede med Skibet Hecla den 25de...</td>\n",
       "      <td>Blandinger</td>\n",
       "      <td>1827-04-02</td>\n",
       "    </tr>\n",
       "    <tr>\n",
       "      <th>3</th>\n",
       "      <td>1827-04-02_5</td>\n",
       "      <td>J Spaniens Hovedstad finde paa den sidste Tid ...</td>\n",
       "      <td>Blandinger</td>\n",
       "      <td>1827-04-02</td>\n",
       "    </tr>\n",
       "    <tr>\n",
       "      <th>4</th>\n",
       "      <td>1827-04-02_6</td>\n",
       "      <td>Den Cadizer Handelstidende Dos Mundos melder, ...</td>\n",
       "      <td>Blandinger</td>\n",
       "      <td>1827-04-02</td>\n",
       "    </tr>\n",
       "  </tbody>\n",
       "</table>\n",
       "</div>"
      ],
      "text/plain": [
       "          nøgle                                               text  \\\n",
       "0  1827-04-02_1  Blandinger. Værdien af de fra Landbankerne i E...   \n",
       "1  1827-04-02_3  Kongen af England har overdraget Marquess af H...   \n",
       "2  1827-04-02_4  Captain Parry agtede med Skibet Hecla den 25de...   \n",
       "3  1827-04-02_5  J Spaniens Hovedstad finde paa den sidste Tid ...   \n",
       "4  1827-04-02_6  Den Cadizer Handelstidende Dos Mundos melder, ...   \n",
       "\n",
       "     category       date  \n",
       "0  Blandinger 1827-04-02  \n",
       "1  Blandinger 1827-04-02  \n",
       "2  Blandinger 1827-04-02  \n",
       "3  Blandinger 1827-04-02  \n",
       "4  Blandinger 1827-04-02  "
      ]
     },
     "execution_count": 36,
     "metadata": {},
     "output_type": "execute_result"
    }
   ],
   "source": [
    "aal_df2 = pd.read_excel('../../../DATA/NEWSPAPERS/Aalborg_1827_1842.xlsx')\n",
    "aal_df2['category'] = aal_df2['seneste_rubrik'].str.replace(r'\\.?_x000D_', '', regex=True)\n",
    "aal_df2['date'] = pd.to_datetime(aal_df2['nøgle'].str[:10], errors='coerce')\n",
    "aal_df2 = aal_df2[['nøgle', 'text', 'category', 'date']]\n",
    "aal_df2.head()"
   ]
  },
  {
   "cell_type": "code",
   "execution_count": 37,
   "metadata": {},
   "outputs": [],
   "source": [
    "aal_df = pd.concat([aal_df1, aal_df2], ignore_index=True)"
   ]
  },
  {
   "cell_type": "code",
   "execution_count": 38,
   "metadata": {},
   "outputs": [
    {
     "data": {
      "text/html": [
       "<div>\n",
       "<style scoped>\n",
       "    .dataframe tbody tr th:only-of-type {\n",
       "        vertical-align: middle;\n",
       "    }\n",
       "\n",
       "    .dataframe tbody tr th {\n",
       "        vertical-align: top;\n",
       "    }\n",
       "\n",
       "    .dataframe thead th {\n",
       "        text-align: right;\n",
       "    }\n",
       "</style>\n",
       "<table border=\"1\" class=\"dataframe\">\n",
       "  <thead>\n",
       "    <tr style=\"text-align: right;\">\n",
       "      <th></th>\n",
       "      <th>article_id</th>\n",
       "      <th>nøgle</th>\n",
       "      <th>date</th>\n",
       "      <th>text</th>\n",
       "      <th>category</th>\n",
       "      <th>clean_category</th>\n",
       "      <th>article_length</th>\n",
       "      <th>characters</th>\n",
       "    </tr>\n",
       "  </thead>\n",
       "  <tbody>\n",
       "    <tr>\n",
       "      <th>0</th>\n",
       "      <td>aal_000001</td>\n",
       "      <td>2</td>\n",
       "      <td>1818-01-29</td>\n",
       "      <td>J den engelske Captain Sir James Lucas Yeos Ef...</td>\n",
       "      <td>Afrika.</td>\n",
       "      <td>-1</td>\n",
       "      <td>301</td>\n",
       "      <td>1867</td>\n",
       "    </tr>\n",
       "    <tr>\n",
       "      <th>1</th>\n",
       "      <td>aal_000002</td>\n",
       "      <td>4</td>\n",
       "      <td>1818-01-29</td>\n",
       "      <td>Den Hamborgske flyvende Major von Glöden har f...</td>\n",
       "      <td>Blandede Efterretninger.</td>\n",
       "      <td>-1</td>\n",
       "      <td>118</td>\n",
       "      <td>720</td>\n",
       "    </tr>\n",
       "    <tr>\n",
       "      <th>2</th>\n",
       "      <td>aal_000003</td>\n",
       "      <td>5</td>\n",
       "      <td>1818-01-29</td>\n",
       "      <td>De Viinske Aviser tale meget vidt og bredt om,...</td>\n",
       "      <td>Blandede Efterretninger.</td>\n",
       "      <td>-1</td>\n",
       "      <td>20</td>\n",
       "      <td>95</td>\n",
       "    </tr>\n",
       "    <tr>\n",
       "      <th>3</th>\n",
       "      <td>aal_000004</td>\n",
       "      <td>6</td>\n",
       "      <td>1818-01-29</td>\n",
       "      <td>En Hamborger Handelsmand har havt den sieldne ...</td>\n",
       "      <td>Blandede Efterretninger.</td>\n",
       "      <td>-1</td>\n",
       "      <td>45</td>\n",
       "      <td>269</td>\n",
       "    </tr>\n",
       "    <tr>\n",
       "      <th>4</th>\n",
       "      <td>aal_000005</td>\n",
       "      <td>7</td>\n",
       "      <td>1818-01-29</td>\n",
       "      <td>Det haarde Veir vi her havde Natten til den 16...</td>\n",
       "      <td>Blandede Efterretninger.</td>\n",
       "      <td>-1</td>\n",
       "      <td>84</td>\n",
       "      <td>435</td>\n",
       "    </tr>\n",
       "  </tbody>\n",
       "</table>\n",
       "</div>"
      ],
      "text/plain": [
       "   article_id nøgle       date  \\\n",
       "0  aal_000001     2 1818-01-29   \n",
       "1  aal_000002     4 1818-01-29   \n",
       "2  aal_000003     5 1818-01-29   \n",
       "3  aal_000004     6 1818-01-29   \n",
       "4  aal_000005     7 1818-01-29   \n",
       "\n",
       "                                                text  \\\n",
       "0  J den engelske Captain Sir James Lucas Yeos Ef...   \n",
       "1  Den Hamborgske flyvende Major von Glöden har f...   \n",
       "2  De Viinske Aviser tale meget vidt og bredt om,...   \n",
       "3  En Hamborger Handelsmand har havt den sieldne ...   \n",
       "4  Det haarde Veir vi her havde Natten til den 16...   \n",
       "\n",
       "                   category clean_category  article_length  characters  \n",
       "0                   Afrika.             -1             301        1867  \n",
       "1  Blandede Efterretninger.             -1             118         720  \n",
       "2  Blandede Efterretninger.             -1              20          95  \n",
       "3  Blandede Efterretninger.             -1              45         269  \n",
       "4  Blandede Efterretninger.             -1              84         435  "
      ]
     },
     "execution_count": 38,
     "metadata": {},
     "output_type": "execute_result"
    }
   ],
   "source": [
    "aal_df['article_id'] = [f'aal_{i+1:06d}' for i in range(len(aal_df))]\n",
    "aal_df['article_length'] = aal_df['text'].apply(lambda x: len(str(x).split()))\n",
    "aal_df['characters'] = aal_df['text'].str.len()\n",
    "aal_df['clean_category'] = '-1'\n",
    "aal_df = aal_df[['article_id', 'nøgle', 'date', 'text', 'category', 'clean_category', 'article_length', 'characters']]\n",
    "aal_df.head()"
   ]
  },
  {
   "cell_type": "code",
   "execution_count": 51,
   "metadata": {},
   "outputs": [],
   "source": [
    "aal_df.to_csv('../../../DATA/NEWSPAPERS/ready_for_embs/aal_all.csv')"
   ]
  },
  {
   "cell_type": "markdown",
   "metadata": {},
   "source": [
    "### Odense (1809-1848)"
   ]
  },
  {
   "cell_type": "code",
   "execution_count": 41,
   "metadata": {},
   "outputs": [
    {
     "data": {
      "text/html": [
       "<div>\n",
       "<style scoped>\n",
       "    .dataframe tbody tr th:only-of-type {\n",
       "        vertical-align: middle;\n",
       "    }\n",
       "\n",
       "    .dataframe tbody tr th {\n",
       "        vertical-align: top;\n",
       "    }\n",
       "\n",
       "    .dataframe thead th {\n",
       "        text-align: right;\n",
       "    }\n",
       "</style>\n",
       "<table border=\"1\" class=\"dataframe\">\n",
       "  <thead>\n",
       "    <tr style=\"text-align: right;\">\n",
       "      <th></th>\n",
       "      <th>nøgle</th>\n",
       "      <th>text</th>\n",
       "      <th>category</th>\n",
       "      <th>date</th>\n",
       "    </tr>\n",
       "  </thead>\n",
       "  <tbody>\n",
       "    <tr>\n",
       "      <th>0</th>\n",
       "      <td>1809-01-02_128257</td>\n",
       "      <td>Tilbageblik paa Aaret 1808. Det 8de Aar af det...</td>\n",
       "      <td>Første rubrik</td>\n",
       "      <td>1809-01-02</td>\n",
       "    </tr>\n",
       "    <tr>\n",
       "      <th>1</th>\n",
       "      <td>1809-01-02_128262</td>\n",
       "      <td>Den 16de Bulletin fra Armeen i Spanien, datere...</td>\n",
       "      <td>Første rubrik</td>\n",
       "      <td>1809-01-02</td>\n",
       "    </tr>\n",
       "    <tr>\n",
       "      <th>2</th>\n",
       "      <td>1809-01-02_128263</td>\n",
       "      <td>Den ved Cadix stationerede Franske Flaades Bor...</td>\n",
       "      <td>Første rubrik</td>\n",
       "      <td>1809-01-02</td>\n",
       "    </tr>\n",
       "    <tr>\n",
       "      <th>3</th>\n",
       "      <td>1809-01-02_128264</td>\n",
       "      <td>Snart kommer Raden nu igjen til Lissabon. J Pa...</td>\n",
       "      <td>Første rubrik</td>\n",
       "      <td>1809-01-02</td>\n",
       "    </tr>\n",
       "    <tr>\n",
       "      <th>4</th>\n",
       "      <td>1809-01-02_128265</td>\n",
       "      <td>Med alt dette glimter dog endnu et Fredshaab i...</td>\n",
       "      <td>Første rubrik</td>\n",
       "      <td>1809-01-02</td>\n",
       "    </tr>\n",
       "  </tbody>\n",
       "</table>\n",
       "</div>"
      ],
      "text/plain": [
       "               nøgle                                               text  \\\n",
       "0  1809-01-02_128257  Tilbageblik paa Aaret 1808. Det 8de Aar af det...   \n",
       "1  1809-01-02_128262  Den 16de Bulletin fra Armeen i Spanien, datere...   \n",
       "2  1809-01-02_128263  Den ved Cadix stationerede Franske Flaades Bor...   \n",
       "3  1809-01-02_128264  Snart kommer Raden nu igjen til Lissabon. J Pa...   \n",
       "4  1809-01-02_128265  Med alt dette glimter dog endnu et Fredshaab i...   \n",
       "\n",
       "        category       date  \n",
       "0  Første rubrik 1809-01-02  \n",
       "1  Første rubrik 1809-01-02  \n",
       "2  Første rubrik 1809-01-02  \n",
       "3  Første rubrik 1809-01-02  \n",
       "4  Første rubrik 1809-01-02  "
      ]
     },
     "execution_count": 41,
     "metadata": {},
     "output_type": "execute_result"
    }
   ],
   "source": [
    "od_df = pd.read_excel('../../../DATA/NEWSPAPERS/Odense_1809_1848.xlsx')\n",
    "od_df['category'] = od_df['seneste_rubrik'].str.replace(r'\\.?_x000D_', '', regex=True)\n",
    "od_df['date'] = pd.to_datetime(od_df['nøgle'].str[:10], errors='coerce')\n",
    "od_df = od_df[['nøgle', 'text', 'category', 'date']]\n",
    "od_df.head()"
   ]
  },
  {
   "cell_type": "code",
   "execution_count": 42,
   "metadata": {},
   "outputs": [
    {
     "data": {
      "text/html": [
       "<div>\n",
       "<style scoped>\n",
       "    .dataframe tbody tr th:only-of-type {\n",
       "        vertical-align: middle;\n",
       "    }\n",
       "\n",
       "    .dataframe tbody tr th {\n",
       "        vertical-align: top;\n",
       "    }\n",
       "\n",
       "    .dataframe thead th {\n",
       "        text-align: right;\n",
       "    }\n",
       "</style>\n",
       "<table border=\"1\" class=\"dataframe\">\n",
       "  <thead>\n",
       "    <tr style=\"text-align: right;\">\n",
       "      <th></th>\n",
       "      <th>article_id</th>\n",
       "      <th>nøgle</th>\n",
       "      <th>date</th>\n",
       "      <th>text</th>\n",
       "      <th>category</th>\n",
       "      <th>clean_category</th>\n",
       "      <th>article_length</th>\n",
       "      <th>characters</th>\n",
       "    </tr>\n",
       "  </thead>\n",
       "  <tbody>\n",
       "    <tr>\n",
       "      <th>0</th>\n",
       "      <td>ode_000001</td>\n",
       "      <td>1809-01-02_128257</td>\n",
       "      <td>1809-01-02</td>\n",
       "      <td>Tilbageblik paa Aaret 1808. Det 8de Aar af det...</td>\n",
       "      <td>Første rubrik</td>\n",
       "      <td>-1</td>\n",
       "      <td>1189</td>\n",
       "      <td>7698</td>\n",
       "    </tr>\n",
       "    <tr>\n",
       "      <th>1</th>\n",
       "      <td>ode_000002</td>\n",
       "      <td>1809-01-02_128262</td>\n",
       "      <td>1809-01-02</td>\n",
       "      <td>Den 16de Bulletin fra Armeen i Spanien, datere...</td>\n",
       "      <td>Første rubrik</td>\n",
       "      <td>-1</td>\n",
       "      <td>292</td>\n",
       "      <td>1785</td>\n",
       "    </tr>\n",
       "    <tr>\n",
       "      <th>2</th>\n",
       "      <td>ode_000003</td>\n",
       "      <td>1809-01-02_128263</td>\n",
       "      <td>1809-01-02</td>\n",
       "      <td>Den ved Cadix stationerede Franske Flaades Bor...</td>\n",
       "      <td>Første rubrik</td>\n",
       "      <td>-1</td>\n",
       "      <td>33</td>\n",
       "      <td>199</td>\n",
       "    </tr>\n",
       "    <tr>\n",
       "      <th>3</th>\n",
       "      <td>ode_000004</td>\n",
       "      <td>1809-01-02_128264</td>\n",
       "      <td>1809-01-02</td>\n",
       "      <td>Snart kommer Raden nu igjen til Lissabon. J Pa...</td>\n",
       "      <td>Første rubrik</td>\n",
       "      <td>-1</td>\n",
       "      <td>72</td>\n",
       "      <td>446</td>\n",
       "    </tr>\n",
       "    <tr>\n",
       "      <th>4</th>\n",
       "      <td>ode_000005</td>\n",
       "      <td>1809-01-02_128265</td>\n",
       "      <td>1809-01-02</td>\n",
       "      <td>Med alt dette glimter dog endnu et Fredshaab i...</td>\n",
       "      <td>Første rubrik</td>\n",
       "      <td>-1</td>\n",
       "      <td>316</td>\n",
       "      <td>1991</td>\n",
       "    </tr>\n",
       "  </tbody>\n",
       "</table>\n",
       "</div>"
      ],
      "text/plain": [
       "   article_id              nøgle       date  \\\n",
       "0  ode_000001  1809-01-02_128257 1809-01-02   \n",
       "1  ode_000002  1809-01-02_128262 1809-01-02   \n",
       "2  ode_000003  1809-01-02_128263 1809-01-02   \n",
       "3  ode_000004  1809-01-02_128264 1809-01-02   \n",
       "4  ode_000005  1809-01-02_128265 1809-01-02   \n",
       "\n",
       "                                                text       category  \\\n",
       "0  Tilbageblik paa Aaret 1808. Det 8de Aar af det...  Første rubrik   \n",
       "1  Den 16de Bulletin fra Armeen i Spanien, datere...  Første rubrik   \n",
       "2  Den ved Cadix stationerede Franske Flaades Bor...  Første rubrik   \n",
       "3  Snart kommer Raden nu igjen til Lissabon. J Pa...  Første rubrik   \n",
       "4  Med alt dette glimter dog endnu et Fredshaab i...  Første rubrik   \n",
       "\n",
       "  clean_category  article_length  characters  \n",
       "0             -1            1189        7698  \n",
       "1             -1             292        1785  \n",
       "2             -1              33         199  \n",
       "3             -1              72         446  \n",
       "4             -1             316        1991  "
      ]
     },
     "execution_count": 42,
     "metadata": {},
     "output_type": "execute_result"
    }
   ],
   "source": [
    "od_df['article_id'] = [f'ode_{i+1:06d}' for i in range(len(od_df))]\n",
    "od_df['article_length'] = od_df['text'].apply(lambda x: len(str(x).split()))\n",
    "od_df['characters'] = od_df['text'].str.len()\n",
    "od_df['clean_category'] = '-1'\n",
    "od_df = od_df[['article_id', 'nøgle', 'date', 'text', 'category', 'clean_category', 'article_length', 'characters']]\n",
    "od_df.head()"
   ]
  },
  {
   "cell_type": "code",
   "execution_count": 52,
   "metadata": {},
   "outputs": [],
   "source": [
    "od_df.to_csv('../../../DATA/NEWSPAPERS/ready_for_embs/od_all.csv')"
   ]
  },
  {
   "cell_type": "code",
   "execution_count": 3,
   "metadata": {},
   "outputs": [
    {
     "data": {
      "text/plain": [
       "(202547, 9)"
      ]
     },
     "execution_count": 3,
     "metadata": {},
     "output_type": "execute_result"
    }
   ],
   "source": [
    "od_df = pd.read_csv('../../../DATA/NEWSPAPERS/ready_for_embs/od_all.csv')\n",
    "od_df.shape"
   ]
  },
  {
   "cell_type": "code",
   "execution_count": 5,
   "metadata": {},
   "outputs": [],
   "source": [
    "od_df[~od_df['date'].isnull()].to_csv('../../../DATA/NEWSPAPERS/ready_for_embs/od_all_clean.csv')"
   ]
  },
  {
   "cell_type": "markdown",
   "metadata": {},
   "source": [
    "### Thisted (1824-1848)"
   ]
  },
  {
   "cell_type": "code",
   "execution_count": 43,
   "metadata": {},
   "outputs": [
    {
     "data": {
      "text/html": [
       "<div>\n",
       "<style scoped>\n",
       "    .dataframe tbody tr th:only-of-type {\n",
       "        vertical-align: middle;\n",
       "    }\n",
       "\n",
       "    .dataframe tbody tr th {\n",
       "        vertical-align: top;\n",
       "    }\n",
       "\n",
       "    .dataframe thead th {\n",
       "        text-align: right;\n",
       "    }\n",
       "</style>\n",
       "<table border=\"1\" class=\"dataframe\">\n",
       "  <thead>\n",
       "    <tr style=\"text-align: right;\">\n",
       "      <th></th>\n",
       "      <th>nøgle</th>\n",
       "      <th>text</th>\n",
       "      <th>category</th>\n",
       "      <th>date</th>\n",
       "    </tr>\n",
       "  </thead>\n",
       "  <tbody>\n",
       "    <tr>\n",
       "      <th>0</th>\n",
       "      <td>1824-05-06_1</td>\n",
       "      <td>Ved Jyllands nordlige Kyster fremtræder herved...</td>\n",
       "      <td>Første rubrik</td>\n",
       "      <td>1824-05-06</td>\n",
       "    </tr>\n",
       "    <tr>\n",
       "      <th>1</th>\n",
       "      <td>1824-05-06_2</td>\n",
       "      <td>Fuldkommen føler Udgiveren sit vanskelige Hver...</td>\n",
       "      <td>Første rubrik</td>\n",
       "      <td>1824-05-06</td>\n",
       "    </tr>\n",
       "    <tr>\n",
       "      <th>2</th>\n",
       "      <td>1824-05-06_4</td>\n",
       "      <td>Den litteraire kundskabsrige Mand beder jeg de...</td>\n",
       "      <td>Første rubrik</td>\n",
       "      <td>1824-05-06</td>\n",
       "    </tr>\n",
       "    <tr>\n",
       "      <th>3</th>\n",
       "      <td>1824-05-06_5</td>\n",
       "      <td>Den store engelske Taler Phillips Carakteer-Sk...</td>\n",
       "      <td>Første rubrik</td>\n",
       "      <td>1824-05-06</td>\n",
       "    </tr>\n",
       "    <tr>\n",
       "      <th>4</th>\n",
       "      <td>1824-05-06_6</td>\n",
       "      <td>Stor, skummel, og egen sad han paa Thronen, li...</td>\n",
       "      <td>Første rubrik</td>\n",
       "      <td>1824-05-06</td>\n",
       "    </tr>\n",
       "  </tbody>\n",
       "</table>\n",
       "</div>"
      ],
      "text/plain": [
       "          nøgle                                               text  \\\n",
       "0  1824-05-06_1  Ved Jyllands nordlige Kyster fremtræder herved...   \n",
       "1  1824-05-06_2  Fuldkommen føler Udgiveren sit vanskelige Hver...   \n",
       "2  1824-05-06_4  Den litteraire kundskabsrige Mand beder jeg de...   \n",
       "3  1824-05-06_5  Den store engelske Taler Phillips Carakteer-Sk...   \n",
       "4  1824-05-06_6  Stor, skummel, og egen sad han paa Thronen, li...   \n",
       "\n",
       "        category       date  \n",
       "0  Første rubrik 1824-05-06  \n",
       "1  Første rubrik 1824-05-06  \n",
       "2  Første rubrik 1824-05-06  \n",
       "3  Første rubrik 1824-05-06  \n",
       "4  Første rubrik 1824-05-06  "
      ]
     },
     "execution_count": 43,
     "metadata": {},
     "output_type": "execute_result"
    }
   ],
   "source": [
    "thi_df = pd.read_excel('../../../DATA/NEWSPAPERS/Thisted_1824_1848.xlsx')\n",
    "thi_df['category'] = thi_df['seneste_rubrik'].str.replace(r'\\.?_x000D_', '', regex=True)\n",
    "thi_df['date'] = pd.to_datetime(thi_df['nøgle'].str[:10], errors='coerce')\n",
    "thi_df = thi_df[['nøgle', 'text', 'category', 'date']]\n",
    "thi_df.head()"
   ]
  },
  {
   "cell_type": "code",
   "execution_count": 44,
   "metadata": {},
   "outputs": [
    {
     "data": {
      "text/html": [
       "<div>\n",
       "<style scoped>\n",
       "    .dataframe tbody tr th:only-of-type {\n",
       "        vertical-align: middle;\n",
       "    }\n",
       "\n",
       "    .dataframe tbody tr th {\n",
       "        vertical-align: top;\n",
       "    }\n",
       "\n",
       "    .dataframe thead th {\n",
       "        text-align: right;\n",
       "    }\n",
       "</style>\n",
       "<table border=\"1\" class=\"dataframe\">\n",
       "  <thead>\n",
       "    <tr style=\"text-align: right;\">\n",
       "      <th></th>\n",
       "      <th>article_id</th>\n",
       "      <th>nøgle</th>\n",
       "      <th>date</th>\n",
       "      <th>text</th>\n",
       "      <th>category</th>\n",
       "      <th>clean_category</th>\n",
       "      <th>article_length</th>\n",
       "      <th>characters</th>\n",
       "    </tr>\n",
       "  </thead>\n",
       "  <tbody>\n",
       "    <tr>\n",
       "      <th>0</th>\n",
       "      <td>thi_000001</td>\n",
       "      <td>1824-05-06_1</td>\n",
       "      <td>1824-05-06</td>\n",
       "      <td>Ved Jyllands nordlige Kyster fremtræder herved...</td>\n",
       "      <td>Første rubrik</td>\n",
       "      <td>-1</td>\n",
       "      <td>35</td>\n",
       "      <td>231</td>\n",
       "    </tr>\n",
       "    <tr>\n",
       "      <th>1</th>\n",
       "      <td>thi_000002</td>\n",
       "      <td>1824-05-06_2</td>\n",
       "      <td>1824-05-06</td>\n",
       "      <td>Fuldkommen føler Udgiveren sit vanskelige Hver...</td>\n",
       "      <td>Første rubrik</td>\n",
       "      <td>-1</td>\n",
       "      <td>87</td>\n",
       "      <td>545</td>\n",
       "    </tr>\n",
       "    <tr>\n",
       "      <th>2</th>\n",
       "      <td>thi_000003</td>\n",
       "      <td>1824-05-06_4</td>\n",
       "      <td>1824-05-06</td>\n",
       "      <td>Den litteraire kundskabsrige Mand beder jeg de...</td>\n",
       "      <td>Første rubrik</td>\n",
       "      <td>-1</td>\n",
       "      <td>55</td>\n",
       "      <td>334</td>\n",
       "    </tr>\n",
       "    <tr>\n",
       "      <th>3</th>\n",
       "      <td>thi_000004</td>\n",
       "      <td>1824-05-06_5</td>\n",
       "      <td>1824-05-06</td>\n",
       "      <td>Den store engelske Taler Phillips Carakteer-Sk...</td>\n",
       "      <td>Første rubrik</td>\n",
       "      <td>-1</td>\n",
       "      <td>46</td>\n",
       "      <td>309</td>\n",
       "    </tr>\n",
       "    <tr>\n",
       "      <th>4</th>\n",
       "      <td>thi_000005</td>\n",
       "      <td>1824-05-06_6</td>\n",
       "      <td>1824-05-06</td>\n",
       "      <td>Stor, skummel, og egen sad han paa Thronen, li...</td>\n",
       "      <td>Første rubrik</td>\n",
       "      <td>-1</td>\n",
       "      <td>19</td>\n",
       "      <td>114</td>\n",
       "    </tr>\n",
       "  </tbody>\n",
       "</table>\n",
       "</div>"
      ],
      "text/plain": [
       "   article_id         nøgle       date  \\\n",
       "0  thi_000001  1824-05-06_1 1824-05-06   \n",
       "1  thi_000002  1824-05-06_2 1824-05-06   \n",
       "2  thi_000003  1824-05-06_4 1824-05-06   \n",
       "3  thi_000004  1824-05-06_5 1824-05-06   \n",
       "4  thi_000005  1824-05-06_6 1824-05-06   \n",
       "\n",
       "                                                text       category  \\\n",
       "0  Ved Jyllands nordlige Kyster fremtræder herved...  Første rubrik   \n",
       "1  Fuldkommen føler Udgiveren sit vanskelige Hver...  Første rubrik   \n",
       "2  Den litteraire kundskabsrige Mand beder jeg de...  Første rubrik   \n",
       "3  Den store engelske Taler Phillips Carakteer-Sk...  Første rubrik   \n",
       "4  Stor, skummel, og egen sad han paa Thronen, li...  Første rubrik   \n",
       "\n",
       "  clean_category  article_length  characters  \n",
       "0             -1              35         231  \n",
       "1             -1              87         545  \n",
       "2             -1              55         334  \n",
       "3             -1              46         309  \n",
       "4             -1              19         114  "
      ]
     },
     "execution_count": 44,
     "metadata": {},
     "output_type": "execute_result"
    }
   ],
   "source": [
    "thi_df['article_id'] = [f'thi_{i+1:06d}' for i in range(len(thi_df))]\n",
    "thi_df['article_length'] = thi_df['text'].apply(lambda x: len(str(x).split()))\n",
    "thi_df['characters'] = thi_df['text'].str.len()\n",
    "thi_df['clean_category'] = '-1'\n",
    "thi_df = thi_df[['article_id', 'nøgle', 'date', 'text', 'category', 'clean_category', 'article_length', 'characters']]\n",
    "thi_df.head()"
   ]
  },
  {
   "cell_type": "code",
   "execution_count": 53,
   "metadata": {},
   "outputs": [],
   "source": [
    "thi_df.to_csv('../../../DATA/NEWSPAPERS/ready_for_embs/thi_all.csv')"
   ]
  },
  {
   "cell_type": "markdown",
   "metadata": {},
   "source": [
    "### Viborg (1809-1842)"
   ]
  },
  {
   "cell_type": "code",
   "execution_count": 45,
   "metadata": {},
   "outputs": [
    {
     "data": {
      "text/html": [
       "<div>\n",
       "<style scoped>\n",
       "    .dataframe tbody tr th:only-of-type {\n",
       "        vertical-align: middle;\n",
       "    }\n",
       "\n",
       "    .dataframe tbody tr th {\n",
       "        vertical-align: top;\n",
       "    }\n",
       "\n",
       "    .dataframe thead th {\n",
       "        text-align: right;\n",
       "    }\n",
       "</style>\n",
       "<table border=\"1\" class=\"dataframe\">\n",
       "  <thead>\n",
       "    <tr style=\"text-align: right;\">\n",
       "      <th></th>\n",
       "      <th>nøgle</th>\n",
       "      <th>text</th>\n",
       "      <th>category</th>\n",
       "      <th>date</th>\n",
       "    </tr>\n",
       "  </thead>\n",
       "  <tbody>\n",
       "    <tr>\n",
       "      <th>0</th>\n",
       "      <td>1809-01-01_110895</td>\n",
       "      <td>Kaperbaaden det gode Haab, udrustet af Strandi...</td>\n",
       "      <td>Første rubrik</td>\n",
       "      <td>1809-01-01</td>\n",
       "    </tr>\n",
       "    <tr>\n",
       "      <th>1</th>\n",
       "      <td>1809-01-01_110896</td>\n",
       "      <td>Kaperfører Jens Bødker har, med Koperbaaden Na...</td>\n",
       "      <td>Første rubrik</td>\n",
       "      <td>1809-01-01</td>\n",
       "    </tr>\n",
       "    <tr>\n",
       "      <th>2</th>\n",
       "      <td>1809-01-01_110897</td>\n",
       "      <td>J Aalborg have nogle skadefroe Mennesker til f...</td>\n",
       "      <td>Første rubrik</td>\n",
       "      <td>1809-01-01</td>\n",
       "    </tr>\n",
       "    <tr>\n",
       "      <th>3</th>\n",
       "      <td>1809-01-01_110898</td>\n",
       "      <td>Aarhuus. En Kudsk fra en Herregaard kom efvigt...</td>\n",
       "      <td>Første rubrik</td>\n",
       "      <td>1809-01-01</td>\n",
       "    </tr>\n",
       "    <tr>\n",
       "      <th>4</th>\n",
       "      <td>1809-01-01_110899</td>\n",
       "      <td>Helsingøer d. 25de Dec. Jgaar kom 7 Kiøbmandsk...</td>\n",
       "      <td>Første rubrik</td>\n",
       "      <td>1809-01-01</td>\n",
       "    </tr>\n",
       "  </tbody>\n",
       "</table>\n",
       "</div>"
      ],
      "text/plain": [
       "               nøgle                                               text  \\\n",
       "0  1809-01-01_110895  Kaperbaaden det gode Haab, udrustet af Strandi...   \n",
       "1  1809-01-01_110896  Kaperfører Jens Bødker har, med Koperbaaden Na...   \n",
       "2  1809-01-01_110897  J Aalborg have nogle skadefroe Mennesker til f...   \n",
       "3  1809-01-01_110898  Aarhuus. En Kudsk fra en Herregaard kom efvigt...   \n",
       "4  1809-01-01_110899  Helsingøer d. 25de Dec. Jgaar kom 7 Kiøbmandsk...   \n",
       "\n",
       "        category       date  \n",
       "0  Første rubrik 1809-01-01  \n",
       "1  Første rubrik 1809-01-01  \n",
       "2  Første rubrik 1809-01-01  \n",
       "3  Første rubrik 1809-01-01  \n",
       "4  Første rubrik 1809-01-01  "
      ]
     },
     "execution_count": 45,
     "metadata": {},
     "output_type": "execute_result"
    }
   ],
   "source": [
    "vib_df = pd.read_excel('../../../DATA/NEWSPAPERS/Viborg_1809_1842.xlsx')\n",
    "vib_df['category'] = vib_df['seneste_rubrik'].str.replace(r'\\.?_x000D_', '', regex=True)\n",
    "vib_df['date'] = pd.to_datetime(vib_df['nøgle'].str[:10], errors='coerce')\n",
    "vib_df = vib_df[['nøgle', 'text', 'category', 'date']]\n",
    "vib_df.head()"
   ]
  },
  {
   "cell_type": "code",
   "execution_count": 47,
   "metadata": {},
   "outputs": [
    {
     "data": {
      "text/html": [
       "<div>\n",
       "<style scoped>\n",
       "    .dataframe tbody tr th:only-of-type {\n",
       "        vertical-align: middle;\n",
       "    }\n",
       "\n",
       "    .dataframe tbody tr th {\n",
       "        vertical-align: top;\n",
       "    }\n",
       "\n",
       "    .dataframe thead th {\n",
       "        text-align: right;\n",
       "    }\n",
       "</style>\n",
       "<table border=\"1\" class=\"dataframe\">\n",
       "  <thead>\n",
       "    <tr style=\"text-align: right;\">\n",
       "      <th></th>\n",
       "      <th>article_id</th>\n",
       "      <th>nøgle</th>\n",
       "      <th>date</th>\n",
       "      <th>text</th>\n",
       "      <th>category</th>\n",
       "      <th>clean_category</th>\n",
       "      <th>article_length</th>\n",
       "      <th>characters</th>\n",
       "    </tr>\n",
       "  </thead>\n",
       "  <tbody>\n",
       "    <tr>\n",
       "      <th>0</th>\n",
       "      <td>vib_000001</td>\n",
       "      <td>1809-01-01_110895</td>\n",
       "      <td>1809-01-01</td>\n",
       "      <td>Kaperbaaden det gode Haab, udrustet af Strandi...</td>\n",
       "      <td>Første rubrik</td>\n",
       "      <td>-1</td>\n",
       "      <td>151</td>\n",
       "      <td>960</td>\n",
       "    </tr>\n",
       "    <tr>\n",
       "      <th>1</th>\n",
       "      <td>vib_000002</td>\n",
       "      <td>1809-01-01_110896</td>\n",
       "      <td>1809-01-01</td>\n",
       "      <td>Kaperfører Jens Bødker har, med Koperbaaden Na...</td>\n",
       "      <td>Første rubrik</td>\n",
       "      <td>-1</td>\n",
       "      <td>78</td>\n",
       "      <td>399</td>\n",
       "    </tr>\n",
       "    <tr>\n",
       "      <th>2</th>\n",
       "      <td>vib_000003</td>\n",
       "      <td>1809-01-01_110897</td>\n",
       "      <td>1809-01-01</td>\n",
       "      <td>J Aalborg have nogle skadefroe Mennesker til f...</td>\n",
       "      <td>Første rubrik</td>\n",
       "      <td>-1</td>\n",
       "      <td>112</td>\n",
       "      <td>760</td>\n",
       "    </tr>\n",
       "    <tr>\n",
       "      <th>3</th>\n",
       "      <td>vib_000004</td>\n",
       "      <td>1809-01-01_110898</td>\n",
       "      <td>1809-01-01</td>\n",
       "      <td>Aarhuus. En Kudsk fra en Herregaard kom efvigt...</td>\n",
       "      <td>Første rubrik</td>\n",
       "      <td>-1</td>\n",
       "      <td>146</td>\n",
       "      <td>812</td>\n",
       "    </tr>\n",
       "    <tr>\n",
       "      <th>4</th>\n",
       "      <td>vib_000005</td>\n",
       "      <td>1809-01-01_110899</td>\n",
       "      <td>1809-01-01</td>\n",
       "      <td>Helsingøer d. 25de Dec. Jgaar kom 7 Kiøbmandsk...</td>\n",
       "      <td>Første rubrik</td>\n",
       "      <td>-1</td>\n",
       "      <td>386</td>\n",
       "      <td>2202</td>\n",
       "    </tr>\n",
       "  </tbody>\n",
       "</table>\n",
       "</div>"
      ],
      "text/plain": [
       "   article_id              nøgle       date  \\\n",
       "0  vib_000001  1809-01-01_110895 1809-01-01   \n",
       "1  vib_000002  1809-01-01_110896 1809-01-01   \n",
       "2  vib_000003  1809-01-01_110897 1809-01-01   \n",
       "3  vib_000004  1809-01-01_110898 1809-01-01   \n",
       "4  vib_000005  1809-01-01_110899 1809-01-01   \n",
       "\n",
       "                                                text       category  \\\n",
       "0  Kaperbaaden det gode Haab, udrustet af Strandi...  Første rubrik   \n",
       "1  Kaperfører Jens Bødker har, med Koperbaaden Na...  Første rubrik   \n",
       "2  J Aalborg have nogle skadefroe Mennesker til f...  Første rubrik   \n",
       "3  Aarhuus. En Kudsk fra en Herregaard kom efvigt...  Første rubrik   \n",
       "4  Helsingøer d. 25de Dec. Jgaar kom 7 Kiøbmandsk...  Første rubrik   \n",
       "\n",
       "  clean_category  article_length  characters  \n",
       "0             -1             151         960  \n",
       "1             -1              78         399  \n",
       "2             -1             112         760  \n",
       "3             -1             146         812  \n",
       "4             -1             386        2202  "
      ]
     },
     "execution_count": 47,
     "metadata": {},
     "output_type": "execute_result"
    }
   ],
   "source": [
    "vib_df['article_id'] = [f'vib_{i+1:06d}' for i in range(len(vib_df))]\n",
    "vib_df['article_length'] = vib_df['text'].apply(lambda x: len(str(x).split()))\n",
    "vib_df['characters'] = vib_df['text'].str.len()\n",
    "vib_df['clean_category'] = '-1'\n",
    "vib_df = vib_df[['article_id', 'nøgle', 'date', 'text', 'category', 'clean_category', 'article_length', 'characters']]\n",
    "vib_df.head()"
   ]
  },
  {
   "cell_type": "code",
   "execution_count": 54,
   "metadata": {},
   "outputs": [],
   "source": [
    "vib_df.to_csv('../../../DATA/NEWSPAPERS/ready_for_embs/vib_all.csv')"
   ]
  },
  {
   "cell_type": "markdown",
   "metadata": {},
   "source": [
    "### Aarhus"
   ]
  },
  {
   "cell_type": "code",
   "execution_count": null,
   "metadata": {},
   "outputs": [
    {
     "data": {
      "text/html": [
       "<div>\n",
       "<style scoped>\n",
       "    .dataframe tbody tr th:only-of-type {\n",
       "        vertical-align: middle;\n",
       "    }\n",
       "\n",
       "    .dataframe tbody tr th {\n",
       "        vertical-align: top;\n",
       "    }\n",
       "\n",
       "    .dataframe thead th {\n",
       "        text-align: right;\n",
       "    }\n",
       "</style>\n",
       "<table border=\"1\" class=\"dataframe\">\n",
       "  <thead>\n",
       "    <tr style=\"text-align: right;\">\n",
       "      <th></th>\n",
       "      <th>nøgle</th>\n",
       "      <th>ID</th>\n",
       "      <th>text</th>\n",
       "      <th>V1</th>\n",
       "      <th>V2</th>\n",
       "      <th>seneste_rubrik</th>\n",
       "    </tr>\n",
       "  </thead>\n",
       "  <tbody>\n",
       "    <tr>\n",
       "      <th>0</th>\n",
       "      <td>1794-01-03_1</td>\n",
       "      <td>aarhusstiftstidende-1794-01-03-01-0003B-presen...</td>\n",
       "      <td>Jndenlandske Nyeheder. Aarhuus, den 3die Janua...</td>\n",
       "      <td>2.179595</td>\n",
       "      <td>1.614622</td>\n",
       "      <td>Første rubrik</td>\n",
       "    </tr>\n",
       "    <tr>\n",
       "      <th>1</th>\n",
       "      <td>1794-01-03_2</td>\n",
       "      <td>aarhusstiftstidende-1794-01-03-01-0003B-presen...</td>\n",
       "      <td>Skipper Sode her af Byen, som fører Vintermakk...</td>\n",
       "      <td>-1.155715</td>\n",
       "      <td>6.008668</td>\n",
       "      <td>Første rubrik</td>\n",
       "    </tr>\n",
       "    <tr>\n",
       "      <th>2</th>\n",
       "      <td>1794-01-03_3</td>\n",
       "      <td>aarhusstiftstidende-1794-01-03-01-0003B-presen...</td>\n",
       "      <td>Bourdeaux den 9 Dec. Skipper Henrich Krull, so...</td>\n",
       "      <td>3.219819</td>\n",
       "      <td>1.759900</td>\n",
       "      <td>Første rubrik</td>\n",
       "    </tr>\n",
       "    <tr>\n",
       "      <th>3</th>\n",
       "      <td>1794-01-03_4</td>\n",
       "      <td>aarhusstiftstidende-1794-01-03-01-0003B-presen...</td>\n",
       "      <td>Høieste Rets Procurator Gottlob Smith, contra ...</td>\n",
       "      <td>2.264676</td>\n",
       "      <td>0.469230</td>\n",
       "      <td>Første rubrik</td>\n",
       "    </tr>\n",
       "    <tr>\n",
       "      <th>4</th>\n",
       "      <td>1794-01-03_5</td>\n",
       "      <td>aarhusstiftstidende-1794-01-03-01-0003B-presen...</td>\n",
       "      <td>Udi Sagens 1ste Post, bør Kammerherre Schinke ...</td>\n",
       "      <td>3.402384</td>\n",
       "      <td>1.387451</td>\n",
       "      <td>Første rubrik</td>\n",
       "    </tr>\n",
       "  </tbody>\n",
       "</table>\n",
       "</div>"
      ],
      "text/plain": [
       "          nøgle                                                 ID  \\\n",
       "0  1794-01-03_1  aarhusstiftstidende-1794-01-03-01-0003B-presen...   \n",
       "1  1794-01-03_2  aarhusstiftstidende-1794-01-03-01-0003B-presen...   \n",
       "2  1794-01-03_3  aarhusstiftstidende-1794-01-03-01-0003B-presen...   \n",
       "3  1794-01-03_4  aarhusstiftstidende-1794-01-03-01-0003B-presen...   \n",
       "4  1794-01-03_5  aarhusstiftstidende-1794-01-03-01-0003B-presen...   \n",
       "\n",
       "                                                text        V1        V2  \\\n",
       "0  Jndenlandske Nyeheder. Aarhuus, den 3die Janua...  2.179595  1.614622   \n",
       "1  Skipper Sode her af Byen, som fører Vintermakk... -1.155715  6.008668   \n",
       "2  Bourdeaux den 9 Dec. Skipper Henrich Krull, so...  3.219819  1.759900   \n",
       "3  Høieste Rets Procurator Gottlob Smith, contra ...  2.264676  0.469230   \n",
       "4  Udi Sagens 1ste Post, bør Kammerherre Schinke ...  3.402384  1.387451   \n",
       "\n",
       "  seneste_rubrik  \n",
       "0  Første rubrik  \n",
       "1  Første rubrik  \n",
       "2  Første rubrik  \n",
       "3  Første rubrik  \n",
       "4  Første rubrik  "
      ]
     },
     "execution_count": 5,
     "metadata": {},
     "output_type": "execute_result"
    }
   ],
   "source": [
    "aar_df = pd.read_excel('../../../ROOT/DATA/NEWSPAPERS/newspapers_excels/Aarhus_final_docs.xlsx')\n",
    "aar_df['category'] = aar_df['seneste_rubrik'].str.replace(r'\\.?_x000D_', '', regex=True)\n",
    "aar_df['date'] = pd.to_datetime(aar_df['nøgle'].str[:10], errors='coerce')\n",
    "aar_df = aar_df[['nøgle', 'text', 'category', 'date']]\n",
    "aar_df.head()"
   ]
  },
  {
   "cell_type": "code",
   "execution_count": 7,
   "metadata": {},
   "outputs": [
    {
     "data": {
      "text/html": [
       "<div>\n",
       "<style scoped>\n",
       "    .dataframe tbody tr th:only-of-type {\n",
       "        vertical-align: middle;\n",
       "    }\n",
       "\n",
       "    .dataframe tbody tr th {\n",
       "        vertical-align: top;\n",
       "    }\n",
       "\n",
       "    .dataframe thead th {\n",
       "        text-align: right;\n",
       "    }\n",
       "</style>\n",
       "<table border=\"1\" class=\"dataframe\">\n",
       "  <thead>\n",
       "    <tr style=\"text-align: right;\">\n",
       "      <th></th>\n",
       "      <th>article_id</th>\n",
       "      <th>nøgle</th>\n",
       "      <th>date</th>\n",
       "      <th>text</th>\n",
       "      <th>category</th>\n",
       "      <th>clean_category</th>\n",
       "      <th>article_length</th>\n",
       "      <th>characters</th>\n",
       "    </tr>\n",
       "  </thead>\n",
       "  <tbody>\n",
       "    <tr>\n",
       "      <th>0</th>\n",
       "      <td>aar_000001</td>\n",
       "      <td>1794-01-03_1</td>\n",
       "      <td>1794-01-03</td>\n",
       "      <td>Jndenlandske Nyeheder. Aarhuus, den 3die Janua...</td>\n",
       "      <td>Første rubrik</td>\n",
       "      <td>-1</td>\n",
       "      <td>6</td>\n",
       "      <td>50</td>\n",
       "    </tr>\n",
       "    <tr>\n",
       "      <th>1</th>\n",
       "      <td>aar_000002</td>\n",
       "      <td>1794-01-03_2</td>\n",
       "      <td>1794-01-03</td>\n",
       "      <td>Skipper Sode her af Byen, som fører Vintermakk...</td>\n",
       "      <td>Første rubrik</td>\n",
       "      <td>-1</td>\n",
       "      <td>23</td>\n",
       "      <td>148</td>\n",
       "    </tr>\n",
       "    <tr>\n",
       "      <th>2</th>\n",
       "      <td>aar_000003</td>\n",
       "      <td>1794-01-03_3</td>\n",
       "      <td>1794-01-03</td>\n",
       "      <td>Bourdeaux den 9 Dec. Skipper Henrich Krull, so...</td>\n",
       "      <td>Første rubrik</td>\n",
       "      <td>-1</td>\n",
       "      <td>415</td>\n",
       "      <td>2438</td>\n",
       "    </tr>\n",
       "    <tr>\n",
       "      <th>3</th>\n",
       "      <td>aar_000004</td>\n",
       "      <td>1794-01-03_4</td>\n",
       "      <td>1794-01-03</td>\n",
       "      <td>Høieste Rets Procurator Gottlob Smith, contra ...</td>\n",
       "      <td>Første rubrik</td>\n",
       "      <td>-1</td>\n",
       "      <td>11</td>\n",
       "      <td>95</td>\n",
       "    </tr>\n",
       "    <tr>\n",
       "      <th>4</th>\n",
       "      <td>aar_000005</td>\n",
       "      <td>1794-01-03_5</td>\n",
       "      <td>1794-01-03</td>\n",
       "      <td>Udi Sagens 1ste Post, bør Kammerherre Schinke ...</td>\n",
       "      <td>Første rubrik</td>\n",
       "      <td>-1</td>\n",
       "      <td>769</td>\n",
       "      <td>4087</td>\n",
       "    </tr>\n",
       "  </tbody>\n",
       "</table>\n",
       "</div>"
      ],
      "text/plain": [
       "   article_id         nøgle       date  \\\n",
       "0  aar_000001  1794-01-03_1 1794-01-03   \n",
       "1  aar_000002  1794-01-03_2 1794-01-03   \n",
       "2  aar_000003  1794-01-03_3 1794-01-03   \n",
       "3  aar_000004  1794-01-03_4 1794-01-03   \n",
       "4  aar_000005  1794-01-03_5 1794-01-03   \n",
       "\n",
       "                                                text       category  \\\n",
       "0  Jndenlandske Nyeheder. Aarhuus, den 3die Janua...  Første rubrik   \n",
       "1  Skipper Sode her af Byen, som fører Vintermakk...  Første rubrik   \n",
       "2  Bourdeaux den 9 Dec. Skipper Henrich Krull, so...  Første rubrik   \n",
       "3  Høieste Rets Procurator Gottlob Smith, contra ...  Første rubrik   \n",
       "4  Udi Sagens 1ste Post, bør Kammerherre Schinke ...  Første rubrik   \n",
       "\n",
       "  clean_category  article_length  characters  \n",
       "0             -1               6          50  \n",
       "1             -1              23         148  \n",
       "2             -1             415        2438  \n",
       "3             -1              11          95  \n",
       "4             -1             769        4087  "
      ]
     },
     "execution_count": 7,
     "metadata": {},
     "output_type": "execute_result"
    }
   ],
   "source": [
    "aar_df['article_id'] = [f'aar_{i+1:06d}' for i in range(len(aar_df))]\n",
    "aar_df['article_length'] = aar_df['text'].apply(lambda x: len(str(x).split()))\n",
    "aar_df['characters'] = aar_df['text'].str.len()\n",
    "aar_df['clean_category'] = '-1'\n",
    "aar_df = aar_df[['article_id', 'nøgle', 'date', 'text', 'category', 'clean_category', 'article_length', 'characters']]\n",
    "aar_df.head()"
   ]
  },
  {
   "cell_type": "code",
   "execution_count": 8,
   "metadata": {},
   "outputs": [
    {
     "data": {
      "text/plain": [
       "(182200, 8)"
      ]
     },
     "execution_count": 8,
     "metadata": {},
     "output_type": "execute_result"
    }
   ],
   "source": [
    "aar_df.shape"
   ]
  },
  {
   "cell_type": "code",
   "execution_count": 11,
   "metadata": {},
   "outputs": [],
   "source": [
    "aar_df.to_csv('../../../ROOT/DATA/NEWSPAPERS/ready_for_embs/aar_all.csv')"
   ]
  },
  {
   "cell_type": "markdown",
   "metadata": {},
   "source": [
    "#### Expand Aarhus with more"
   ]
  },
  {
   "cell_type": "code",
   "execution_count": 5,
   "metadata": {},
   "outputs": [
    {
     "data": {
      "text/html": [
       "<div>\n",
       "<style scoped>\n",
       "    .dataframe tbody tr th:only-of-type {\n",
       "        vertical-align: middle;\n",
       "    }\n",
       "\n",
       "    .dataframe tbody tr th {\n",
       "        vertical-align: top;\n",
       "    }\n",
       "\n",
       "    .dataframe thead th {\n",
       "        text-align: right;\n",
       "    }\n",
       "</style>\n",
       "<table border=\"1\" class=\"dataframe\">\n",
       "  <thead>\n",
       "    <tr style=\"text-align: right;\">\n",
       "      <th></th>\n",
       "      <th>article_id</th>\n",
       "      <th>nøgle</th>\n",
       "      <th>date</th>\n",
       "      <th>text</th>\n",
       "      <th>category</th>\n",
       "      <th>clean_category</th>\n",
       "      <th>article_length</th>\n",
       "      <th>characters</th>\n",
       "    </tr>\n",
       "  </thead>\n",
       "  <tbody>\n",
       "    <tr>\n",
       "      <th>0</th>\n",
       "      <td>aar_000001</td>\n",
       "      <td>1794-01-03_1</td>\n",
       "      <td>1794-01-03</td>\n",
       "      <td>Jndenlandske Nyeheder. Aarhuus, den 3die Janua...</td>\n",
       "      <td>Første rubrik</td>\n",
       "      <td>-1</td>\n",
       "      <td>6</td>\n",
       "      <td>50</td>\n",
       "    </tr>\n",
       "    <tr>\n",
       "      <th>1</th>\n",
       "      <td>aar_000002</td>\n",
       "      <td>1794-01-03_2</td>\n",
       "      <td>1794-01-03</td>\n",
       "      <td>Skipper Sode her af Byen, som fører Vintermakk...</td>\n",
       "      <td>Første rubrik</td>\n",
       "      <td>-1</td>\n",
       "      <td>23</td>\n",
       "      <td>148</td>\n",
       "    </tr>\n",
       "    <tr>\n",
       "      <th>2</th>\n",
       "      <td>aar_000003</td>\n",
       "      <td>1794-01-03_3</td>\n",
       "      <td>1794-01-03</td>\n",
       "      <td>Bourdeaux den 9 Dec. Skipper Henrich Krull, so...</td>\n",
       "      <td>Første rubrik</td>\n",
       "      <td>-1</td>\n",
       "      <td>415</td>\n",
       "      <td>2438</td>\n",
       "    </tr>\n",
       "    <tr>\n",
       "      <th>3</th>\n",
       "      <td>aar_000004</td>\n",
       "      <td>1794-01-03_4</td>\n",
       "      <td>1794-01-03</td>\n",
       "      <td>Høieste Rets Procurator Gottlob Smith, contra ...</td>\n",
       "      <td>Første rubrik</td>\n",
       "      <td>-1</td>\n",
       "      <td>11</td>\n",
       "      <td>95</td>\n",
       "    </tr>\n",
       "    <tr>\n",
       "      <th>4</th>\n",
       "      <td>aar_000005</td>\n",
       "      <td>1794-01-03_5</td>\n",
       "      <td>1794-01-03</td>\n",
       "      <td>Udi Sagens 1ste Post, bør Kammerherre Schinke ...</td>\n",
       "      <td>Første rubrik</td>\n",
       "      <td>-1</td>\n",
       "      <td>769</td>\n",
       "      <td>4087</td>\n",
       "    </tr>\n",
       "  </tbody>\n",
       "</table>\n",
       "</div>"
      ],
      "text/plain": [
       "   article_id         nøgle        date  \\\n",
       "0  aar_000001  1794-01-03_1  1794-01-03   \n",
       "1  aar_000002  1794-01-03_2  1794-01-03   \n",
       "2  aar_000003  1794-01-03_3  1794-01-03   \n",
       "3  aar_000004  1794-01-03_4  1794-01-03   \n",
       "4  aar_000005  1794-01-03_5  1794-01-03   \n",
       "\n",
       "                                                text       category  \\\n",
       "0  Jndenlandske Nyeheder. Aarhuus, den 3die Janua...  Første rubrik   \n",
       "1  Skipper Sode her af Byen, som fører Vintermakk...  Første rubrik   \n",
       "2  Bourdeaux den 9 Dec. Skipper Henrich Krull, so...  Første rubrik   \n",
       "3  Høieste Rets Procurator Gottlob Smith, contra ...  Første rubrik   \n",
       "4  Udi Sagens 1ste Post, bør Kammerherre Schinke ...  Første rubrik   \n",
       "\n",
       "   clean_category  article_length  characters  \n",
       "0              -1               6          50  \n",
       "1              -1              23         148  \n",
       "2              -1             415        2438  \n",
       "3              -1              11          95  \n",
       "4              -1             769        4087  "
      ]
     },
     "execution_count": 5,
     "metadata": {},
     "output_type": "execute_result"
    }
   ],
   "source": [
    "aar_old = pd.read_csv('../../ROOT/DATA/NEWSPAPERS/ready_for_embs/aar_all.csv', index_col=0)\n",
    "aar_old.head()"
   ]
  },
  {
   "cell_type": "code",
   "execution_count": 19,
   "metadata": {},
   "outputs": [
    {
     "data": {
      "text/plain": [
       "(182200, 8)"
      ]
     },
     "execution_count": 19,
     "metadata": {},
     "output_type": "execute_result"
    }
   ],
   "source": [
    "aar_old.shape"
   ]
  },
  {
   "cell_type": "code",
   "execution_count": 13,
   "metadata": {},
   "outputs": [
    {
     "data": {
      "text/html": [
       "<div>\n",
       "<style scoped>\n",
       "    .dataframe tbody tr th:only-of-type {\n",
       "        vertical-align: middle;\n",
       "    }\n",
       "\n",
       "    .dataframe tbody tr th {\n",
       "        vertical-align: top;\n",
       "    }\n",
       "\n",
       "    .dataframe thead th {\n",
       "        text-align: right;\n",
       "    }\n",
       "</style>\n",
       "<table border=\"1\" class=\"dataframe\">\n",
       "  <thead>\n",
       "    <tr style=\"text-align: right;\">\n",
       "      <th></th>\n",
       "      <th>text</th>\n",
       "      <th>date</th>\n",
       "    </tr>\n",
       "  </thead>\n",
       "  <tbody>\n",
       "    <tr>\n",
       "      <th>0</th>\n",
       "      <td>Jndenlandske Nyeheder.</td>\n",
       "      <td>1794-01-03</td>\n",
       "    </tr>\n",
       "    <tr>\n",
       "      <th>1</th>\n",
       "      <td>Aarhuus, den 3die Januarii. Skipper Sode her a...</td>\n",
       "      <td>1794-01-03</td>\n",
       "    </tr>\n",
       "    <tr>\n",
       "      <th>2</th>\n",
       "      <td>Handels Efterretning. Bourdeaux den 9 Dec. Ski...</td>\n",
       "      <td>1794-01-03</td>\n",
       "    </tr>\n",
       "    <tr>\n",
       "      <th>3</th>\n",
       "      <td>Høieste Rets Dom, paadømt den 20de December 1793.</td>\n",
       "      <td>1794-01-03</td>\n",
       "    </tr>\n",
       "    <tr>\n",
       "      <th>4</th>\n",
       "      <td>Høieste Rets Procurator Gottlob Smith, contra ...</td>\n",
       "      <td>1794-01-03</td>\n",
       "    </tr>\n",
       "  </tbody>\n",
       "</table>\n",
       "</div>"
      ],
      "text/plain": [
       "                                                text       date\n",
       "0                             Jndenlandske Nyeheder. 1794-01-03\n",
       "1  Aarhuus, den 3die Januarii. Skipper Sode her a... 1794-01-03\n",
       "2  Handels Efterretning. Bourdeaux den 9 Dec. Ski... 1794-01-03\n",
       "3  Høieste Rets Dom, paadømt den 20de December 1793. 1794-01-03\n",
       "4  Høieste Rets Procurator Gottlob Smith, contra ... 1794-01-03"
      ]
     },
     "execution_count": 13,
     "metadata": {},
     "output_type": "execute_result"
    }
   ],
   "source": [
    "aar_df = pd.read_csv('../../ROOT/DATA/NEWSPAPERS/newspapers_excels/Aarhus_faiss_similarities.csv')\n",
    "aar_df['date'] = pd.to_datetime(aar_df['dato'], errors='coerce')\n",
    "aar_df = aar_df[['text', 'date']]\n",
    "aar_df.head()"
   ]
  },
  {
   "cell_type": "code",
   "execution_count": 14,
   "metadata": {},
   "outputs": [
    {
     "name": "stderr",
     "output_type": "stream",
     "text": [
      "/tmp/ipykernel_1406/3923564623.py:1: FutureWarning: The behavior of 'isin' with dtype=datetime64[ns] and castable values (e.g. strings) is deprecated. In a future version, these will not be considered matching by isin. Explicitly cast to the appropriate dtype before calling isin instead.\n",
      "  aar_df = aar_df[~aar_df['date'].isin(aar_old['date'])]\n"
     ]
    },
    {
     "data": {
      "text/plain": [
       "(76692, 2)"
      ]
     },
     "execution_count": 14,
     "metadata": {},
     "output_type": "execute_result"
    }
   ],
   "source": [
    "aar_df = aar_df[~aar_df['date'].isin(aar_old['date'])]\n",
    "aar_df.shape"
   ]
  },
  {
   "cell_type": "code",
   "execution_count": 16,
   "metadata": {},
   "outputs": [
    {
     "data": {
      "text/plain": [
       "Timestamp('1845-12-31 00:00:00')"
      ]
     },
     "execution_count": 16,
     "metadata": {},
     "output_type": "execute_result"
    }
   ],
   "source": [
    "aar_df['date'].max()"
   ]
  },
  {
   "cell_type": "code",
   "execution_count": 17,
   "metadata": {},
   "outputs": [
    {
     "data": {
      "text/plain": [
       "(76692, 6)"
      ]
     },
     "execution_count": 17,
     "metadata": {},
     "output_type": "execute_result"
    }
   ],
   "source": [
    "start_number = 182201\n",
    "aar_df['article_id'] = [f'aar_{i + start_number:06d}' for i in range(len(aar_df))]\n",
    "aar_df['article_length'] = aar_df['text'].apply(lambda x: len(str(x).split()))\n",
    "aar_df['characters'] = aar_df['text'].str.len()\n",
    "aar_df['clean_category'] = '-1'\n",
    "aar_df = aar_df[['article_id', 'date', 'text', 'clean_category', 'article_length', 'characters']]\n",
    "aar_df.shape"
   ]
  },
  {
   "cell_type": "code",
   "execution_count": 18,
   "metadata": {},
   "outputs": [],
   "source": [
    "aar_df.to_csv('../../ROOT/DATA/NEWSPAPERS/ready_for_embs/aar_ext.csv')"
   ]
  },
  {
   "cell_type": "markdown",
   "metadata": {},
   "source": [
    "### Ribe"
   ]
  },
  {
   "cell_type": "code",
   "execution_count": 4,
   "metadata": {},
   "outputs": [
    {
     "data": {
      "text/html": [
       "<div>\n",
       "<style scoped>\n",
       "    .dataframe tbody tr th:only-of-type {\n",
       "        vertical-align: middle;\n",
       "    }\n",
       "\n",
       "    .dataframe tbody tr th {\n",
       "        vertical-align: top;\n",
       "    }\n",
       "\n",
       "    .dataframe thead th {\n",
       "        text-align: right;\n",
       "    }\n",
       "</style>\n",
       "<table border=\"1\" class=\"dataframe\">\n",
       "  <thead>\n",
       "    <tr style=\"text-align: right;\">\n",
       "      <th></th>\n",
       "      <th>text</th>\n",
       "      <th>date</th>\n",
       "    </tr>\n",
       "  </thead>\n",
       "  <tbody>\n",
       "    <tr>\n",
       "      <th>0</th>\n",
       "      <td>Tanker. ved Aarets Begyndelse. Betragt det gam...</td>\n",
       "      <td>1786-01-06</td>\n",
       "    </tr>\n",
       "    <tr>\n",
       "      <th>1</th>\n",
       "      <td>Jeg vover nu paa nye min forhen brugte Pen Fra...</td>\n",
       "      <td>1786-01-06</td>\n",
       "    </tr>\n",
       "    <tr>\n",
       "      <th>2</th>\n",
       "      <td>Da Publicum forhen tilfreds har rakt mig Haand...</td>\n",
       "      <td>1786-01-06</td>\n",
       "    </tr>\n",
       "    <tr>\n",
       "      <th>3</th>\n",
       "      <td>Kongelig allene privilegerede Adresse=Contoirs...</td>\n",
       "      <td>1786-01-06</td>\n",
       "    </tr>\n",
       "    <tr>\n",
       "      <th>4</th>\n",
       "      <td>J den Henseende giver jeg mig den Ære altsaa a...</td>\n",
       "      <td>1786-01-06</td>\n",
       "    </tr>\n",
       "  </tbody>\n",
       "</table>\n",
       "</div>"
      ],
      "text/plain": [
       "                                                text       date\n",
       "0  Tanker. ved Aarets Begyndelse. Betragt det gam... 1786-01-06\n",
       "1  Jeg vover nu paa nye min forhen brugte Pen Fra... 1786-01-06\n",
       "2  Da Publicum forhen tilfreds har rakt mig Haand... 1786-01-06\n",
       "3  Kongelig allene privilegerede Adresse=Contoirs... 1786-01-06\n",
       "4  J den Henseende giver jeg mig den Ære altsaa a... 1786-01-06"
      ]
     },
     "execution_count": 4,
     "metadata": {},
     "output_type": "execute_result"
    }
   ],
   "source": [
    "rib_df = pd.read_csv('../../ROOT/DATA/NEWSPAPERS/newspapers_excels/Ribe_faiss_similarities.csv')\n",
    "rib_df['date'] = pd.to_datetime(rib_df['dato'], errors='coerce')\n",
    "rib_df = rib_df[['text', 'date']]\n",
    "rib_df.head()"
   ]
  },
  {
   "cell_type": "code",
   "execution_count": 5,
   "metadata": {},
   "outputs": [
    {
     "data": {
      "text/plain": [
       "(208856, 2)"
      ]
     },
     "execution_count": 5,
     "metadata": {},
     "output_type": "execute_result"
    }
   ],
   "source": [
    "rib_df.shape"
   ]
  },
  {
   "cell_type": "code",
   "execution_count": 26,
   "metadata": {},
   "outputs": [
    {
     "data": {
      "text/html": [
       "<div>\n",
       "<style scoped>\n",
       "    .dataframe tbody tr th:only-of-type {\n",
       "        vertical-align: middle;\n",
       "    }\n",
       "\n",
       "    .dataframe tbody tr th {\n",
       "        vertical-align: top;\n",
       "    }\n",
       "\n",
       "    .dataframe thead th {\n",
       "        text-align: right;\n",
       "    }\n",
       "</style>\n",
       "<table border=\"1\" class=\"dataframe\">\n",
       "  <thead>\n",
       "    <tr style=\"text-align: right;\">\n",
       "      <th></th>\n",
       "      <th>article_id</th>\n",
       "      <th>date</th>\n",
       "      <th>text</th>\n",
       "      <th>clean_category</th>\n",
       "      <th>article_length</th>\n",
       "      <th>characters</th>\n",
       "    </tr>\n",
       "  </thead>\n",
       "  <tbody>\n",
       "    <tr>\n",
       "      <th>0</th>\n",
       "      <td>rib_000001</td>\n",
       "      <td>1786-01-06</td>\n",
       "      <td>Tanker. ved Aarets Begyndelse. Betragt det gam...</td>\n",
       "      <td>-1</td>\n",
       "      <td>247</td>\n",
       "      <td>1368</td>\n",
       "    </tr>\n",
       "    <tr>\n",
       "      <th>1</th>\n",
       "      <td>rib_000002</td>\n",
       "      <td>1786-01-06</td>\n",
       "      <td>Jeg vover nu paa nye min forhen brugte Pen Fra...</td>\n",
       "      <td>-1</td>\n",
       "      <td>36</td>\n",
       "      <td>182</td>\n",
       "    </tr>\n",
       "    <tr>\n",
       "      <th>2</th>\n",
       "      <td>rib_000003</td>\n",
       "      <td>1786-01-06</td>\n",
       "      <td>Da Publicum forhen tilfreds har rakt mig Haand...</td>\n",
       "      <td>-1</td>\n",
       "      <td>118</td>\n",
       "      <td>666</td>\n",
       "    </tr>\n",
       "    <tr>\n",
       "      <th>3</th>\n",
       "      <td>rib_000004</td>\n",
       "      <td>1786-01-06</td>\n",
       "      <td>Kongelig allene privilegerede Adresse=Contoirs...</td>\n",
       "      <td>-1</td>\n",
       "      <td>550</td>\n",
       "      <td>3508</td>\n",
       "    </tr>\n",
       "    <tr>\n",
       "      <th>4</th>\n",
       "      <td>rib_000005</td>\n",
       "      <td>1786-01-06</td>\n",
       "      <td>J den Henseende giver jeg mig den Ære altsaa a...</td>\n",
       "      <td>-1</td>\n",
       "      <td>119</td>\n",
       "      <td>776</td>\n",
       "    </tr>\n",
       "  </tbody>\n",
       "</table>\n",
       "</div>"
      ],
      "text/plain": [
       "   article_id       date                                               text  \\\n",
       "0  rib_000001 1786-01-06  Tanker. ved Aarets Begyndelse. Betragt det gam...   \n",
       "1  rib_000002 1786-01-06  Jeg vover nu paa nye min forhen brugte Pen Fra...   \n",
       "2  rib_000003 1786-01-06  Da Publicum forhen tilfreds har rakt mig Haand...   \n",
       "3  rib_000004 1786-01-06  Kongelig allene privilegerede Adresse=Contoirs...   \n",
       "4  rib_000005 1786-01-06  J den Henseende giver jeg mig den Ære altsaa a...   \n",
       "\n",
       "  clean_category  article_length  characters  \n",
       "0             -1             247        1368  \n",
       "1             -1              36         182  \n",
       "2             -1             118         666  \n",
       "3             -1             550        3508  \n",
       "4             -1             119         776  "
      ]
     },
     "execution_count": 26,
     "metadata": {},
     "output_type": "execute_result"
    }
   ],
   "source": [
    "rib_df['article_id'] = [f'rib_{i+1:06d}' for i in range(len(rib_df))]\n",
    "rib_df['article_length'] = rib_df['text'].apply(lambda x: len(str(x).split()))\n",
    "rib_df['characters'] = rib_df['text'].str.len()\n",
    "rib_df['clean_category'] = '-1'\n",
    "rib_df = rib_df[['article_id', 'date', 'text', 'clean_category', 'article_length', 'characters']]\n",
    "rib_df.head()"
   ]
  },
  {
   "cell_type": "code",
   "execution_count": 28,
   "metadata": {},
   "outputs": [
    {
     "name": "stdout",
     "output_type": "stream",
     "text": [
      "1786-01-06 00:00:00 1843-12-29 00:00:00\n"
     ]
    }
   ],
   "source": [
    "print(rib_df['date'].min(), rib_df['date'].max())"
   ]
  },
  {
   "cell_type": "code",
   "execution_count": 1,
   "metadata": {},
   "outputs": [
    {
     "ename": "NameError",
     "evalue": "name 'rib_df' is not defined",
     "output_type": "error",
     "traceback": [
      "\u001b[31m---------------------------------------------------------------------------\u001b[39m",
      "\u001b[31mNameError\u001b[39m                                 Traceback (most recent call last)",
      "\u001b[36mCell\u001b[39m\u001b[36m \u001b[39m\u001b[32mIn[1]\u001b[39m\u001b[32m, line 1\u001b[39m\n\u001b[32m----> \u001b[39m\u001b[32m1\u001b[39m \u001b[43mrib_df\u001b[49m.shape\n",
      "\u001b[31mNameError\u001b[39m: name 'rib_df' is not defined"
     ]
    }
   ],
   "source": [
    "rib_df.shape"
   ]
  },
  {
   "cell_type": "code",
   "execution_count": 27,
   "metadata": {},
   "outputs": [],
   "source": [
    "rib_df.to_csv('../../ROOT/DATA/NEWSPAPERS/ready_for_embs/rib_all.csv')"
   ]
  },
  {
   "cell_type": "markdown",
   "metadata": {},
   "source": [
    "### Slagelse"
   ]
  },
  {
   "cell_type": "code",
   "execution_count": 6,
   "metadata": {},
   "outputs": [
    {
     "data": {
      "text/html": [
       "<div>\n",
       "<style scoped>\n",
       "    .dataframe tbody tr th:only-of-type {\n",
       "        vertical-align: middle;\n",
       "    }\n",
       "\n",
       "    .dataframe tbody tr th {\n",
       "        vertical-align: top;\n",
       "    }\n",
       "\n",
       "    .dataframe thead th {\n",
       "        text-align: right;\n",
       "    }\n",
       "</style>\n",
       "<table border=\"1\" class=\"dataframe\">\n",
       "  <thead>\n",
       "    <tr style=\"text-align: right;\">\n",
       "      <th></th>\n",
       "      <th>text</th>\n",
       "      <th>date</th>\n",
       "    </tr>\n",
       "  </thead>\n",
       "  <tbody>\n",
       "    <tr>\n",
       "      <th>0</th>\n",
       "      <td>1. Aarg. No. 1. A v i 8 for ti Kjøbtæder, Kors...</td>\n",
       "      <td>1815-01-03</td>\n",
       "    </tr>\n",
       "    <tr>\n",
       "      <th>1</th>\n",
       "      <td>Politiske Efterretninger. Wien den 21de Decbr....</td>\n",
       "      <td>1815-01-03</td>\n",
       "    </tr>\n",
       "    <tr>\n",
       "      <th>2</th>\n",
       "      <td>Kongen af Würtembergs Afreise er nu bestemt fa...</td>\n",
       "      <td>1815-01-03</td>\n",
       "    </tr>\n",
       "    <tr>\n",
       "      <th>3</th>\n",
       "      <td>Den Jsralitiske Menighed i Lübeck, hvilken i F...</td>\n",
       "      <td>1815-01-03</td>\n",
       "    </tr>\n",
       "    <tr>\n",
       "      <th>4</th>\n",
       "      <td>Fra Regensburg ere nogle Penge-Vogne ankomne, ...</td>\n",
       "      <td>1815-01-03</td>\n",
       "    </tr>\n",
       "  </tbody>\n",
       "</table>\n",
       "</div>"
      ],
      "text/plain": [
       "                                                text       date\n",
       "0  1. Aarg. No. 1. A v i 8 for ti Kjøbtæder, Kors... 1815-01-03\n",
       "1  Politiske Efterretninger. Wien den 21de Decbr.... 1815-01-03\n",
       "2  Kongen af Würtembergs Afreise er nu bestemt fa... 1815-01-03\n",
       "3  Den Jsralitiske Menighed i Lübeck, hvilken i F... 1815-01-03\n",
       "4  Fra Regensburg ere nogle Penge-Vogne ankomne, ... 1815-01-03"
      ]
     },
     "execution_count": 6,
     "metadata": {},
     "output_type": "execute_result"
    }
   ],
   "source": [
    "sla_df = pd.read_csv('../../ROOT/DATA/NEWSPAPERS/newspapers_excels/Slagelse_faiss_similarities.csv')\n",
    "sla_df['date'] = pd.to_datetime(sla_df['dato'], errors='coerce')\n",
    "sla_df = sla_df[['text', 'date']]\n",
    "sla_df.head()"
   ]
  },
  {
   "cell_type": "code",
   "execution_count": 7,
   "metadata": {},
   "outputs": [
    {
     "data": {
      "text/plain": [
       "(88454, 2)"
      ]
     },
     "execution_count": 7,
     "metadata": {},
     "output_type": "execute_result"
    }
   ],
   "source": [
    "sla_df.shape"
   ]
  },
  {
   "cell_type": "code",
   "execution_count": 9,
   "metadata": {},
   "outputs": [
    {
     "data": {
      "text/html": [
       "<div>\n",
       "<style scoped>\n",
       "    .dataframe tbody tr th:only-of-type {\n",
       "        vertical-align: middle;\n",
       "    }\n",
       "\n",
       "    .dataframe tbody tr th {\n",
       "        vertical-align: top;\n",
       "    }\n",
       "\n",
       "    .dataframe thead th {\n",
       "        text-align: right;\n",
       "    }\n",
       "</style>\n",
       "<table border=\"1\" class=\"dataframe\">\n",
       "  <thead>\n",
       "    <tr style=\"text-align: right;\">\n",
       "      <th></th>\n",
       "      <th>article_id</th>\n",
       "      <th>date</th>\n",
       "      <th>text</th>\n",
       "      <th>clean_category</th>\n",
       "      <th>article_length</th>\n",
       "      <th>characters</th>\n",
       "    </tr>\n",
       "  </thead>\n",
       "  <tbody>\n",
       "    <tr>\n",
       "      <th>0</th>\n",
       "      <td>sla_000001</td>\n",
       "      <td>1815-01-03</td>\n",
       "      <td>1. Aarg. No. 1. A v i 8 for ti Kjøbtæder, Kors...</td>\n",
       "      <td>-1</td>\n",
       "      <td>395</td>\n",
       "      <td>2396</td>\n",
       "    </tr>\n",
       "    <tr>\n",
       "      <th>1</th>\n",
       "      <td>sla_000002</td>\n",
       "      <td>1815-01-03</td>\n",
       "      <td>Politiske Efterretninger. Wien den 21de Decbr....</td>\n",
       "      <td>-1</td>\n",
       "      <td>39</td>\n",
       "      <td>245</td>\n",
       "    </tr>\n",
       "    <tr>\n",
       "      <th>2</th>\n",
       "      <td>sla_000003</td>\n",
       "      <td>1815-01-03</td>\n",
       "      <td>Kongen af Würtembergs Afreise er nu bestemt fa...</td>\n",
       "      <td>-1</td>\n",
       "      <td>30</td>\n",
       "      <td>186</td>\n",
       "    </tr>\n",
       "    <tr>\n",
       "      <th>3</th>\n",
       "      <td>sla_000004</td>\n",
       "      <td>1815-01-03</td>\n",
       "      <td>Den Jsralitiske Menighed i Lübeck, hvilken i F...</td>\n",
       "      <td>-1</td>\n",
       "      <td>96</td>\n",
       "      <td>647</td>\n",
       "    </tr>\n",
       "    <tr>\n",
       "      <th>4</th>\n",
       "      <td>sla_000005</td>\n",
       "      <td>1815-01-03</td>\n",
       "      <td>Fra Regensburg ere nogle Penge-Vogne ankomne, ...</td>\n",
       "      <td>-1</td>\n",
       "      <td>36</td>\n",
       "      <td>237</td>\n",
       "    </tr>\n",
       "  </tbody>\n",
       "</table>\n",
       "</div>"
      ],
      "text/plain": [
       "   article_id       date                                               text  \\\n",
       "0  sla_000001 1815-01-03  1. Aarg. No. 1. A v i 8 for ti Kjøbtæder, Kors...   \n",
       "1  sla_000002 1815-01-03  Politiske Efterretninger. Wien den 21de Decbr....   \n",
       "2  sla_000003 1815-01-03  Kongen af Würtembergs Afreise er nu bestemt fa...   \n",
       "3  sla_000004 1815-01-03  Den Jsralitiske Menighed i Lübeck, hvilken i F...   \n",
       "4  sla_000005 1815-01-03  Fra Regensburg ere nogle Penge-Vogne ankomne, ...   \n",
       "\n",
       "  clean_category  article_length  characters  \n",
       "0             -1             395        2396  \n",
       "1             -1              39         245  \n",
       "2             -1              30         186  \n",
       "3             -1              96         647  \n",
       "4             -1              36         237  "
      ]
     },
     "execution_count": 9,
     "metadata": {},
     "output_type": "execute_result"
    }
   ],
   "source": [
    "sla_df['article_id'] = [f'sla_{i+1:06d}' for i in range(len(sla_df))]\n",
    "sla_df['article_length'] = sla_df['text'].apply(lambda x: len(str(x).split()))\n",
    "sla_df['characters'] = sla_df['text'].str.len()\n",
    "sla_df['clean_category'] = '-1'\n",
    "sla_df = sla_df[['article_id', 'date', 'text', 'clean_category', 'article_length', 'characters']]\n",
    "sla_df.head()"
   ]
  },
  {
   "cell_type": "code",
   "execution_count": 10,
   "metadata": {},
   "outputs": [
    {
     "name": "stdout",
     "output_type": "stream",
     "text": [
      "1815-01-03 00:00:00 1836-12-31 00:00:00\n"
     ]
    }
   ],
   "source": [
    "print(sla_df['date'].min(), sla_df['date'].max())"
   ]
  },
  {
   "cell_type": "code",
   "execution_count": 11,
   "metadata": {},
   "outputs": [],
   "source": [
    "sla_df.to_csv('../../ROOT/DATA/NEWSPAPERS/ready_for_embs/sla_all.csv')"
   ]
  },
  {
   "cell_type": "markdown",
   "metadata": {},
   "source": [
    "### Merge all articles in one file"
   ]
  },
  {
   "cell_type": "code",
   "execution_count": 55,
   "metadata": {},
   "outputs": [
    {
     "data": {
      "text/plain": [
       "(686561, 8)"
      ]
     },
     "execution_count": 55,
     "metadata": {},
     "output_type": "execute_result"
    }
   ],
   "source": [
    "all_articles = pd.concat([lf_df, aal_df, od_df, thi_df, vib_df], ignore_index=True)\n",
    "alll_articles = all_articles['clean_category'].astype(str)\n",
    "all_articles.shape"
   ]
  },
  {
   "cell_type": "code",
   "execution_count": 56,
   "metadata": {},
   "outputs": [],
   "source": [
    "all_articles.to_csv('../../../DATA/NEWSPAPERS/ready_for_embs/all_articles.csv')"
   ]
  },
  {
   "cell_type": "code",
   "execution_count": 3,
   "metadata": {},
   "outputs": [
    {
     "name": "stderr",
     "output_type": "stream",
     "text": [
      "/tmp/ipykernel_346/4219108675.py:1: DtypeWarning: Columns (6) have mixed types. Specify dtype option on import or set low_memory=False.\n",
      "  all_articles = pd.read_csv('../../../DATA/NEWSPAPERS/ready_for_embs/all_articles.csv', index_col=0)\n"
     ]
    },
    {
     "data": {
      "text/html": [
       "<div>\n",
       "<style scoped>\n",
       "    .dataframe tbody tr th:only-of-type {\n",
       "        vertical-align: middle;\n",
       "    }\n",
       "\n",
       "    .dataframe tbody tr th {\n",
       "        vertical-align: top;\n",
       "    }\n",
       "\n",
       "    .dataframe thead th {\n",
       "        text-align: right;\n",
       "    }\n",
       "</style>\n",
       "<table border=\"1\" class=\"dataframe\">\n",
       "  <thead>\n",
       "    <tr style=\"text-align: right;\">\n",
       "      <th></th>\n",
       "      <th>article_id</th>\n",
       "      <th>nøgle</th>\n",
       "      <th>date</th>\n",
       "      <th>text</th>\n",
       "      <th>category</th>\n",
       "      <th>clean_category</th>\n",
       "      <th>article_length</th>\n",
       "      <th>characters</th>\n",
       "    </tr>\n",
       "  </thead>\n",
       "  <tbody>\n",
       "    <tr>\n",
       "      <th>0</th>\n",
       "      <td>lol_000001</td>\n",
       "      <td>1809-03-07_5</td>\n",
       "      <td>1809-03-07</td>\n",
       "      <td>Jndenlandsk. Helsingøer den 26de Februar. J Fo...</td>\n",
       "      <td>Jndenlandsk</td>\n",
       "      <td>Jndenlandsk</td>\n",
       "      <td>298</td>\n",
       "      <td>1592</td>\n",
       "    </tr>\n",
       "    <tr>\n",
       "      <th>1</th>\n",
       "      <td>lol_000002</td>\n",
       "      <td>1809-03-07_8</td>\n",
       "      <td>1809-03-07</td>\n",
       "      <td>Kjøbenhavn den 27 Februarii. Kornpriserne i Kb...</td>\n",
       "      <td>Jndenlandsk</td>\n",
       "      <td>Jndenlandsk</td>\n",
       "      <td>81</td>\n",
       "      <td>513</td>\n",
       "    </tr>\n",
       "    <tr>\n",
       "      <th>2</th>\n",
       "      <td>lol_000003</td>\n",
       "      <td>1809-03-07_9</td>\n",
       "      <td>1809-03-07</td>\n",
       "      <td>De danske Officerer af Linieskibet Prinds Chri...</td>\n",
       "      <td>Jndenlandsk</td>\n",
       "      <td>Jndenlandsk</td>\n",
       "      <td>31</td>\n",
       "      <td>205</td>\n",
       "    </tr>\n",
       "    <tr>\n",
       "      <th>3</th>\n",
       "      <td>lol_000004</td>\n",
       "      <td>1809-03-07_10</td>\n",
       "      <td>1809-03-07</td>\n",
       "      <td>Caffe koster nu paa det Vestindiske Compagnie ...</td>\n",
       "      <td>Jndenlandsk</td>\n",
       "      <td>Jndenlandsk</td>\n",
       "      <td>48</td>\n",
       "      <td>257</td>\n",
       "    </tr>\n",
       "    <tr>\n",
       "      <th>4</th>\n",
       "      <td>lol_000005</td>\n",
       "      <td>1809-03-07_11</td>\n",
       "      <td>1809-03-07</td>\n",
       "      <td>For kort Tid siden bleve de, der boe ved Veste...</td>\n",
       "      <td>Jndenlandsk</td>\n",
       "      <td>Jndenlandsk</td>\n",
       "      <td>80</td>\n",
       "      <td>445</td>\n",
       "    </tr>\n",
       "  </tbody>\n",
       "</table>\n",
       "</div>"
      ],
      "text/plain": [
       "   article_id          nøgle        date  \\\n",
       "0  lol_000001   1809-03-07_5  1809-03-07   \n",
       "1  lol_000002   1809-03-07_8  1809-03-07   \n",
       "2  lol_000003   1809-03-07_9  1809-03-07   \n",
       "3  lol_000004  1809-03-07_10  1809-03-07   \n",
       "4  lol_000005  1809-03-07_11  1809-03-07   \n",
       "\n",
       "                                                text     category  \\\n",
       "0  Jndenlandsk. Helsingøer den 26de Februar. J Fo...  Jndenlandsk   \n",
       "1  Kjøbenhavn den 27 Februarii. Kornpriserne i Kb...  Jndenlandsk   \n",
       "2  De danske Officerer af Linieskibet Prinds Chri...  Jndenlandsk   \n",
       "3  Caffe koster nu paa det Vestindiske Compagnie ...  Jndenlandsk   \n",
       "4  For kort Tid siden bleve de, der boe ved Veste...  Jndenlandsk   \n",
       "\n",
       "  clean_category  article_length  characters  \n",
       "0    Jndenlandsk             298        1592  \n",
       "1    Jndenlandsk              81         513  \n",
       "2    Jndenlandsk              31         205  \n",
       "3    Jndenlandsk              48         257  \n",
       "4    Jndenlandsk              80         445  "
      ]
     },
     "execution_count": 3,
     "metadata": {},
     "output_type": "execute_result"
    }
   ],
   "source": [
    "all_articles = pd.read_csv('../../../DATA/NEWSPAPERS/ready_for_embs/all_articles.csv', index_col=0)\n",
    "all_articles.head()"
   ]
  },
  {
   "cell_type": "code",
   "execution_count": 7,
   "metadata": {},
   "outputs": [],
   "source": [
    "all_articles[~all_articles['date'].isnull()].to_csv('../../../DATA/NEWSPAPERS/ready_for_embs/all_articles_clean.csv')"
   ]
  },
  {
   "cell_type": "markdown",
   "metadata": {},
   "source": [
    "### Create subset for training classifier"
   ]
  },
  {
   "cell_type": "code",
   "execution_count": 30,
   "metadata": {},
   "outputs": [
    {
     "name": "stderr",
     "output_type": "stream",
     "text": [
      "/tmp/ipykernel_484/438460016.py:4: DeprecationWarning: DataFrameGroupBy.apply operated on the grouping columns. This behavior is deprecated, and in a future version of pandas the grouping columns will be excluded from the operation. Either pass `include_groups=False` to exclude the groupings or explicitly select the grouping columns after groupby to silence this warning.\n",
      "  .apply(lambda grp: grp.sample(n=1000, random_state=42))\n"
     ]
    },
    {
     "data": {
      "text/html": [
       "<div>\n",
       "<style scoped>\n",
       "    .dataframe tbody tr th:only-of-type {\n",
       "        vertical-align: middle;\n",
       "    }\n",
       "\n",
       "    .dataframe tbody tr th {\n",
       "        vertical-align: top;\n",
       "    }\n",
       "\n",
       "    .dataframe thead th {\n",
       "        text-align: right;\n",
       "    }\n",
       "</style>\n",
       "<table border=\"1\" class=\"dataframe\">\n",
       "  <thead>\n",
       "    <tr style=\"text-align: right;\">\n",
       "      <th></th>\n",
       "      <th>text</th>\n",
       "      <th>article_id</th>\n",
       "      <th>clean_category</th>\n",
       "    </tr>\n",
       "  </thead>\n",
       "  <tbody>\n",
       "    <tr>\n",
       "      <th>0</th>\n",
       "      <td>Bekjendtgjørelser. Overfarten fra Rødbye Femme...</td>\n",
       "      <td>lol_60633</td>\n",
       "      <td>Bekjendtgjørelser</td>\n",
       "    </tr>\n",
       "    <tr>\n",
       "      <th>1</th>\n",
       "      <td>Endeel fine og andre ternede Tørklæder med fle...</td>\n",
       "      <td>lol_12841</td>\n",
       "      <td>Bekjendtgjørelser</td>\n",
       "    </tr>\n",
       "    <tr>\n",
       "      <th>2</th>\n",
       "      <td>Undvigte. Da Reserven Christen Madsen Saltvig ...</td>\n",
       "      <td>lol_08919</td>\n",
       "      <td>Bekjendtgjørelser</td>\n",
       "    </tr>\n",
       "    <tr>\n",
       "      <th>3</th>\n",
       "      <td>Dette bekjendtgjøres herved, saavel til Liebha...</td>\n",
       "      <td>lol_52440</td>\n",
       "      <td>Bekjendtgjørelser</td>\n",
       "    </tr>\n",
       "    <tr>\n",
       "      <th>4</th>\n",
       "      <td>Funden. Af en Soldat her paa Byens Gade, er fu...</td>\n",
       "      <td>lol_06887</td>\n",
       "      <td>Bekjendtgjørelser</td>\n",
       "    </tr>\n",
       "  </tbody>\n",
       "</table>\n",
       "</div>"
      ],
      "text/plain": [
       "                                                text article_id  \\\n",
       "0  Bekjendtgjørelser. Overfarten fra Rødbye Femme...  lol_60633   \n",
       "1  Endeel fine og andre ternede Tørklæder med fle...  lol_12841   \n",
       "2  Undvigte. Da Reserven Christen Madsen Saltvig ...  lol_08919   \n",
       "3  Dette bekjendtgjøres herved, saavel til Liebha...  lol_52440   \n",
       "4  Funden. Af en Soldat her paa Byens Gade, er fu...  lol_06887   \n",
       "\n",
       "      clean_category  \n",
       "0  Bekjendtgjørelser  \n",
       "1  Bekjendtgjørelser  \n",
       "2  Bekjendtgjørelser  \n",
       "3  Bekjendtgjørelser  \n",
       "4  Bekjendtgjørelser  "
      ]
     },
     "execution_count": 30,
     "metadata": {},
     "output_type": "execute_result"
    }
   ],
   "source": [
    "# 1. Sample 1000 rows per category from lol_df\n",
    "sampled_lol_df = (\n",
    "    lf_df.groupby('clean_category', group_keys=False)\n",
    "          .apply(lambda grp: grp.sample(n=1000, random_state=42))\n",
    "          .reset_index(drop=True)\n",
    ")[['text', 'article_id', 'clean_category']]\n",
    "\n",
    "# 2. Sample 3000 rows from aal_df and add a new 'clean_category' column with -1\n",
    "sampled_aal_df = aal_df.sample(n=3000, random_state=42).reset_index(drop=True)\n",
    "sampled_aal_df['clean_category'] = -1\n",
    "sampled_aal_df = sampled_aal_df[['text', 'article_id', 'clean_category']]\n",
    "\n",
    "# 3. Concatenate the two DataFrames\n",
    "new_df = pd.concat([sampled_lol_df, sampled_aal_df], ignore_index=True)\n",
    "\n",
    "new_df.head()"
   ]
  },
  {
   "cell_type": "code",
   "execution_count": 23,
   "metadata": {},
   "outputs": [
    {
     "data": {
      "text/plain": [
       "clean_category\n",
       "-1                   3000\n",
       "Bekjendtgjørelser    1000\n",
       "Jndenlandsk          1000\n",
       "Udenlandsk           1000\n",
       "Name: count, dtype: int64"
      ]
     },
     "execution_count": 23,
     "metadata": {},
     "output_type": "execute_result"
    }
   ],
   "source": [
    "new_df['clean_category'].value_counts()"
   ]
  },
  {
   "cell_type": "code",
   "execution_count": 31,
   "metadata": {},
   "outputs": [],
   "source": [
    "new_df.to_csv('../embeddings/input_classifier.csv')"
   ]
  }
 ],
 "metadata": {
  "kernelspec": {
   "display_name": "Python 3",
   "language": "python",
   "name": "python3"
  },
  "language_info": {
   "codemirror_mode": {
    "name": "ipython",
    "version": 3
   },
   "file_extension": ".py",
   "mimetype": "text/x-python",
   "name": "python",
   "nbconvert_exporter": "python",
   "pygments_lexer": "ipython3",
   "version": "3.12.3"
  }
 },
 "nbformat": 4,
 "nbformat_minor": 2
}
