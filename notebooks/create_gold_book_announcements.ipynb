{
 "cells": [
  {
   "cell_type": "code",
   "execution_count": 3,
   "id": "1b80e171",
   "metadata": {},
   "outputs": [],
   "source": [
    "import pandas as pd"
   ]
  },
  {
   "cell_type": "markdown",
   "id": "20169fc7",
   "metadata": {},
   "source": [
    "### Create annotated books subset"
   ]
  },
  {
   "cell_type": "code",
   "execution_count": null,
   "id": "eda8fc49",
   "metadata": {},
   "outputs": [],
   "source": [
    "date1 = '250422'\n",
    "date2 = '250415'\n",
    "date3 = '250503'"
   ]
  },
  {
   "cell_type": "code",
   "execution_count": 4,
   "id": "aa3a42c3",
   "metadata": {},
   "outputs": [
    {
     "data": {
      "text/plain": [
       "(724, 3)"
      ]
     },
     "execution_count": 4,
     "metadata": {},
     "output_type": "execute_result"
    }
   ],
   "source": [
    "books = pd.read_csv(f'../../newspaper_temp_files/random_sample_{date1}.csv', index_col=0)\n",
    "books = books[['article_id', 'book_announce', 'comment']]\n",
    "books = books[books['book_announce'].isin(['y', 'n'])]\n",
    "books.shape"
   ]
  },
  {
   "cell_type": "code",
   "execution_count": 5,
   "id": "78fe5ecf",
   "metadata": {},
   "outputs": [
    {
     "data": {
      "text/plain": [
       "(86, 2)"
      ]
     },
     "execution_count": 5,
     "metadata": {},
     "output_type": "execute_result"
    }
   ],
   "source": [
    "feuills = pd.read_csv(f'../../newspaper_temp_files/feuilleton_annotation_{date2}.csv')\n",
    "feuills = feuills[['article_id', 'is_book_announcement']]\n",
    "feuills = feuills[feuills['is_book_announcement'].isin(['y'])]\n",
    "feuills.shape"
   ]
  },
  {
   "cell_type": "code",
   "execution_count": 8,
   "id": "ea713d2e",
   "metadata": {},
   "outputs": [
    {
     "data": {
      "text/plain": [
       "article_id\n",
       "False    86\n",
       "Name: count, dtype: int64"
      ]
     },
     "execution_count": 8,
     "metadata": {},
     "output_type": "execute_result"
    }
   ],
   "source": [
    "feuills['article_id'].isin(books['article_id']).value_counts()"
   ]
  },
  {
   "cell_type": "code",
   "execution_count": 10,
   "id": "25f2bb19",
   "metadata": {},
   "outputs": [],
   "source": [
    "feuills = feuills.rename(columns={'is_book_announcement': 'book_announce'})"
   ]
  },
  {
   "cell_type": "code",
   "execution_count": 7,
   "id": "5a69fd4c",
   "metadata": {},
   "outputs": [
    {
     "data": {
      "text/html": [
       "<div>\n",
       "<style scoped>\n",
       "    .dataframe tbody tr th:only-of-type {\n",
       "        vertical-align: middle;\n",
       "    }\n",
       "\n",
       "    .dataframe tbody tr th {\n",
       "        vertical-align: top;\n",
       "    }\n",
       "\n",
       "    .dataframe thead th {\n",
       "        text-align: right;\n",
       "    }\n",
       "</style>\n",
       "<table border=\"1\" class=\"dataframe\">\n",
       "  <thead>\n",
       "    <tr style=\"text-align: right;\">\n",
       "      <th></th>\n",
       "      <th>article_id</th>\n",
       "      <th>book_announce</th>\n",
       "    </tr>\n",
       "  </thead>\n",
       "  <tbody>\n",
       "    <tr>\n",
       "      <th>0</th>\n",
       "      <td>vib_100957</td>\n",
       "      <td>n</td>\n",
       "    </tr>\n",
       "    <tr>\n",
       "      <th>1</th>\n",
       "      <td>aal_077787</td>\n",
       "      <td>n</td>\n",
       "    </tr>\n",
       "    <tr>\n",
       "      <th>2</th>\n",
       "      <td>lol_064366</td>\n",
       "      <td>n</td>\n",
       "    </tr>\n",
       "    <tr>\n",
       "      <th>3</th>\n",
       "      <td>thi_038158</td>\n",
       "      <td>n</td>\n",
       "    </tr>\n",
       "    <tr>\n",
       "      <th>4</th>\n",
       "      <td>ode_193319</td>\n",
       "      <td>n</td>\n",
       "    </tr>\n",
       "  </tbody>\n",
       "</table>\n",
       "</div>"
      ],
      "text/plain": [
       "   article_id book_announce\n",
       "0  vib_100957             n\n",
       "1  aal_077787             n\n",
       "2  lol_064366             n\n",
       "3  thi_038158             n\n",
       "4  ode_193319             n"
      ]
     },
     "execution_count": 7,
     "metadata": {},
     "output_type": "execute_result"
    }
   ],
   "source": [
    "extra_gold = pd.read_csv('../../newspaper_temp_files/extra_gold.csv')\n",
    "extra_gold.head()"
   ]
  },
  {
   "cell_type": "code",
   "execution_count": 16,
   "id": "0cb1eb70",
   "metadata": {},
   "outputs": [],
   "source": [
    "book_gold = pd.concat([books, feuills, extra_gold])\n",
    "book_gold = book_gold.drop_duplicates(subset='article_id', keep='first')"
   ]
  },
  {
   "cell_type": "code",
   "execution_count": 17,
   "id": "705e44e3",
   "metadata": {},
   "outputs": [
    {
     "data": {
      "text/plain": [
       "book_announce\n",
       "n    622\n",
       "y    281\n",
       "Name: count, dtype: int64"
      ]
     },
     "execution_count": 17,
     "metadata": {},
     "output_type": "execute_result"
    }
   ],
   "source": [
    "book_gold['book_announce'].value_counts()"
   ]
  },
  {
   "cell_type": "code",
   "execution_count": 18,
   "id": "c416eae4",
   "metadata": {},
   "outputs": [],
   "source": [
    "book_gold.to_csv('../../newspaper_temp_files/annotated_books_gold_250503.csv')"
   ]
  }
 ],
 "metadata": {
  "kernelspec": {
   "display_name": "Python 3",
   "language": "python",
   "name": "python3"
  },
  "language_info": {
   "codemirror_mode": {
    "name": "ipython",
    "version": 3
   },
   "file_extension": ".py",
   "mimetype": "text/x-python",
   "name": "python",
   "nbconvert_exporter": "python",
   "pygments_lexer": "ipython3",
   "version": "3.12.3"
  }
 },
 "nbformat": 4,
 "nbformat_minor": 5
}
