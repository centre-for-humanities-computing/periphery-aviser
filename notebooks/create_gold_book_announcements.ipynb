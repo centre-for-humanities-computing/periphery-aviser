{
 "cells": [
  {
   "cell_type": "code",
   "execution_count": 2,
   "id": "1b80e171",
   "metadata": {},
   "outputs": [],
   "source": [
    "import pandas as pd"
   ]
  },
  {
   "cell_type": "markdown",
   "id": "20169fc7",
   "metadata": {},
   "source": [
    "### Create annotated books subset"
   ]
  },
  {
   "cell_type": "code",
   "execution_count": 3,
   "id": "eda8fc49",
   "metadata": {},
   "outputs": [],
   "source": [
    "date1 = '250422'\n",
    "date2 = '250415'"
   ]
  },
  {
   "cell_type": "code",
   "execution_count": 4,
   "id": "aa3a42c3",
   "metadata": {},
   "outputs": [
    {
     "data": {
      "text/plain": [
       "(724, 3)"
      ]
     },
     "execution_count": 4,
     "metadata": {},
     "output_type": "execute_result"
    }
   ],
   "source": [
    "books = pd.read_csv(f'../../newspaper_temp_files/random_sample_{date1}.csv', index_col=0)\n",
    "books = books[['article_id', 'book_announce', 'comment']]\n",
    "books = books[books['book_announce'].isin(['y', 'n'])]\n",
    "books.shape"
   ]
  },
  {
   "cell_type": "code",
   "execution_count": 5,
   "id": "78fe5ecf",
   "metadata": {},
   "outputs": [
    {
     "data": {
      "text/plain": [
       "(86, 2)"
      ]
     },
     "execution_count": 5,
     "metadata": {},
     "output_type": "execute_result"
    }
   ],
   "source": [
    "feuills = pd.read_csv(f'../../newspaper_temp_files/feuilleton_annotation_{date2}.csv')\n",
    "feuills = feuills[['article_id', 'is_book_announcement']]\n",
    "feuills = feuills[feuills['is_book_announcement'].isin(['y'])]\n",
    "feuills.shape"
   ]
  },
  {
   "cell_type": "code",
   "execution_count": 6,
   "id": "ea713d2e",
   "metadata": {},
   "outputs": [
    {
     "data": {
      "text/plain": [
       "article_id\n",
       "False    86\n",
       "Name: count, dtype: int64"
      ]
     },
     "execution_count": 6,
     "metadata": {},
     "output_type": "execute_result"
    }
   ],
   "source": [
    "feuills['article_id'].isin(books['article_id']).value_counts()"
   ]
  },
  {
   "cell_type": "code",
   "execution_count": 7,
   "id": "25f2bb19",
   "metadata": {},
   "outputs": [],
   "source": [
    "feuills = feuills.rename(columns={'is_book_announcement': 'book_announce'})"
   ]
  },
  {
   "cell_type": "code",
   "execution_count": 8,
   "id": "0cb1eb70",
   "metadata": {},
   "outputs": [],
   "source": [
    "book_gold = pd.concat([books, feuills])"
   ]
  },
  {
   "cell_type": "code",
   "execution_count": 9,
   "id": "705e44e3",
   "metadata": {},
   "outputs": [
    {
     "data": {
      "text/plain": [
       "book_announce\n",
       "n    546\n",
       "y    264\n",
       "Name: count, dtype: int64"
      ]
     },
     "execution_count": 9,
     "metadata": {},
     "output_type": "execute_result"
    }
   ],
   "source": [
    "book_gold['book_announce'].value_counts()"
   ]
  },
  {
   "cell_type": "code",
   "execution_count": 10,
   "id": "c416eae4",
   "metadata": {},
   "outputs": [],
   "source": [
    "book_gold.to_csv('../../newspaper_temp_files/annotated_books_gold.csv')"
   ]
  }
 ],
 "metadata": {
  "kernelspec": {
   "display_name": "Python 3",
   "language": "python",
   "name": "python3"
  },
  "language_info": {
   "codemirror_mode": {
    "name": "ipython",
    "version": 3
   },
   "file_extension": ".py",
   "mimetype": "text/x-python",
   "name": "python",
   "nbconvert_exporter": "python",
   "pygments_lexer": "ipython3",
   "version": "3.12.3"
  }
 },
 "nbformat": 4,
 "nbformat_minor": 5
}
